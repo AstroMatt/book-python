{
 "cells": [
  {
   "cell_type": "markdown",
   "metadata": {},
   "source": [
    "# Regular Expressions"
   ]
  },
  {
   "cell_type": "code",
   "execution_count": 2,
   "metadata": {},
   "outputs": [],
   "source": [
    "import re"
   ]
  },
  {
   "cell_type": "markdown",
   "metadata": {},
   "source": [
    "## Phone Number Validation\n",
    "\n",
    "1. Użyj wyrażeń regularnych do walidacji numeru telefonu\n",
    "1. Sprawdź wszystkie podane numery (patrz sekcja input)\n",
    "1. Poprawne formaty numeru:\n",
    "\n",
    "    - Wersja łatwa: ``+## ### ### ###``\n",
    "    - Wersja trudniejsza: ``+## ### ### ###`` lub ``+## ## ### ####``\n",
    "\n",
    "```\n",
    "+48 (12) 355 5678\n",
    "+48 123 555 678\n",
    "123 555 678\n",
    "+48 12 355 5678\n",
    "+48 123-555-678\n",
    "+48 123 555 6789\n",
    "+1 (123) 555-6789\n",
    "+1 (123).555.6789\n",
    "+1 800-python\n",
    "+48123555678\n",
    "+48 123 555 678 wew. 1337\n",
    "+48 123555678,1\n",
    "+48 123555678,1,2,3\n",
    "```"
   ]
  },
  {
   "cell_type": "code",
   "execution_count": 26,
   "metadata": {},
   "outputs": [
    {
     "name": "stdout",
     "output_type": "stream",
     "text": [
      "False\t+48 (12) 355 5678\n",
      "True\t+48 123 555 678\n",
      "False\t123 555 678\n",
      "True\t+48 12 355 5678\n",
      "False\t+48 123-555-678\n",
      "True\t+48 123 555 6789\n",
      "False\t+1 (123) 555-6789\n",
      "False\t+1 (123).555.6789\n",
      "False\t+1 800-python\n",
      "False\t+48123555678\n",
      "True\t+48 123 555 678 wew. 1337\n",
      "False\t+48 123555678,1\n",
      "False\t+48 123555678,1,2,3\n"
     ]
    }
   ],
   "source": [
    "KOMORKA = r'(\\+\\d\\d \\d\\d\\d \\d\\d\\d \\d\\d\\d)'\n",
    "STACJONARNY = r'(\\+\\d\\d \\d\\d \\d\\d\\d \\d\\d\\d\\d)'\n",
    "\n",
    "PATTERN = f'^{KOMORKA}|{STACJONARNY}$'\n",
    "\n",
    "\n",
    "import re\n",
    "\n",
    "def is_valid_phone(number):\n",
    "    if re.match(PATTERN, number):\n",
    "        return True\n",
    "    else:\n",
    "        return False\n",
    "    \n",
    "INPUT = [\n",
    "    '+48 (12) 355 5678',\n",
    "    '+48 123 555 678',\n",
    "    '123 555 678',\n",
    "    '+48 12 355 5678',\n",
    "    '+48 123-555-678',\n",
    "    '+48 123 555 6789',\n",
    "    '+1 (123) 555-6789',\n",
    "    '+1 (123).555.6789',\n",
    "    '+1 800-python',\n",
    "    '+48123555678',\n",
    "    '+48 123 555 678 wew. 1337',\n",
    "    '+48 123555678,1',\n",
    "    '+48 123555678,1,2,3',\n",
    "]\n",
    "\n",
    "for number in INPUT:\n",
    "    result = is_valid_phone(number)\n",
    "    print(f'{result}\\t{number}')"
   ]
  },
  {
   "cell_type": "markdown",
   "metadata": {},
   "source": [
    "## Regexp Search\n",
    "\n",
    "1. Pobierz :download:`data/apollo11-header.txt` i zapisz jako ``search_astronauts.txt``\n",
    "1. Użyj ``re.search()`` do sprawdzenia czy imiona i nazwiska Astronautów występują w tekście\n",
    "1. Astronauts do znalezienia:\n",
    "\n",
    "    * Neil Armstrong\n",
    "    * Buzz Aldrin\n",
    "    * Michael Collins\n",
    "    * Jan Twardowski\n",
    "    * Mark Watney"
   ]
  },
  {
   "cell_type": "code",
   "execution_count": 28,
   "metadata": {},
   "outputs": [],
   "source": [
    "TEXT = \"\"\"Apollo 11 was the spaceflight that first landed humans on the Moon. Commander Neil Armstrong and lunar module pilot Buzz Aldrin formed the American crew that landed the Apollo Lunar Module Eagle on July 20, 1969, at 20:17 UTC. Armstrong became the first person to step onto the lunar surface six hours and 39 minutes later on July 21 at 02:56 UTC; Aldrin joined him 19 minutes later. They spent about two and a quarter hours together outside the spacecraft, and they collected 47.5 pounds (21.5 kg) of lunar material to bring back to Earth. Command module pilot Michael Collins flew the command module Columbia alone in lunar orbit while they were on the Moon's surface. Armstrong and Aldrin spent 21 hours, 36 minutes on the lunar surface at a site they named Tranquility Base before lifting off to rejoin Columbia in lunar orbit.\"\"\""
   ]
  },
  {
   "cell_type": "code",
   "execution_count": 35,
   "metadata": {},
   "outputs": [
    {
     "name": "stdout",
     "output_type": "stream",
     "text": [
      "True\n",
      "False\n"
     ]
    }
   ],
   "source": [
    "def contains(name):\n",
    "    if re.search(name, TEXT):\n",
    "        return True\n",
    "    else:\n",
    "        return False\n",
    "    \n",
    "\n",
    "print(contains('Neil Armstrong'))\n",
    "print(contains('Mark Watney'))"
   ]
  },
  {
   "cell_type": "markdown",
   "metadata": {},
   "source": [
    "## Moon Speech (search)\n",
    "\n",
    "1. Pobierz tekst przemówienia \"Moon Speech\" :download:`data/moon_speech.html`\n",
    "1. Zapisz jako ``moon_speech.html``\n",
    "1. Za pomocą ``re.search()`` podziel tekst na paragrafy\n",
    "1. Wyświetl paragraf zaczynający się od słów \"We choose to go to the moon\"\n",
    "    "
   ]
  },
  {
   "cell_type": "code",
   "execution_count": 3,
   "metadata": {},
   "outputs": [
    {
     "name": "stdout",
     "output_type": "stream",
     "text": [
      "We choose to go to the moon. We choose to go to the moon in this decade and do the other things, not because they are easy, but because they\n"
     ]
    }
   ],
   "source": [
    "PARAGRAPH = r'</?p>'\n",
    "WE_CHOOSE = r'^(?P<we_choose>We choose .*)'\n",
    "\n",
    "\n",
    "with open('moon_speech.html') as file:\n",
    "    content = file.read()\n",
    "    \n",
    "    \n",
    "for p in re.split(PARAGRAPH, content):\n",
    "    result = re.match(WE_CHOOSE, p)\n",
    "    \n",
    "    if result:\n",
    "        print(result.group('we_choose'))"
   ]
  }
 ],
 "metadata": {
  "kernelspec": {
   "display_name": "Python 3",
   "language": "python",
   "name": "python3"
  },
  "language_info": {
   "codemirror_mode": {
    "name": "ipython",
    "version": 3
   },
   "file_extension": ".py",
   "mimetype": "text/x-python",
   "name": "python",
   "nbconvert_exporter": "python",
   "pygments_lexer": "ipython3",
   "version": "3.8.2"
  }
 },
 "nbformat": 4,
 "nbformat_minor": 4
}
