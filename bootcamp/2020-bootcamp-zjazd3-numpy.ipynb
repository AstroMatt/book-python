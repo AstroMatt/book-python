{
 "cells": [
  {
   "cell_type": "markdown",
   "metadata": {},
   "source": [
    "# NumPy"
   ]
  },
  {
   "cell_type": "markdown",
   "metadata": {},
   "source": [
    "## Load Dirty CSV\n",
    "\n",
    "1. Wczytaj tekst z URL podanego na wejściu (patrz sekcja input)\n",
    "1. Z pierwszej linii wybierz nazwy gatunków Irysów i zapisz rezultat jako ``species: ndarray``\n",
    "1. W pozostałych linii:\n",
    "\n",
    "    * Wczytaj kolumny z danymi i zapisz do ``features: ndarray``\n",
    "    * Wczytaj ostatnią kolumnę z numerami gatunków i zapisz do ``labels: ndarray``\n",
    "\n",
    "1. Wyświetl ``species``, ``labels`` i ``features``"
   ]
  },
  {
   "cell_type": "code",
   "execution_count": 1,
   "metadata": {},
   "outputs": [],
   "source": [
    "import numpy as np\n",
    "\n",
    "url = 'https://raw.githubusercontent.com/AstroMatt/book-python/master/numerical-analysis/numpy/data/iris-dirty.csv'\n",
    "\n",
    "species = np.loadtxt(url, max_rows=1, delimiter=',', usecols=(2,3,4), dtype=str)\n",
    "features = np.loadtxt(url, skiprows=1, delimiter=',', usecols=(0,1,2,3))\n",
    "labels = np.loadtxt(url, skiprows=1, delimiter=',', usecols=(4))"
   ]
  },
  {
   "cell_type": "markdown",
   "metadata": {},
   "source": [
    "## Array Create\n",
    "1. Stwórz ``a: ndarray`` z liczbami parzystymi od 0 do 100\n",
    "1. Liczby muszą być typu ``float``"
   ]
  },
  {
   "cell_type": "code",
   "execution_count": 2,
   "metadata": {},
   "outputs": [
    {
     "data": {
      "text/plain": [
       "array([ 0.,  2.,  4.,  6.,  8., 10., 12., 14., 16., 18., 20., 22., 24.,\n",
       "       26., 28., 30., 32., 34., 36., 38., 40., 42., 44., 46., 48., 50.,\n",
       "       52., 54., 56., 58., 60., 62., 64., 66., 68., 70., 72., 74., 76.,\n",
       "       78., 80., 82., 84., 86., 88., 90., 92., 94., 96., 98.])"
      ]
     },
     "execution_count": 2,
     "metadata": {},
     "output_type": "execute_result"
    }
   ],
   "source": [
    "## Results with ``%%timeit -n 1_000_000 -r 10``\n",
    "\n",
    "np.arange(0, 100, step=2, dtype=float)\n",
    "# 756 ns ± 10.3 ns per loop (mean ± std. dev. of 10 runs, 1000000 loops each)\n",
    "\n",
    "np.array(range(0, 100, 2), dtype=float)\n",
    "# 8.28 µs ± 364 ns per loop (mean ± std. dev. of 10 runs, 1000000 loops each)\n",
    "\n",
    "np.array([x for x in range(0, 100) if x % 2 == 0], dtype=float)\n",
    "# 9.76 µs ± 324 ns per loop (mean ± std. dev. of 10 runs, 1000000 loops each)\n",
    "\n",
    "np.array([float(x) for x in range(0, 100) if x % 2 == 0])\n",
    "# 12.7 µs ± 195 ns per loop (mean ± std. dev. of 10 runs, 1000000 loops each)\n",
    "\n",
    "np.array([float(x) for x in range(0, 100, 2)])\n",
    "# 8.35 µs ± 196 ns per loop (mean ± std. dev. of 10 runs, 1000000 loops each)\n",
    "\n",
    "np.array([x for x in range(0, 100, 2)], dtype=float)\n",
    "# 5.89 µs ± 77 ns per loop (mean ± std. dev. of 10 runs, 1000000 loops each)"
   ]
  },
  {
   "cell_type": "markdown",
   "metadata": {},
   "source": [
    "## Random Float\n",
    "\n",
    "1. Ustaw ziarno losowości na zero\n",
    "1. Wypisz ``ndarray`` z 10 losowymi liczbami zmiennoprzecinkowymi"
   ]
  },
  {
   "cell_type": "code",
   "execution_count": 3,
   "metadata": {},
   "outputs": [
    {
     "data": {
      "text/plain": [
       "array([0.5488135 , 0.71518937, 0.60276338, 0.54488318, 0.4236548 ,\n",
       "       0.64589411, 0.43758721, 0.891773  , 0.96366276, 0.38344152])"
      ]
     },
     "execution_count": 3,
     "metadata": {},
     "output_type": "execute_result"
    }
   ],
   "source": [
    "np.random.seed(0)\n",
    "np.random.random(size=10)"
   ]
  },
  {
   "cell_type": "markdown",
   "metadata": {},
   "source": [
    "## Random Int\n",
    "\n",
    "1. Ustaw ziarno losowości na zero\n",
    "1. Print ``ndarray`` o rozmiarze 16x16 z losowymi liczbami całkowitymi ``<0,9>`` (włącznie)"
   ]
  },
  {
   "cell_type": "code",
   "execution_count": 4,
   "metadata": {},
   "outputs": [
    {
     "data": {
      "text/plain": [
       "array([[5, 0, 3, 3, 7, 9, 3, 5, 2, 4, 7, 6, 8, 8, 1, 6],\n",
       "       [7, 7, 8, 1, 5, 9, 8, 9, 4, 3, 0, 3, 5, 0, 2, 3],\n",
       "       [8, 1, 3, 3, 3, 7, 0, 1, 9, 9, 0, 4, 7, 3, 2, 7],\n",
       "       [2, 0, 0, 4, 5, 5, 6, 8, 4, 1, 4, 9, 8, 1, 1, 7],\n",
       "       [9, 9, 3, 6, 7, 2, 0, 3, 5, 9, 4, 4, 6, 4, 4, 3],\n",
       "       [4, 4, 8, 4, 3, 7, 5, 5, 0, 1, 5, 9, 3, 0, 5, 0],\n",
       "       [1, 2, 4, 2, 0, 3, 2, 0, 7, 5, 9, 0, 2, 7, 2, 9],\n",
       "       [2, 3, 3, 2, 3, 4, 1, 2, 9, 1, 4, 6, 8, 2, 3, 0],\n",
       "       [0, 6, 0, 6, 3, 3, 8, 8, 8, 2, 3, 2, 0, 8, 8, 3],\n",
       "       [8, 2, 8, 4, 3, 0, 4, 3, 6, 9, 8, 0, 8, 5, 9, 0],\n",
       "       [9, 6, 5, 3, 1, 8, 0, 4, 9, 6, 5, 7, 8, 8, 9, 2],\n",
       "       [8, 6, 6, 9, 1, 6, 8, 8, 3, 2, 3, 6, 3, 6, 5, 7],\n",
       "       [0, 8, 4, 6, 5, 8, 2, 3, 9, 7, 5, 3, 4, 5, 3, 3],\n",
       "       [7, 9, 9, 9, 7, 3, 2, 3, 9, 7, 7, 5, 1, 2, 2, 8],\n",
       "       [1, 5, 8, 4, 0, 2, 5, 5, 0, 8, 1, 1, 0, 3, 8, 8],\n",
       "       [4, 4, 0, 9, 3, 7, 3, 2, 1, 1, 2, 1, 4, 2, 5, 5]])"
      ]
     },
     "execution_count": 4,
     "metadata": {},
     "output_type": "execute_result"
    }
   ],
   "source": [
    "np.random.seed(0)\n",
    "np.random.randint(0, 10, size=(16, 16))"
   ]
  },
  {
   "cell_type": "markdown",
   "metadata": {},
   "source": [
    "## Random Sample\n",
    "\n",
    "1. Ustaw ziarno losowości na zero\n",
    "1. Wyświetl 6 losowych i nie powtarzających się liczb całkowitych z zakresu od 1 do 49."
   ]
  },
  {
   "cell_type": "code",
   "execution_count": 5,
   "metadata": {},
   "outputs": [
    {
     "data": {
      "text/plain": [
       "array([30,  5, 27, 31, 33, 38])"
      ]
     },
     "execution_count": 5,
     "metadata": {},
     "output_type": "execute_result"
    }
   ],
   "source": [
    "np.random.seed(0)\n",
    "np.random.choice(np.arange(1,49), 6, replace=False)"
   ]
  },
  {
   "cell_type": "markdown",
   "metadata": {},
   "source": [
    "## As Type\n",
    "\n",
    "1. Dany ``a: ndarray`` (patrz sekcja input)\n",
    "1. Przekonwertuj do typu ``int``\n",
    "1. Rezultat rzutuj na typ ``bool``\n",
    "1. Co się stało w każdym z tych kroków?"
   ]
  },
  {
   "cell_type": "code",
   "execution_count": 6,
   "metadata": {},
   "outputs": [],
   "source": [
    "a = np.array([[-1.1, 0.0, 1.1],\n",
    "              [ 2.2, 3.3, 4.4]])"
   ]
  },
  {
   "cell_type": "code",
   "execution_count": 7,
   "metadata": {},
   "outputs": [
    {
     "data": {
      "text/plain": [
       "array([[-1,  0,  1],\n",
       "       [ 2,  3,  4]])"
      ]
     },
     "execution_count": 7,
     "metadata": {},
     "output_type": "execute_result"
    }
   ],
   "source": [
    "a.astype(int)"
   ]
  },
  {
   "cell_type": "code",
   "execution_count": 8,
   "metadata": {},
   "outputs": [
    {
     "data": {
      "text/plain": [
       "array([[ True, False,  True],\n",
       "       [ True,  True,  True]])"
      ]
     },
     "execution_count": 8,
     "metadata": {},
     "output_type": "execute_result"
    }
   ],
   "source": [
    "a.astype(bool)"
   ]
  },
  {
   "cell_type": "markdown",
   "metadata": {},
   "source": [
    "## Array Attributes\n",
    "\n",
    "1. Ustaw ziarno losowości na zero.\n",
    "1. Stwórz ``a: ndarray`` o rozmiarze 16x16.\n",
    "1. Struktura musi zawierać losowe liczby (0-9).\n",
    "1. Wypisz liczbę:\n",
    "\n",
    "    * wymiarów,\n",
    "    * kolumn,\n",
    "    * wierszy,\n",
    "    * ilość elementów.\n"
   ]
  },
  {
   "cell_type": "code",
   "execution_count": 9,
   "metadata": {},
   "outputs": [
    {
     "name": "stdout",
     "output_type": "stream",
     "text": [
      "Ndim: 2\n",
      "Size: 256\n",
      "Dtype: int64\n",
      "Itemsize: 8\n",
      "Shape: (16, 16)\n",
      "Strides: (128, 8)\n"
     ]
    }
   ],
   "source": [
    "a = np.random.randint(0, 10, size=(16, 16))\n",
    "\n",
    "print('Ndim:', a.ndim)\n",
    "print('Size:', a.size)\n",
    "print('Dtype:', a.dtype)\n",
    "print('Itemsize:', a.itemsize)\n",
    "print('Shape:', a.shape)\n",
    "print('Strides:', a.strides)"
   ]
  },
  {
   "cell_type": "markdown",
   "metadata": {},
   "source": [
    "## Shape\n",
    "\n",
    "1. Dany ``a: ndarray`` (patrz sekcja input)\n",
    "1. Spłaszcz używając metody ``.ravel()``\n",
    "1. Wypisz ``a``\n",
    "1. Zmień kształt na powrót na 3x3\n",
    "1. Wypisz ``a``"
   ]
  },
  {
   "cell_type": "code",
   "execution_count": 10,
   "metadata": {},
   "outputs": [],
   "source": [
    "a = np.array([[1, 2, 3],\n",
    "              [4, 5, 6],\n",
    "              [7, 8, 9]])"
   ]
  },
  {
   "cell_type": "code",
   "execution_count": 11,
   "metadata": {},
   "outputs": [
    {
     "data": {
      "text/plain": [
       "array([1, 2, 3, 4, 5, 6, 7, 8, 9])"
      ]
     },
     "execution_count": 11,
     "metadata": {},
     "output_type": "execute_result"
    }
   ],
   "source": [
    "b = a.ravel()\n",
    "b"
   ]
  },
  {
   "cell_type": "code",
   "execution_count": 12,
   "metadata": {},
   "outputs": [
    {
     "data": {
      "text/plain": [
       "array([[1, 2, 3],\n",
       "       [4, 5, 6],\n",
       "       [7, 8, 9]])"
      ]
     },
     "execution_count": 12,
     "metadata": {},
     "output_type": "execute_result"
    }
   ],
   "source": [
    "b.reshape(3, 3)"
   ]
  },
  {
   "cell_type": "markdown",
   "metadata": {},
   "source": [
    "## Indexing\n",
    "\n",
    "1. Stwórz ``output: ndarray``\n",
    "1. Dodaj do ``output`` elementy z ``INPUT`` (patrz sekcja input) o indeksach:\n",
    "\n",
    "    - wiersz 0, kolumna 2\n",
    "    - wiersz 2, kolumna 2\n",
    "    - wiersz 0, kolumna 0\n",
    "    - wiersz 1, kolumna 0\n",
    "\n",
    "1. Rozmiar ``output`` musi być 2x2\n",
    "1. Typ ``output`` musi być float"
   ]
  },
  {
   "cell_type": "code",
   "execution_count": 13,
   "metadata": {},
   "outputs": [],
   "source": [
    "INPUT = np.array([\n",
    "    [1, 2, 3],\n",
    "    [4, 5, 6],\n",
    "    [7, 8, 9]\n",
    "])"
   ]
  },
  {
   "cell_type": "code",
   "execution_count": 14,
   "metadata": {},
   "outputs": [
    {
     "data": {
      "text/plain": [
       "array([[3., 9.],\n",
       "       [1., 6.]])"
      ]
     },
     "execution_count": 14,
     "metadata": {},
     "output_type": "execute_result"
    }
   ],
   "source": [
    "np.array([\n",
    "    INPUT[0,2],\n",
    "    INPUT[2,2],\n",
    "    INPUT[0,0],\n",
    "    INPUT[1,2],\n",
    "], dtype=float).reshape(2, 2)"
   ]
  },
  {
   "cell_type": "markdown",
   "metadata": {},
   "source": [
    "## Array Slicing\n",
    "\n",
    "1. Użyj wejściowej ndarray (patrz sekcja input)\n",
    "1. Wyisz wewnętrzne 2x2 elementy"
   ]
  },
  {
   "cell_type": "code",
   "execution_count": 15,
   "metadata": {},
   "outputs": [],
   "source": [
    "INPUT = np.array([\n",
    "    [2, 8, 1, 5],\n",
    "    [8, 8, 4, 4],\n",
    "    [5, 5, 2, 5],\n",
    "    [1, 0, 6, 0],\n",
    "])"
   ]
  },
  {
   "cell_type": "code",
   "execution_count": 16,
   "metadata": {},
   "outputs": [
    {
     "data": {
      "text/plain": [
       "array([[8, 4],\n",
       "       [5, 2]])"
      ]
     },
     "execution_count": 16,
     "metadata": {},
     "output_type": "execute_result"
    }
   ],
   "source": [
    "INPUT[1:3, 1:3]"
   ]
  },
  {
   "cell_type": "markdown",
   "metadata": {},
   "source": [
    "## Sum of inner elements\n",
    "\n",
    "1. Użyj tylko funkcji z modułu ``random`` biblioteki ``numpy``\n",
    "1. Ustaw ziarno losowości na zero\n",
    "1. Wygeneruj ``INPUT: ndarray`` z 16x16 losowych cyfr (0-9 włącznie)\n",
    "1. Policz sumę środkowych 4x4 elementów\n",
    "1. Środkowa macierz jest dokładnie w środku większej"
   ]
  },
  {
   "cell_type": "code",
   "execution_count": 17,
   "metadata": {},
   "outputs": [
    {
     "name": "stdout",
     "output_type": "stream",
     "text": [
      "75\n"
     ]
    }
   ],
   "source": [
    "np.random.seed(0)\n",
    "\n",
    "\n",
    "a = np.random.randint(0, 10, size=(16, 16))\n",
    "b = a[6:-6, 6:-6]\n",
    "\n",
    "print(b.sum())"
   ]
  },
  {
   "cell_type": "code",
   "execution_count": 18,
   "metadata": {
    "scrolled": true
   },
   "outputs": [
    {
     "data": {
      "text/plain": [
       "75"
      ]
     },
     "execution_count": 18,
     "metadata": {},
     "output_type": "execute_result"
    }
   ],
   "source": [
    "np.random.seed(0)\n",
    "\n",
    "NUM_X = 16\n",
    "NUM_Y = 16\n",
    "INNER_X = 4\n",
    "INNER_Y = 4\n",
    "\n",
    "\n",
    "a = np.random.randint(0, 10, size=(NUM_X, NUM_Y))\n",
    "\n",
    "margines_x = int((NUM_X - INNER_X) / 2)\n",
    "margines_y = int((NUM_Y - INNER_Y) / 2)\n",
    "a[margines_x:-margines_x, margines_y:-margines_y].sum()"
   ]
  },
  {
   "cell_type": "markdown",
   "metadata": {},
   "source": [
    "## Array Iteration\n",
    "\n",
    "1. Dany ``a: ndarray`` (patrz sekcja input)\n",
    "1. Używając ``for`` iteruj po ``INPUT``\n",
    "1. Wypisz liczby parzyste"
   ]
  },
  {
   "cell_type": "code",
   "execution_count": 19,
   "metadata": {},
   "outputs": [],
   "source": [
    "INPUT = np.array([[1, 2, 3],\n",
    "                  [4, 5, 6],\n",
    "                  [7, 8, 9]])"
   ]
  },
  {
   "cell_type": "code",
   "execution_count": 20,
   "metadata": {},
   "outputs": [
    {
     "name": "stdout",
     "output_type": "stream",
     "text": [
      "2\n",
      "4\n",
      "6\n",
      "8\n"
     ]
    }
   ],
   "source": [
    "for num in INPUT.ravel():\n",
    "    if num % 2 == 0:\n",
    "        print(num)"
   ]
  },
  {
   "cell_type": "markdown",
   "metadata": {},
   "source": [
    "## Clip\n",
    "\n",
    "1. Ustaw ziarno losowości na zero\n",
    "1. Wygeneruj ``a: ndarray`` z 21 losowymi liczbami całkowitymi od 0 do 100 (rozłącznie)\n",
    "1. Zmień kształt na 7x3\n",
    "1. Przytnij liczby w pierwszej kolumnie od 50 (włącznie) do 80 (rozłącznie)\n",
    "1. Wypisz ``a``"
   ]
  },
  {
   "cell_type": "code",
   "execution_count": 21,
   "metadata": {},
   "outputs": [
    {
     "data": {
      "text/plain": [
       "array([[44, 47, 64],\n",
       "       [67, 67,  9],\n",
       "       [83, 21, 36],\n",
       "       [87, 70, 88],\n",
       "       [88, 12, 58],\n",
       "       [65, 39, 87],\n",
       "       [46, 88, 81]])"
      ]
     },
     "execution_count": 21,
     "metadata": {},
     "output_type": "execute_result"
    }
   ],
   "source": [
    "np.random.seed(0)\n",
    "\n",
    "a = np.random.randint(0, 100, size=21).reshape(7, 3)\n",
    "a"
   ]
  },
  {
   "cell_type": "code",
   "execution_count": 22,
   "metadata": {},
   "outputs": [
    {
     "data": {
      "text/plain": [
       "array([[50, 47, 64],\n",
       "       [67, 67,  9],\n",
       "       [80, 21, 36],\n",
       "       [80, 70, 88],\n",
       "       [80, 12, 58],\n",
       "       [65, 39, 87],\n",
       "       [50, 88, 81]])"
      ]
     },
     "execution_count": 22,
     "metadata": {},
     "output_type": "execute_result"
    }
   ],
   "source": [
    "a[:, 0] = a[:, 0].clip(50, 80)\n",
    "a"
   ]
  },
  {
   "cell_type": "markdown",
   "metadata": {},
   "source": [
    "## Array Methods\n",
    "\n",
    "1. Ustaw ziarno losowości na zero\n",
    "1. Wygeneruj ``a: ndarray`` z 12 losowymi liczbami całkowitymi od 0 do 100 (rozłącznie)\n",
    "1. Zmień kształt na 3x4\n",
    "1. Transponuj ``a``\n",
    "1. Wypisz ``a``"
   ]
  },
  {
   "cell_type": "code",
   "execution_count": 23,
   "metadata": {
    "scrolled": true
   },
   "outputs": [
    {
     "data": {
      "text/plain": [
       "array([[44,  9, 36],\n",
       "       [47, 21, 70],\n",
       "       [64, 67, 87],\n",
       "       [67, 83, 88]])"
      ]
     },
     "execution_count": 23,
     "metadata": {},
     "output_type": "execute_result"
    }
   ],
   "source": [
    "np.random.seed(0)\n",
    "\n",
    "a = np.random.randint(0, 100, size=12).reshape(3, 4)\n",
    "a.sort(axis=-1)  # a.sort(axis=1)\n",
    "a.transpose()"
   ]
  },
  {
   "cell_type": "markdown",
   "metadata": {},
   "source": [
    "## Arithmetic operations\n",
    "\n",
    "1. Dla danych: ``a: ndarray``, ``b: ndarray``, ``c: ndarray`` (patrz sekcja input)\n",
    "1. Oblicz pierwiastek kwadratowy każdego z elementu w ``a`` i ``b``\n",
    "1. Oblicz drugą potęgę (kwadrat) każdego z elementu w ``c``\n",
    "1. Dodaj elementy z ``a`` do ``b``\n",
    "1. Przemnóż wynik przez ``c``"
   ]
  },
  {
   "cell_type": "code",
   "execution_count": 24,
   "metadata": {},
   "outputs": [],
   "source": [
    "a = np.array([[0, 1], [2, 3]], float)\n",
    "b = np.array([2, 3], float)\n",
    "c = np.array([[1, 1], [4, 0]], float)"
   ]
  },
  {
   "cell_type": "code",
   "execution_count": 25,
   "metadata": {},
   "outputs": [
    {
     "data": {
      "text/plain": [
       "array([[ 1.41421356,  2.73205081],\n",
       "       [45.254834  ,  0.        ]])"
      ]
     },
     "execution_count": 25,
     "metadata": {},
     "output_type": "execute_result"
    }
   ],
   "source": [
    "a = np.sqrt(a)\n",
    "b = np.sqrt(b)\n",
    "c = np.power(c, 2)\n",
    "\n",
    "(a + b) * c"
   ]
  },
  {
   "cell_type": "markdown",
   "metadata": {},
   "source": [
    "## Array Addition\n",
    "\n",
    "1. Dodaj ``a`` i ``b``\n",
    "1. Dodaj ``b`` i ``a``\n",
    "1. Co się stało?"
   ]
  },
  {
   "cell_type": "code",
   "execution_count": 26,
   "metadata": {},
   "outputs": [],
   "source": [
    "a = np.array([[1, 0], [0, 1]])\n",
    "b = [[4, 1], [2, 2]]"
   ]
  },
  {
   "cell_type": "code",
   "execution_count": 27,
   "metadata": {},
   "outputs": [
    {
     "data": {
      "text/plain": [
       "array([[5, 1],\n",
       "       [2, 3]])"
      ]
     },
     "execution_count": 27,
     "metadata": {},
     "output_type": "execute_result"
    }
   ],
   "source": [
    "a + b"
   ]
  },
  {
   "cell_type": "code",
   "execution_count": 28,
   "metadata": {},
   "outputs": [
    {
     "data": {
      "text/plain": [
       "array([[5, 1],\n",
       "       [2, 3]])"
      ]
     },
     "execution_count": 28,
     "metadata": {},
     "output_type": "execute_result"
    }
   ],
   "source": [
    "b + a"
   ]
  },
  {
   "cell_type": "markdown",
   "metadata": {},
   "source": [
    "## Array Multiplication\n",
    "\n",
    "1. Dla danych: ``a: ndarray``, ``b: ndarray`` (patrz sekcja input)\n",
    "1. Przemnóż ``a`` i ``b`` używając mnożenia skalarnego\n",
    "1. Przemnóż ``a`` i ``b`` używając mnożenia macierzowego\n",
    "1. Przemnóż ``b`` i ``a`` używając mnożenia skalarnego\n",
    "1. Przemnóż ``b`` i ``a`` używając mnożenia macierzowego\n",
    "1. Omów wyniki"
   ]
  },
  {
   "cell_type": "code",
   "execution_count": 29,
   "metadata": {},
   "outputs": [],
   "source": [
    "a = np.array([[1,0,1,0],\n",
    "              [0,1,1,0],\n",
    "              [3,2,1,0],\n",
    "              [4,1,2,0]])\n",
    "\n",
    "b = np.array([[4,1],\n",
    "              [2,2],\n",
    "              [5,1],\n",
    "              [2,3]])"
   ]
  },
  {
   "cell_type": "code",
   "execution_count": 30,
   "metadata": {},
   "outputs": [
    {
     "ename": "ValueError",
     "evalue": "operands could not be broadcast together with shapes (4,4) (4,2) ",
     "output_type": "error",
     "traceback": [
      "\u001b[0;31m---------------------------------------------------------------------------\u001b[0m",
      "\u001b[0;31mValueError\u001b[0m                                Traceback (most recent call last)",
      "\u001b[0;32m<ipython-input-30-9bc1a869709f>\u001b[0m in \u001b[0;36m<module>\u001b[0;34m\u001b[0m\n\u001b[0;32m----> 1\u001b[0;31m \u001b[0ma\u001b[0m \u001b[0;34m*\u001b[0m \u001b[0mb\u001b[0m\u001b[0;34m\u001b[0m\u001b[0;34m\u001b[0m\u001b[0m\n\u001b[0m",
      "\u001b[0;31mValueError\u001b[0m: operands could not be broadcast together with shapes (4,4) (4,2) "
     ]
    }
   ],
   "source": [
    "a * b"
   ]
  },
  {
   "cell_type": "code",
   "execution_count": 31,
   "metadata": {
    "scrolled": true
   },
   "outputs": [
    {
     "data": {
      "text/plain": [
       "array([[ 9,  2],\n",
       "       [ 7,  3],\n",
       "       [21,  8],\n",
       "       [28,  8]])"
      ]
     },
     "execution_count": 31,
     "metadata": {},
     "output_type": "execute_result"
    }
   ],
   "source": [
    "a @ b"
   ]
  },
  {
   "cell_type": "code",
   "execution_count": 32,
   "metadata": {
    "scrolled": true
   },
   "outputs": [
    {
     "ename": "ValueError",
     "evalue": "operands could not be broadcast together with shapes (4,2) (4,4) ",
     "output_type": "error",
     "traceback": [
      "\u001b[0;31m---------------------------------------------------------------------------\u001b[0m",
      "\u001b[0;31mValueError\u001b[0m                                Traceback (most recent call last)",
      "\u001b[0;32m<ipython-input-32-f0e4c0ee4ba0>\u001b[0m in \u001b[0;36m<module>\u001b[0;34m\u001b[0m\n\u001b[0;32m----> 1\u001b[0;31m \u001b[0mb\u001b[0m \u001b[0;34m*\u001b[0m \u001b[0ma\u001b[0m\u001b[0;34m\u001b[0m\u001b[0;34m\u001b[0m\u001b[0m\n\u001b[0m",
      "\u001b[0;31mValueError\u001b[0m: operands could not be broadcast together with shapes (4,2) (4,4) "
     ]
    }
   ],
   "source": [
    "b * a"
   ]
  },
  {
   "cell_type": "code",
   "execution_count": 33,
   "metadata": {},
   "outputs": [
    {
     "ename": "ValueError",
     "evalue": "matmul: Input operand 1 has a mismatch in its core dimension 0, with gufunc signature (n?,k),(k,m?)->(n?,m?) (size 4 is different from 2)",
     "output_type": "error",
     "traceback": [
      "\u001b[0;31m---------------------------------------------------------------------------\u001b[0m",
      "\u001b[0;31mValueError\u001b[0m                                Traceback (most recent call last)",
      "\u001b[0;32m<ipython-input-33-6948e4cb9803>\u001b[0m in \u001b[0;36m<module>\u001b[0;34m\u001b[0m\n\u001b[0;32m----> 1\u001b[0;31m \u001b[0mb\u001b[0m \u001b[0;34m@\u001b[0m \u001b[0ma\u001b[0m\u001b[0;34m\u001b[0m\u001b[0;34m\u001b[0m\u001b[0m\n\u001b[0m",
      "\u001b[0;31mValueError\u001b[0m: matmul: Input operand 1 has a mismatch in its core dimension 0, with gufunc signature (n?,k),(k,m?)->(n?,m?) (size 4 is different from 2)"
     ]
    }
   ],
   "source": [
    "b @ a"
   ]
  },
  {
   "cell_type": "markdown",
   "metadata": {},
   "source": [
    "## Array Concatenation\n",
    "\n",
    "1. Dane są jednowymiarowe: ``a: ndarray``, ``b: ndarray`` (patrz sekcja input)\n",
    "1. Połącz je ze sobą\n",
    "1. Przedstaw wynik jako ``ndarray``: dwa wiersze na trzy kolumny"
   ]
  },
  {
   "cell_type": "code",
   "execution_count": 34,
   "metadata": {},
   "outputs": [
    {
     "data": {
      "text/plain": [
       "array([[1, 2, 3],\n",
       "       [4, 5, 6]])"
      ]
     },
     "execution_count": 34,
     "metadata": {},
     "output_type": "execute_result"
    }
   ],
   "source": [
    "a = np.array([1, 2, 3])\n",
    "b = np.array([4, 5, 6])\n",
    "\n",
    "np.concatenate((a, b)).reshape(2, 3)"
   ]
  },
  {
   "cell_type": "markdown",
   "metadata": {},
   "source": [
    "## Array Logic\n",
    "\n",
    "1. Ustaw ziarno losowości na zero\n",
    "1. Wygeneruj ``a: ndarray`` z 9 losowymi liczbami całkowitymi od 0 do 100 (rozłącznie)\n",
    "1. Sprawdź parzyste elementy, które są mniejsze od 50\n",
    "1. Sprawdź czy wszystkie liczby spełniają ten warunek\n",
    "1. Sprawdź czy jakakolwiek liczba spełnia ten warunek"
   ]
  },
  {
   "cell_type": "code",
   "execution_count": 35,
   "metadata": {},
   "outputs": [
    {
     "name": "stdout",
     "output_type": "stream",
     "text": [
      "Any: True\n",
      "All: False\n"
     ]
    }
   ],
   "source": [
    "np.random.seed(0)\n",
    "\n",
    "a = np.random.randint(0, 100, size=9)\n",
    "b = np.logical_and(a % 2, a < 50)\n",
    "\n",
    "print('Any:', b.any())\n",
    "print('All:', b.all())"
   ]
  },
  {
   "cell_type": "markdown",
   "metadata": {},
   "source": [
    "## Is in Array\n",
    "\n",
    "1. Ustaw ziarno losowości na zero\n",
    "1. Wygeneruj ``a: ndarray`` z 50 losowymi liczbami całkowitymi od 0 do 100 (rozłącznie)\n",
    "1. Wygeneruj ``b: ndarray`` z kolejnymi potęgami liczby 2, wykładnik od 0 do 6 (włącznie)\n",
    "1. Sprawdź, które elementy z ``a`` są obecne w ``b``"
   ]
  },
  {
   "cell_type": "code",
   "execution_count": 36,
   "metadata": {},
   "outputs": [
    {
     "data": {
      "text/plain": [
       "array([False, False,  True, False, False, False, False, False, False,\n",
       "       False, False, False, False, False, False, False, False, False,\n",
       "       False, False, False, False, False, False, False, False, False,\n",
       "       False, False, False, False,  True, False, False, False, False,\n",
       "       False, False, False, False, False,  True, False, False, False,\n",
       "        True, False, False, False, False])"
      ]
     },
     "execution_count": 36,
     "metadata": {},
     "output_type": "execute_result"
    }
   ],
   "source": [
    "np.random.seed(0)\n",
    "\n",
    "a = np.random.randint(0, 100, size=50)\n",
    "b = 2 ** np.arange(7)\n",
    "\n",
    "np.isin(a, b)"
   ]
  },
  {
   "cell_type": "markdown",
   "metadata": {},
   "source": [
    "## Array Select\n",
    "\n",
    "1. Ustaw ziarno losowości na 0\n",
    "1. Wygeneruj ``a: ndarray`` rozmiaru 50x50\n",
    "1. ``a`` musi zawierać losowe liczby całkowite z zakresu od 0 do 1024 włącznie\n",
    "1. Stwórz ``b: ndarray`` z elementami wybranymi z ``a``, które są potęgami dwójki\n",
    "1. Posortuj ``b`` w kolejności malejącej\n",
    "1. Wypisz ``b``"
   ]
  },
  {
   "cell_type": "code",
   "execution_count": 37,
   "metadata": {},
   "outputs": [
    {
     "data": {
      "text/plain": [
       "array([1024, 1024, 1024, 1024, 1024, 1024,  512,  512,  512,  512,  256,\n",
       "        256,  256,  256,  256,  128,  128,  128,  128,  128,   64,   32,\n",
       "         32,   32,   32,   32,   16,   16,   16,   16,   16,   16,    8,\n",
       "          8,    4,    2,    2,    2,    2,    2])"
      ]
     },
     "execution_count": 37,
     "metadata": {},
     "output_type": "execute_result"
    }
   ],
   "source": [
    "np.random.seed(0)\n",
    "\n",
    "MIN = 0\n",
    "MAX = 1025\n",
    "SIZE = (50, 50)\n",
    "SELECT = 2 ** np.arange(11)\n",
    "\n",
    "\n",
    "a = np.random.randint(MIN, MAX, size=SIZE)\n",
    "b = a[np.isin(a, SELECT)]\n",
    "b.sort()\n",
    "np.flip(b)"
   ]
  },
  {
   "cell_type": "markdown",
   "metadata": {},
   "source": [
    "## Trigonometry\n",
    "\n",
    "1. Program wczytuje od użytkownika wielkość kąta w stopniach\n",
    "1. Użytkownik zawsze podaje ``int`` albo ``float``\n",
    "1. Wyświetl wartość funkcji trygonometrycznych (sin, cos, tg, ctg)\n",
    "1. Ctg dla wartości 180 stopni nie istnieje\n",
    "1. Jeżeli funkcja trygonometryczna nie istnieje dla danego kąta podnieś stosowny wyjątek"
   ]
  },
  {
   "cell_type": "code",
   "execution_count": null,
   "metadata": {
    "scrolled": true
   },
   "outputs": [],
   "source": [
    "angle = input('Type angle [deg]: ')\n",
    "angle = float(angle)\n",
    "\n",
    "\n",
    "class CtgDoesNotExistsError(Exception):\n",
    "    pass\n",
    "\n",
    "\n",
    "if angle == 180:\n",
    "    raise CtgDoesNotExistsError('Ctg for 180 does not exists')\n",
    "\n",
    "    \n",
    "angle = np.deg2rad(angle)\n",
    "\n",
    "print('Sin', np.sin(angle))\n",
    "print('Cos', np.cos(angle))\n",
    "print('Tan', np.tan(angle))\n",
    "print('Ctg', 1 / np.tan(angle))"
   ]
  },
  {
   "cell_type": "markdown",
   "metadata": {},
   "source": [
    "## Polynomial Polyfit\n",
    "\n",
    "1. Dla danych punktów (patrz sekcja input)\n",
    "1. Odseparuj pierwszy wiersz (nagłówek) do danych\n",
    "1. Oblicz współczynniki najlepiej dopasowanego wielomianu 3 stopnia"
   ]
  },
  {
   "cell_type": "code",
   "execution_count": null,
   "metadata": {},
   "outputs": [],
   "source": [
    "INPUT = [\n",
    "    ('x', 'y'),\n",
    "    (-4.0, 0.0),\n",
    "    (-3.0, 2.5),\n",
    "    (-2.0, 2.0),\n",
    "    (0.0, -2.0),\n",
    "    (2.0, 0.0),\n",
    "    (3.0, 7.0), \n",
    "]"
   ]
  },
  {
   "cell_type": "code",
   "execution_count": null,
   "metadata": {},
   "outputs": [],
   "source": [
    "header, *data = INPUT\n",
    "\n",
    "x = [x for x,y in data]\n",
    "y = [y for x,y in data]\n",
    "\n",
    "np.polyfit(x, y, deg=3)"
   ]
  },
  {
   "cell_type": "markdown",
   "metadata": {},
   "source": [
    "## Euclidean distance 2D\n",
    "\n",
    "1. Dane są dwa punkty ``A: Tuple[int, int]`` i ``B: Tuple[int, int]``\n",
    "1. Koordynaty są w systemie kartezjańskim\n",
    "1. Punkty ``A`` i ``B`` są w dwuwymiarowej przestrzeni\n",
    "1. Oblicz odległość między nimi wykorzystując algorytm Euklidesa\n",
    "1. Funkcja musi przechodzić ``doctest``"
   ]
  },
  {
   "cell_type": "code",
   "execution_count": null,
   "metadata": {},
   "outputs": [],
   "source": [
    "def euclidean_distance(A, B):\n",
    "    \"\"\"\n",
    "    >>> A = (1, 0)\n",
    "    >>> B = (0, 1)\n",
    "    >>> euclidean_distance(A, B)\n",
    "    1.4142135623730951\n",
    "\n",
    "    >>> euclidean_distance((0,0), (1,0))\n",
    "    1.0\n",
    "\n",
    "    >>> euclidean_distance((0,0), (1,1))\n",
    "    1.4142135623730951\n",
    "\n",
    "    >>> euclidean_distance((0,1), (1,1))\n",
    "    1.0\n",
    "\n",
    "    >>> euclidean_distance((0,10), (1,1))\n",
    "    9.055385138137417\n",
    "    \"\"\"\n",
    "    x1 = A[0]\n",
    "    y1 = A[1]\n",
    "    x2 = B[0]\n",
    "    y2 = B[1]\n",
    "    \n",
    "    dx = np.power(x2-x1, 2)\n",
    "    dy = np.power(y2-y1, 2)\n",
    "    \n",
    "    return np.sqrt(dx + dy)\n",
    "\n",
    "\n",
    "import doctest\n",
    "doctest.testmod()"
   ]
  },
  {
   "cell_type": "markdown",
   "metadata": {},
   "source": [
    "## Euclidean distance ``n`` dimensions\n",
    "\n",
    "1. Dane są dwa punkty ``A: Sequence[int]`` i ``B: Sequence[int]``\n",
    "1. Koordynaty są w systemie kartezjańskim\n",
    "1. Punkty ``A`` i ``B`` są w ``N``-wymiarowej przestrzeni\n",
    "1. Punkty ``A`` i ``B`` muszą być w tej samej przestrzeni\n",
    "1. Oblicz odległość między nimi wykorzystując algorytm Euklidesa\n",
    "1. Funkcja musi przechodzić ``doctest``"
   ]
  },
  {
   "cell_type": "code",
   "execution_count": null,
   "metadata": {},
   "outputs": [],
   "source": [
    "def euclidean_distance(A, B):\n",
    "    \"\"\"\n",
    "    >>> euclidean_distance((0,0,1,0,1), (1,1))\n",
    "    Traceback (most recent call last):\n",
    "        ...\n",
    "    ValueError: Points must be in the same dimensions\n",
    "\n",
    "    >>> A = (0,1,0,1)\n",
    "    >>> B = (1,1,0,0)\n",
    "    >>> euclidean_distance(A, B)\n",
    "    1.4142135623730951\n",
    "\n",
    "    >>> euclidean_distance((0,0,0), (0,0,0))\n",
    "    0.0\n",
    "\n",
    "    >>> euclidean_distance((0,0,0), (1,1,1))\n",
    "    1.7320508075688772\n",
    "\n",
    "    >>> euclidean_distance((0,1,0,1), (1,1,0,0))\n",
    "    1.4142135623730951\n",
    "\n",
    "    >>> euclidean_distance((0,0,1,0,1), (1,1,0,0,1))\n",
    "    1.7320508075688772\n",
    "    \"\"\"\n",
    "    if len(A) != len(B):\n",
    "        raise ValueError('Points must be in the same dimensions')\n",
    "\n",
    "    under_root = 0\n",
    "    \n",
    "    for n1, n2 in zip(A, B):\n",
    "        under_root += np.power(n2-n1, 2)\n",
    "\n",
    "    return np.sqrt(under_root)\n",
    "        \n",
    "    \n",
    "    ## Alternative solution\n",
    "    return np.sqrt(np.sum([np.power(n2-n1, 2) for n1, n2 in zip(A, B)]))\n",
    "\n",
    "\n",
    "import doctest\n",
    "doctest.testmod()"
   ]
  },
  {
   "cell_type": "code",
   "execution_count": null,
   "metadata": {},
   "outputs": [],
   "source": []
  }
 ],
 "metadata": {
  "kernelspec": {
   "display_name": "Python 3",
   "language": "python",
   "name": "python3"
  },
  "language_info": {
   "codemirror_mode": {
    "name": "ipython",
    "version": 3
   },
   "file_extension": ".py",
   "mimetype": "text/x-python",
   "name": "python",
   "nbconvert_exporter": "python",
   "pygments_lexer": "ipython3",
   "version": "3.8.1"
  }
 },
 "nbformat": 4,
 "nbformat_minor": 4
}
