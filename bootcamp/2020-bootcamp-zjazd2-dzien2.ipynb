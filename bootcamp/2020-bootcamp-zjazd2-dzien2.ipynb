{
 "cells": [
  {
   "cell_type": "markdown",
   "metadata": {},
   "source": [
    "# Sages Python Bootcamp zjazd 2 dzień 2"
   ]
  },
  {
   "cell_type": "markdown",
   "metadata": {},
   "source": [
    "# Functions"
   ]
  },
  {
   "cell_type": "markdown",
   "metadata": {},
   "source": [
    "## Function Definition"
   ]
  },
  {
   "cell_type": "markdown",
   "metadata": {},
   "source": [
    "### Zad. A. Define Function"
   ]
  },
  {
   "cell_type": "markdown",
   "metadata": {},
   "source": [
    "1. Zdefiniuj funkcję ``call``\n",
    "1. Wypisz ``Beetlejuice`` na ekranie\n",
    "1. Wywołaj funkcję trzy razy"
   ]
  },
  {
   "cell_type": "code",
   "execution_count": 1,
   "metadata": {},
   "outputs": [
    {
     "name": "stdout",
     "output_type": "stream",
     "text": [
      "Beetlejuice\n",
      "Beetlejuice\n",
      "Beetlejuice\n",
      "------------------------------\n",
      "\n",
      "    Moja dokumentacja\n",
      "    \n",
      "------------------------------\n",
      "Help on function call in module __main__:\n",
      "\n",
      "call()\n",
      "    Moja dokumentacja\n",
      "\n"
     ]
    }
   ],
   "source": [
    "def call():\n",
    "    \"\"\"\n",
    "    Moja dokumentacja\n",
    "    \"\"\"\n",
    "    print('Beetlejuice')\n",
    "    \n",
    "\n",
    "call()\n",
    "call()\n",
    "call()\n",
    "\n",
    "print('-' * 30)\n",
    "print(call.__doc__)\n",
    "print('-' * 30)\n",
    "help(call)"
   ]
  },
  {
   "cell_type": "markdown",
   "metadata": {},
   "source": [
    "## Function Return"
   ]
  },
  {
   "cell_type": "markdown",
   "metadata": {},
   "source": [
    "### Zad. A. Return Numbers"
   ]
  },
  {
   "cell_type": "markdown",
   "metadata": {},
   "source": [
    "1. Zdefiniuj funkcję ``add`` bez parametrów\n",
    "1. Funkcja powinna zwracać sumę ``42`` and ``13.37``\n",
    "1. Wywołaj funkcję i przechwyć zwracaną wartość\n",
    "1. Wyświetl wartość"
   ]
  },
  {
   "cell_type": "code",
   "execution_count": 2,
   "metadata": {},
   "outputs": [
    {
     "name": "stdout",
     "output_type": "stream",
     "text": [
      "55.37\n"
     ]
    }
   ],
   "source": [
    "def add():\n",
    "    return 42 + 13.37\n",
    "\n",
    "\n",
    "a = add()\n",
    "print(a)"
   ]
  },
  {
   "cell_type": "markdown",
   "metadata": {},
   "source": [
    "## Function Arguments"
   ]
  },
  {
   "cell_type": "markdown",
   "metadata": {},
   "source": [
    "### Zad. B. Divide"
   ]
  },
  {
   "cell_type": "markdown",
   "metadata": {},
   "source": [
    "1. Zdefiniuj funkcję ``divide``\n",
    "1. Funkcja przyjmuje dwa argumenty\n",
    "1. Funkcja zwraca wynik dzielenia jej argumentów\n",
    "1. Wywołaj funkcję z ``divide(4, 2)``\n",
    "1. Wywołaj funkcję z ``divide(4, 0)``\n",
    "1. Wypisz zwracane wartości\n",
    "1. Co zrobić w przypadku błędu?"
   ]
  },
  {
   "cell_type": "code",
   "execution_count": 3,
   "metadata": {},
   "outputs": [
    {
     "name": "stdout",
     "output_type": "stream",
     "text": [
      "Nie mozna dzielić przez 0\n"
     ]
    }
   ],
   "source": [
    "def divide(a, b):\n",
    "    if b == 0:\n",
    "        print('Nie mozna dzielić przez 0')\n",
    "    else:\n",
    "        return a / b\n",
    "    \n",
    "    # try:\n",
    "    #     return a / b\n",
    "    # except ZeroDivisionError as err:\n",
    "    #     print(err)\n",
    "\n",
    "\n",
    "divide(4, 2)\n",
    "divide(4, 0)"
   ]
  },
  {
   "cell_type": "markdown",
   "metadata": {},
   "source": [
    "### Zad. C. Power"
   ]
  },
  {
   "cell_type": "markdown",
   "metadata": {},
   "source": [
    "1. Zdefiniuj funkcję ``power``\n",
    "1. Funkcja przyjmuje dwa argumenty\n",
    "1. Drugi argument jest opcjonalny\n",
    "1. Funkcja zwraca wynik pierwszego argumentu do potęgi drugiego\n",
    "1. Jeżeli tylko jeden argument był podany, przyjmij drugi równy pierwszemu\n",
    "1. Wypisz zwracane wartości"
   ]
  },
  {
   "cell_type": "code",
   "execution_count": 4,
   "metadata": {},
   "outputs": [
    {
     "name": "stdout",
     "output_type": "stream",
     "text": [
      "16\n",
      "4\n"
     ]
    }
   ],
   "source": [
    "def power(a, b=None):\n",
    "    if b is None:\n",
    "        b = a\n",
    "    return a ** b\n",
    "\n",
    "\n",
    "print(power(2, 4))\n",
    "print(power(2))"
   ]
  },
  {
   "cell_type": "markdown",
   "metadata": {},
   "source": [
    "### Zad. D. Aviation numbers"
   ]
  },
  {
   "cell_type": "markdown",
   "metadata": {},
   "source": [
    "1. Dany jest alfabet pilotów dla numerów (patrz sekcja boilerplate)\n",
    "1. Dla danych wejściowych (patrz sekcja input poniżej)\n",
    "1. Zdefiniuj funkcję konwertującą ``int`` lub ``float`` na formę tekstową w mowie pilotów\n",
    "1. Możesz modyfikować ``CONVERSION``"
   ]
  },
  {
   "cell_type": "code",
   "execution_count": 5,
   "metadata": {},
   "outputs": [
    {
     "name": "stdout",
     "output_type": "stream",
     "text": [
      "one niner six niner\n",
      "tree one tree tree seven\n",
      "one tree and tree seven\n",
      "tree one and tree tree seven\n",
      "minus one niner six niner\n",
      "minus tree one and tree tree seven\n",
      "minus fower niner and tree fife\n"
     ]
    }
   ],
   "source": [
    "CONVERSION = {\n",
    "    0: 'zero',\n",
    "    1: 'one',\n",
    "    2: 'two',\n",
    "    3: 'tree',\n",
    "    4: 'fower',\n",
    "    5: 'fife',\n",
    "    6: 'six',\n",
    "    7: 'seven',\n",
    "    8: 'ait',\n",
    "    9: 'niner',\n",
    "}\n",
    "\n",
    "CONVERSION = {str(k):v for k,v in CONVERSION.items()}\n",
    "CONVERSION['-'] = 'minus'\n",
    "CONVERSION['.'] = 'and'\n",
    "\n",
    "\n",
    "def translate(number):\n",
    "    return ' '.join(CONVERSION.get(c) for c in str(number))\n",
    "\n",
    "\n",
    "print(translate(1969))\n",
    "print(translate(31337))\n",
    "print(translate(13.37))\n",
    "print(translate(31.337))\n",
    "print(translate(-1969))\n",
    "print(translate(-31.337))\n",
    "print(translate(-49.35))"
   ]
  },
  {
   "cell_type": "markdown",
   "metadata": {},
   "source": [
    "## Function Scope"
   ]
  },
  {
   "cell_type": "markdown",
   "metadata": {},
   "source": [
    "### Zad. A. Wanted"
   ]
  },
  {
   "cell_type": "markdown",
   "metadata": {},
   "source": [
    "1. Dla danych wejściowych (patrz sekcja input)\n",
    "1. Oddziel nagłówek (pierwsza linia) od danych\n",
    "1. Zdefiniuj ``wanted: Set[str]`` z 'setosa' oraz 'versicolor'\n",
    "1. Iterując po danych rozdziel wiersz na ``features`` i ``label`` (ostatni)\n",
    "1. Zdefiniuj funkcję sumującą ``features``, tylko gdy ``label`` jest w ``wanted``\n",
    "1. Gdy ``label`` nie występuje w ``wanted`` zwróć ``0`` (zero)\n",
    "1. Wypisz sumę"
   ]
  },
  {
   "cell_type": "code",
   "execution_count": 6,
   "metadata": {},
   "outputs": [
    {
     "name": "stdout",
     "output_type": "stream",
     "text": [
      "74.9\n"
     ]
    }
   ],
   "source": [
    "INPUT = [\n",
    "    ('Sepal length', 'Sepal width', 'Petal length', 'Petal width', 'Species'),\n",
    "    (5.8, 2.7, 5.1, 1.9, 'virginica'),\n",
    "    (5.1, 3.5, 1.4, 0.2, 'setosa'),\n",
    "    (5.7, 2.8, 4.1, 1.3, 'versicolor'),\n",
    "    (6.3, 2.9, 5.6, 1.8, 'virginica'),\n",
    "    (6.4, 3.2, 4.5, 1.5, 'versicolor'),\n",
    "    (4.7, 3.2, 1.3, 0.2, 'setosa'),\n",
    "    (7.0, 3.2, 4.7, 1.4, 'versicolor'),\n",
    "    (7.6, 3.0, 6.6, 2.1, 'virginica'),\n",
    "    (4.9, 3.0, 1.4, 0.2, 'setosa'),\n",
    "]\n",
    "\n",
    "wanted = {'setosa', 'versicolor'}\n",
    "header, *data = INPUT\n",
    "total = 0\n",
    "\n",
    "def sum_features(features, label):\n",
    "    if label in wanted:\n",
    "        return sum(features)\n",
    "    else:\n",
    "        return 0\n",
    "\n",
    "\n",
    "for *features, label in data:\n",
    "    total += sum_features(features, label)\n",
    "    \n",
    "    \n",
    "print(total)"
   ]
  },
  {
   "cell_type": "markdown",
   "metadata": {},
   "source": [
    "## Built-in Generators"
   ]
  },
  {
   "cell_type": "markdown",
   "metadata": {},
   "source": [
    "1. Używając wyrażenia generatorowego stwórz ``output: List[int]`` z liczbami z zakresu 1 do 33 podzielnymi przez 3\n",
    "1. Przefiltruj ``output`` aby zawierał tylko liczby nieparzyste\n",
    "1. Podnieś wszystkie liczby w ``output`` do sześcianu\n",
    "1. Oblicz średnią arytmetyczną z ``output``"
   ]
  },
  {
   "cell_type": "code",
   "execution_count": 7,
   "metadata": {},
   "outputs": [
    {
     "name": "stdout",
     "output_type": "stream",
     "text": [
      "11502.0\n"
     ]
    }
   ],
   "source": [
    "def is_odd(x):\n",
    "    if x % 2 == 1:\n",
    "        return True\n",
    "    else:\n",
    "        return False\n",
    "\n",
    "def cube(x):\n",
    "    return x ** 3\n",
    "\n",
    "\n",
    "numbers = (x for x in range(1, 34) if x % 3 == 0)\n",
    "numbers = filter(is_odd, numbers)\n",
    "numbers = map(cube, numbers)\n",
    "numbers = list(numbers)\n",
    "mean = sum(numbers) / len(numbers)\n",
    "\n",
    "print(mean)"
   ]
  },
  {
   "cell_type": "markdown",
   "metadata": {},
   "source": [
    "### Lambda"
   ]
  },
  {
   "cell_type": "markdown",
   "metadata": {},
   "source": [
    "1. Using generator expression to create ``output: List[int]`` with numbers from 1 to 33 which are divisible by 3\n",
    "1. Filter ``output`` to contain only odd numbers\n",
    "1. Cube all numbers in ``output``\n",
    "1. Calculate arithmetic mean from ``output``\n",
    "1. Użyj funkcji ``lambda``"
   ]
  },
  {
   "cell_type": "code",
   "execution_count": 8,
   "metadata": {},
   "outputs": [
    {
     "name": "stdout",
     "output_type": "stream",
     "text": [
      "11502.0\n"
     ]
    }
   ],
   "source": [
    "numbers = (x for x in range(1, 34) if x % 3 == 0)\n",
    "numbers = filter(lambda x: x%2, numbers)\n",
    "numbers = map(lambda x: pow(x,3), numbers)\n",
    "numbers = list(numbers)\n",
    "mean = sum(numbers) / len(numbers)\n",
    "\n",
    "print(mean)"
   ]
  },
  {
   "cell_type": "markdown",
   "metadata": {},
   "source": [
    "# Object Oriented Programming"
   ]
  },
  {
   "cell_type": "markdown",
   "metadata": {},
   "source": [
    "## Classes and Instances"
   ]
  },
  {
   "cell_type": "markdown",
   "metadata": {},
   "source": [
    "1. Zdefiniuj klasę ``Astronaut``\n",
    "1. Zdefiniuj klasę ``SpaceAgency``\n",
    "1. Stwórz instancję ``twardowski`` klasy ``Astronaut``\n",
    "1. Stwórz instancję ``watney`` klasy ``Astronaut``\n",
    "1. Stwórz instancję ``nasa`` klasy ``SpaceAgency``\n",
    "1. Stwórz instancję ``esa`` klasy ``SpaceAgency``\n",
    "1. Stwórz instancję ``polsa`` klasy ``SpaceAgency``"
   ]
  },
  {
   "cell_type": "code",
   "execution_count": 9,
   "metadata": {},
   "outputs": [],
   "source": [
    "class Astronaut:\n",
    "    pass\n",
    "\n",
    "\n",
    "class SpaceAgency:\n",
    "    pass\n",
    "\n",
    "\n",
    "twardowski = Astronaut()\n",
    "watney = Astronaut()\n",
    "\n",
    "nasa = SpaceAgency()\n",
    "esa = SpaceAgency()\n",
    "polsa = SpaceAgency()"
   ]
  },
  {
   "cell_type": "markdown",
   "metadata": {},
   "source": [
    "## Attributes"
   ]
  },
  {
   "cell_type": "markdown",
   "metadata": {},
   "source": [
    "1. Zamodeluj dane za pomocą klas\n",
    "1. Stwórz instancje dla każdego wpisu\n",
    "1. Jak wiele klas możemy wyróżnić?\n",
    "1. Jak wiele instancji możemy wyróżnić?\n",
    "1. Wypisz wszystkie pola każdej z instancji"
   ]
  },
  {
   "cell_type": "code",
   "execution_count": 10,
   "metadata": {},
   "outputs": [],
   "source": [
    "class Astronaut:\n",
    "    pass\n",
    "\n",
    "\n",
    "class SpaceAgency:\n",
    "    pass\n",
    "\n",
    "\n",
    "twardowski = Astronaut()\n",
    "twardowski.first_name = 'Jan'\n",
    "twardowski.last_name = 'Twardowski'\n",
    "twardowski.date_of_birth = '1961-04-12'\n",
    "\n",
    "watney = Astronaut()\n",
    "watney.first_name = 'Mark'\n",
    "watney.last_name = 'Watney'\n",
    "watney.date_of_birth = '1969-07-21'\n",
    "\n",
    "esa = SpaceAgency()\n",
    "esa.short_name = 'ESA'\n",
    "esa.long_name = 'European Space Agency'\n",
    "esa.location = 'Europe'\n",
    "\n",
    "nasa = SpaceAgency()\n",
    "nasa.short_name = 'NASA'\n",
    "nasa.long_name = 'National Aeronautics and Space Administration'\n",
    "nasa.location = 'USA'\n",
    "\n",
    "polsa = SpaceAgency()\n",
    "polsa.short_name = 'POLSA'\n",
    "polsa.long_name = 'Polish Space Agency'\n",
    "polsa.location = 'Poland'\n"
   ]
  },
  {
   "cell_type": "markdown",
   "metadata": {},
   "source": [
    "## Initializer Method"
   ]
  },
  {
   "cell_type": "markdown",
   "metadata": {},
   "source": [
    "### Zad. A. Object Initialization\n",
    "\n",
    "1. Stwórz jedną klasę ``Temperature``\n",
    "1. Stwórz trzy instancje klasy ``Temperature``\n",
    "1. Wartości mają być podawane przy inicjalizacji\n",
    "1. Przy inicjalizacji instancje wypisują:\n",
    "\n",
    "    1. Instancja ``celsius`` wyświetla temperaturę 36.6\n",
    "    1. Instancja ``fahrenheit`` wyświetla temperaturę 97.88\n",
    "    1. Instancja ``kelvin`` wyświetla temperaturę 309.75\n",
    "\n",
    "1. Nie konwertuj jednostek (użyj tylko podanych numerów)\n",
    "1. Nie przechowuj informacji w instancjach (tylko wypisz przy inicjalizacji)"
   ]
  },
  {
   "cell_type": "code",
   "execution_count": 11,
   "metadata": {},
   "outputs": [
    {
     "name": "stdout",
     "output_type": "stream",
     "text": [
      "36.6\n",
      "97.88\n",
      "309.75\n"
     ]
    }
   ],
   "source": [
    "class Temperature:\n",
    "    def __init__(self, initial_value):\n",
    "        print(initial_value)\n",
    "\n",
    "\n",
    "celsius = Temperature(36.6)\n",
    "fahrenheit = Temperature(97.88)\n",
    "kelvin = Temperature(309.75)"
   ]
  },
  {
   "cell_type": "markdown",
   "metadata": {},
   "source": [
    "### Zad. B. Data Modeling\n",
    "\n",
    "1. Zamodeluj dane za pomocą klas\n",
    "1. Stwórz instancje dla każdego wpisu\n",
    "1. Twórz instancje pierwszej klasy używając argumentów pozycyjnych\n",
    "1. Twórz instancje drugiej klasy używając argumentów nazwanych\n",
    "1. Za pomocą ``__dict__`` wypisz wszystkie pola każdej z instancji"
   ]
  },
  {
   "cell_type": "code",
   "execution_count": 12,
   "metadata": {},
   "outputs": [
    {
     "name": "stdout",
     "output_type": "stream",
     "text": [
      "{'first_name': 'Jan', 'last_name': 'Twardowski', 'date_of_birth': '1961-04-12'}\n",
      "{'first_name': 'Mark', 'last_name': 'Watney', 'date_of_birth': '1969-07-21'}\n",
      "{'short_name': 'ESA', 'long_name': 'European Space Agency', 'location': 'Europe'}\n",
      "{'short_name': 'NASA', 'long_name': 'National Aeronautics and Space Administration', 'location': 'USA'}\n",
      "{'short_name': 'POLSA', 'long_name': 'Polish Space Agency', 'location': 'Poland'}\n"
     ]
    }
   ],
   "source": [
    "class Astronaut:\n",
    "    def __init__(self, first_name, last_name, date_of_birth):\n",
    "        self.first_name = first_name\n",
    "        self.last_name = last_name\n",
    "        self.date_of_birth = date_of_birth\n",
    "\n",
    "\n",
    "class SpaceAgency:\n",
    "    def __init__(self, short_name, long_name, location):\n",
    "        self.short_name = short_name\n",
    "        self.long_name = long_name\n",
    "        self.location = location\n",
    "\n",
    "\n",
    "twardowski = Astronaut('Jan', 'Twardowski', '1961-04-12')\n",
    "watney = Astronaut('Mark', 'Watney', '1969-07-21')\n",
    "\n",
    "esa = SpaceAgency(\n",
    "    short_name='ESA',\n",
    "    long_name='European Space Agency',\n",
    "    location='Europe')\n",
    "\n",
    "nasa = SpaceAgency(\n",
    "    short_name='NASA',\n",
    "    long_name='National Aeronautics and Space Administration',\n",
    "    location='USA')\n",
    "\n",
    "polsa = SpaceAgency(\n",
    "    short_name='POLSA',\n",
    "    long_name='Polish Space Agency',\n",
    "    location='Poland')\n",
    "\n",
    "\n",
    "print(twardowski.__dict__)\n",
    "print(watney.__dict__)\n",
    "print(esa.__dict__)\n",
    "print(nasa.__dict__)\n",
    "print(polsa.__dict__)"
   ]
  },
  {
   "cell_type": "markdown",
   "metadata": {},
   "source": [
    "### Methods\n",
    "\n",
    "1. Zdefiniuj klasę ``Iris``\n",
    "1. Zdefiniuj metodę ``total()`` klasy ``Iris`` zwracającą sumę wszystkich atrybutów numerycznych obiektu:\n",
    "\n",
    "    * \"Sepal length\"\n",
    "    * \"Sepal width\"\n",
    "    * \"Petal length\"\n",
    "    * \"Petal width\"\n",
    "\n",
    "1. Zdefiniuj metodę ``get_length()`` która zwraca ilość pól numerycznych (użyj: ``self.__dict__``)\n",
    "1. Zdefiniuj metodę ``mean()`` klasy ``Iris`` wyliczającą średnią wszystkich atrybutów numerycznych obiektu\n",
    "1. Stwórz obiekt ``setosa`` z pomiarami podawanymi przy inicjalizacji (patrz dane wejściowe)\n",
    "1. Stwórz obiekt ``virginica`` z pomiarami podawanymi przy inicjalizacji (patrz dane wejściowe)\n",
    "1. Wypisz nazwę gatunku oraz sumę i średnią z pomiarów dla każdej instancji"
   ]
  },
  {
   "cell_type": "code",
   "execution_count": 13,
   "metadata": {},
   "outputs": [
    {
     "name": "stdout",
     "output_type": "stream",
     "text": [
      "setosa\n",
      "Total: 11.00\n",
      "Average: 2.20\n",
      "virginica\n",
      "Total: 15.50\n",
      "Average: 3.10\n"
     ]
    }
   ],
   "source": [
    "class Iris:\n",
    "    def __init__(self, sepal_length, sepal_width, petal_length, petal_width, species):\n",
    "        self.sepal_length = sepal_length\n",
    "        self.sepal_width = sepal_width\n",
    "        self.petal_length = petal_length\n",
    "        self.petal_width = petal_width\n",
    "        self.species = species\n",
    "\n",
    "    def get_length(self):\n",
    "        return len(self.__dict__)\n",
    "\n",
    "    def total(self):\n",
    "        return self.sepal_length \\\n",
    "               + self.sepal_width \\\n",
    "               + self.petal_length \\\n",
    "               + self.petal_width\n",
    "\n",
    "    def average(self):\n",
    "        return self.total() / self.get_length()\n",
    "\n",
    "\n",
    "setosa = Iris(5.4, 3.9, 1.3, 0.4, 'setosa')\n",
    "print(f'{setosa.species}')\n",
    "print(f'Total: {setosa.total():.2f}')\n",
    "print(f'Average: {setosa.average():.2f}')\n",
    "\n",
    "virginica = Iris(5.8, 2.7, 5.1, 1.9, 'virginica')\n",
    "print(f'{virginica.species}')\n",
    "print(f'Total: {virginica.total():.2f}')\n",
    "print(f'Average: {virginica.average():.2f}')"
   ]
  },
  {
   "cell_type": "markdown",
   "metadata": {},
   "source": [
    "### Stringify Object\n",
    "\n",
    "1. Zmodyfikuj kod z danych wejściowych (patrz sekcja input)\n",
    "1. Przeciąż ``str`` i ``repr`` aby osiągnąć rezultat wyświetlania"
   ]
  },
  {
   "cell_type": "code",
   "execution_count": 14,
   "metadata": {},
   "outputs": [],
   "source": [
    "class Crew:\n",
    "    def __init__(self, members=()):\n",
    "        self.members = list(members)\n",
    "\n",
    "    def __str__(self):\n",
    "        return '\\n'.join(str(astro) for astro in self.members)\n",
    "\n",
    "\n",
    "class Astronaut:\n",
    "    def __init__(self, name, experience=()):\n",
    "        self.name = name\n",
    "        self.experience = list(experience)\n",
    "\n",
    "    def __str__(self):\n",
    "        if self.experience:\n",
    "            return f'{self.name} veteran of {self.experience}'\n",
    "        else:\n",
    "            return f'{self.name}'\n",
    "\n",
    "\n",
    "class Mission:\n",
    "    def __init__(self, year, name):\n",
    "        self.year = year\n",
    "        self.name = name\n",
    "\n",
    "    def __repr__(self):\n",
    "        return f'\\n\\t{self.year}: {self.name}'"
   ]
  },
  {
   "cell_type": "code",
   "execution_count": 15,
   "metadata": {},
   "outputs": [
    {
     "name": "stdout",
     "output_type": "stream",
     "text": [
      "Commander: \n",
      "Melissa Lewis\n",
      "\n"
     ]
    }
   ],
   "source": [
    "melissa = Astronaut('Melissa Lewis')\n",
    "print(f'Commander: \\n{melissa}\\n')"
   ]
  },
  {
   "cell_type": "code",
   "execution_count": 16,
   "metadata": {},
   "outputs": [
    {
     "name": "stdout",
     "output_type": "stream",
     "text": [
      "Space Pirate: \n",
      "Mark Watney veteran of [\n",
      "\t2035: Ares 3]\n",
      "\n"
     ]
    }
   ],
   "source": [
    "mark = Astronaut('Mark Watney', experience=[\n",
    "    Mission(2035, 'Ares 3'),\n",
    "])\n",
    "print(f'Space Pirate: \\n{mark}\\n')"
   ]
  },
  {
   "cell_type": "code",
   "execution_count": 17,
   "metadata": {},
   "outputs": [
    {
     "name": "stdout",
     "output_type": "stream",
     "text": [
      "Crew: \n",
      "Jan Twardowski veteran of [\n",
      "\t1969: Apollo 11, \n",
      "\t2024: Artemis 3]\n",
      "José Jiménez\n",
      "Mark Watney veteran of [\n",
      "\t2035: Ares 3]\n"
     ]
    }
   ],
   "source": [
    "crew = Crew([\n",
    "    Astronaut('Jan Twardowski', experience=[\n",
    "        Mission(1969, 'Apollo 11'),\n",
    "        Mission(2024, 'Artemis 3'),\n",
    "    ]),\n",
    "    Astronaut('José Jiménez'),\n",
    "    Astronaut('Mark Watney', experience=[\n",
    "        Mission(2035, 'Ares 3'),\n",
    "    ]),\n",
    "])\n",
    "\n",
    "print(f'Crew: \\n{crew}')"
   ]
  },
  {
   "cell_type": "markdown",
   "metadata": {},
   "source": [
    "# Modules"
   ]
  },
  {
   "cell_type": "code",
   "execution_count": 18,
   "metadata": {},
   "outputs": [
    {
     "name": "stdout",
     "output_type": "stream",
     "text": [
      "Requirement already up-to-date: numpy in /Users/matt/Developer/book-python/.venv-3.8.1/lib/python3.8/site-packages (1.18.1)\n",
      "Note: you may need to restart the kernel to use updated packages.\n"
     ]
    }
   ],
   "source": [
    "pip install --upgrade numpy"
   ]
  },
  {
   "cell_type": "code",
   "execution_count": 19,
   "metadata": {},
   "outputs": [
    {
     "name": "stdout",
     "output_type": "stream",
     "text": [
      "\u001b[31mERROR: Could not open requirements file: [Errno 2] No such file or directory: 'requirements.txt'\u001b[0m\n",
      "Note: you may need to restart the kernel to use updated packages.\n"
     ]
    }
   ],
   "source": [
    "pip install -r requirements.txt"
   ]
  },
  {
   "cell_type": "code",
   "execution_count": 20,
   "metadata": {},
   "outputs": [],
   "source": [
    "import numpy as np"
   ]
  },
  {
   "cell_type": "code",
   "execution_count": 21,
   "metadata": {},
   "outputs": [
    {
     "data": {
      "text/plain": [
       "'1.18.1'"
      ]
     },
     "execution_count": 21,
     "metadata": {},
     "output_type": "execute_result"
    }
   ],
   "source": [
    "np.__version__"
   ]
  },
  {
   "cell_type": "code",
   "execution_count": 22,
   "metadata": {
    "scrolled": true
   },
   "outputs": [
    {
     "name": "stdout",
     "output_type": "stream",
     "text": [
      "alabaster==0.7.12\n",
      "appnope==0.1.0\n",
      "attrs==19.3.0\n",
      "Babel==2.8.0\n",
      "backcall==0.1.0\n",
      "bleach==3.1.0\n",
      "certifi==2019.11.28\n",
      "chardet==3.0.4\n",
      "decorator==4.4.1\n",
      "defusedxml==0.6.0\n",
      "docutils==0.16\n",
      "entrypoints==0.3\n",
      "idna==2.8\n",
      "imagesize==1.2.0\n",
      "ipykernel==5.1.4\n",
      "ipython==7.12.0\n",
      "ipython-genutils==0.2.0\n",
      "ipywidgets==7.5.1\n",
      "jedi==0.16.0\n",
      "Jinja2==2.11.1\n",
      "jsonschema==3.2.0\n",
      "jupyter==1.0.0\n",
      "jupyter-client==5.3.4\n",
      "jupyter-console==6.1.0\n",
      "jupyter-core==4.6.2\n",
      "latexcodec==2.0.0\n",
      "MarkupSafe==1.1.1\n",
      "mistune==0.8.4\n",
      "mypy==0.761\n",
      "mypy-extensions==0.4.3\n",
      "nbconvert==5.6.1\n",
      "nbformat==5.0.4\n",
      "notebook==6.0.3\n",
      "numpy==1.18.1\n",
      "oset==0.1.3\n",
      "packaging==20.1\n",
      "pandas==1.0.1\n",
      "pandocfilters==1.4.2\n",
      "parso==0.6.1\n",
      "pexpect==4.8.0\n",
      "pickleshare==0.7.5\n",
      "prometheus-client==0.7.1\n",
      "prompt-toolkit==3.0.3\n",
      "ptyprocess==0.6.0\n",
      "pybtex==0.22.2\n",
      "pybtex-docutils==0.2.2\n",
      "Pygments==2.5.2\n",
      "pyparsing==2.4.6\n",
      "pyrsistent==0.15.7\n",
      "python-dateutil==2.8.1\n",
      "pytz==2019.3\n",
      "PyYAML==5.3\n",
      "pyzmq==18.1.1\n",
      "qtconsole==4.6.0\n",
      "requests==2.22.0\n",
      "Send2Trash==1.5.0\n",
      "six==1.14.0\n",
      "snowballstemmer==2.0.0\n",
      "Sphinx==2.4.3\n",
      "sphinx-rtd-theme==0.4.3\n",
      "sphinxcontrib-applehelp==1.0.1\n",
      "sphinxcontrib-bibtex==1.0.0\n",
      "sphinxcontrib-devhelp==1.0.1\n",
      "sphinxcontrib-htmlhelp==1.0.2\n",
      "sphinxcontrib-jsmath==1.0.1\n",
      "sphinxcontrib-qthelp==1.0.2\n",
      "sphinxcontrib-serializinghtml==1.1.3\n",
      "terminado==0.8.3\n",
      "testpath==0.4.4\n",
      "tornado==6.0.3\n",
      "traitlets==4.3.3\n",
      "typed-ast==1.4.1\n",
      "typing-extensions==3.7.4.1\n",
      "urllib3==1.25.8\n",
      "wcwidth==0.1.8\n",
      "webencodings==0.5.1\n",
      "widgetsnbextension==3.5.1\n",
      "Note: you may need to restart the kernel to use updated packages.\n"
     ]
    }
   ],
   "source": [
    "pip freeze"
   ]
  },
  {
   "cell_type": "markdown",
   "metadata": {},
   "source": [
    "# Pickle\n",
    "\n",
    "1. Użyj danych z sekcji input (see below)\n",
    "1. Za pomocą ``pickle`` zapisz strukturę danych do pliku\n",
    "1. Odtwórz strukturę danych na podstawie danych z pliku"
   ]
  },
  {
   "cell_type": "code",
   "execution_count": 23,
   "metadata": {},
   "outputs": [
    {
     "name": "stdout",
     "output_type": "stream",
     "text": [
      "[\n",
      "\n",
      "Astronaut(name=\"Jan Twardowski\", missions=(\n",
      "\tMission(year=1969, name=\"Apollo 18\"), \n",
      "\tMission(year=2024, name=\"Artemis 3\"))), \n",
      "\n",
      "Astronaut(name=\"Mark Watney\", missions=\n",
      "\tMission(year=2035, name=\"Ares 3\")), \n",
      "\n",
      "Astronaut(name=\"Melissa Lewis\", missions=())]\n"
     ]
    }
   ],
   "source": [
    "import pickle\n",
    "\n",
    "\n",
    "class Astronaut:\n",
    "    def __init__(self, name, missions=()):\n",
    "        self.name = name\n",
    "        self.missions = missions\n",
    "\n",
    "    def __repr__(self):\n",
    "        return f'\\n\\nAstronaut(name=\"{self.name}\", missions={self.missions})'\n",
    "\n",
    "\n",
    "class Mission:\n",
    "    def __init__(self, year, name):\n",
    "        self.year = year\n",
    "        self.name = name\n",
    "\n",
    "    def __repr__(self):\n",
    "        return f'\\n\\tMission(year={self.year}, name=\"{self.name}\")'\n",
    "\n",
    "\n",
    "CREW = [\n",
    "    Astronaut('Jan Twardowski', missions=(\n",
    "        Mission(1969, 'Apollo 18'),\n",
    "        Mission(2024, 'Artemis 3'))),\n",
    "\n",
    "    Astronaut('Mark Watney', missions=(\n",
    "        Mission(2035, 'Ares 3'))),\n",
    "\n",
    "    Astronaut('Melissa Lewis'),\n",
    "]\n",
    "\n",
    "FILE = r'/tmp/astronauts.pkl'\n",
    "\n",
    "with open(FILE, mode='wb') as file:\n",
    "    pickle.dump(CREW, file)\n",
    "\n",
    "\n",
    "with open(FILE, mode='rb') as file:\n",
    "    output = pickle.load(file)\n",
    "\n",
    "\n",
    "print(output)"
   ]
  },
  {
   "cell_type": "markdown",
   "metadata": {},
   "source": [
    "# Date and Time"
   ]
  },
  {
   "cell_type": "markdown",
   "metadata": {},
   "source": [
    "### Create ``date``, ``time`` and ``datetime`` objects\n",
    "\n",
    "1. Stwórz obiekt ``date`` z datą Twojego urodzenia\n",
    "1. Stwórz obiekt ``time`` z czasem Twojego urodzenia\n",
    "1. Stwórz obiekt ``datetime`` z datą i czasem Twojego urodzenia"
   ]
  },
  {
   "cell_type": "code",
   "execution_count": 24,
   "metadata": {},
   "outputs": [],
   "source": [
    "from datetime import datetime, date, time\n",
    "\n",
    "\n",
    "d = date(1970, 1, 1)\n",
    "t = time(0, 0)\n",
    "dt = datetime(1970, 1, 1, 0, 0, 0)"
   ]
  },
  {
   "cell_type": "markdown",
   "metadata": {},
   "source": [
    "### Create current ``date`` and ``datetime`` objects\n",
    "\n",
    "1. Stwórz obiekt ``date`` z obecną datą\n",
    "1. Stwórz obiekt ``datetime`` z obecną datą i czasem\n",
    "1. Stwórz obiekt ``time`` z obecnym czasem\n",
    "1. Data i czas ma być pobierana z systemu, nie zapisana w kodzie"
   ]
  },
  {
   "cell_type": "code",
   "execution_count": 25,
   "metadata": {},
   "outputs": [],
   "source": [
    "from datetime import datetime, date\n",
    "\n",
    "\n",
    "dt = datetime.now()\n",
    "d = dt.date()\n",
    "t = dt.time()\n",
    "\n",
    "## Alternative\n",
    "# dt = datetime.now()\n",
    "# d = date.today()\n",
    "# t = datetime.now().time()"
   ]
  },
  {
   "cell_type": "markdown",
   "metadata": {},
   "source": [
    "### To ISO date format\n",
    "\n",
    "1. Podaną datę przekonwertuj do obiektu ``datetime``\n",
    "1. Używając parametrów formatujących wyświetl datę i czas w formacie ISO"
   ]
  },
  {
   "cell_type": "code",
   "execution_count": 26,
   "metadata": {},
   "outputs": [
    {
     "name": "stdout",
     "output_type": "stream",
     "text": [
      "1961-04-12T06:07:00.000000Z\n"
     ]
    }
   ],
   "source": [
    "from datetime import datetime\n",
    "\n",
    "\n",
    "INPUT = 'April 12, 1961 6:07 local time'\n",
    "\n",
    "format = '%B %d, %Y %H:%M local time'\n",
    "dt = datetime.strptime(INPUT, format)\n",
    "\n",
    "output = dt.strftime('%Y-%m-%dT%H:%M:%S.%fZ')\n",
    "print(output)"
   ]
  },
  {
   "cell_type": "markdown",
   "metadata": {},
   "source": [
    "### Log parsing\n",
    "\n",
    "1. Zapisz dane wejściowe do pliku ``apollo11-timeline.log``\n",
    "1. Wyciągnij obiekt ``datetime``, poziom logowania oraz wiadomość z każdej linii\n",
    "1. Zbierz dane do ``output: List[dict]`` (patrz sekcja output)\n",
    "1. Wyświetl ``output``"
   ]
  },
  {
   "cell_type": "code",
   "execution_count": 27,
   "metadata": {},
   "outputs": [
    {
     "name": "stdout",
     "output_type": "stream",
     "text": [
      "[{'date': datetime.datetime(1969, 7, 14, 21, 0),\n",
      "  'level': 'INFO',\n",
      "  'message': 'Terminal countdown started'},\n",
      " {'date': datetime.datetime(1969, 7, 16, 13, 31, 53),\n",
      "  'level': 'WARNING',\n",
      "  'message': 'S-IC engine ignition (#5)'},\n",
      " {'date': datetime.datetime(1969, 7, 16, 13, 33, 23),\n",
      "  'level': 'DEBUG',\n",
      "  'message': 'Maximum dynamic pressure (735.17 lb/ft^2)'},\n",
      " {'date': datetime.datetime(1969, 7, 16, 13, 34, 44),\n",
      "  'level': 'WARNING',\n",
      "  'message': 'S-II ignition'},\n",
      " {'date': datetime.datetime(1969, 7, 16, 13, 35, 17),\n",
      "  'level': 'DEBUG',\n",
      "  'message': 'Launch escape tower jettisoned'},\n",
      " {'date': datetime.datetime(1969, 7, 16, 13, 39, 40),\n",
      "  'level': 'DEBUG',\n",
      "  'message': 'S-II center engine cutoff'},\n",
      " {'date': datetime.datetime(1969, 7, 16, 16, 22, 13),\n",
      "  'level': 'INFO',\n",
      "  'message': 'Translunar injection'},\n",
      " {'date': datetime.datetime(1969, 7, 16, 16, 56, 3),\n",
      "  'level': 'INFO',\n",
      "  'message': 'CSM docked with LM/S-IVB'},\n",
      " {'date': datetime.datetime(1969, 7, 16, 17, 21, 50),\n",
      "  'level': 'INFO',\n",
      "  'message': 'Lunar orbit insertion ignition'},\n",
      " {'date': datetime.datetime(1969, 7, 16, 21, 43, 36),\n",
      "  'level': 'INFO',\n",
      "  'message': 'Lunar orbit circularization ignition'},\n",
      " {'date': datetime.datetime(1969, 7, 20, 17, 44),\n",
      "  'level': 'INFO',\n",
      "  'message': 'CSM/LM undocked'},\n",
      " {'date': datetime.datetime(1969, 7, 20, 20, 5, 5),\n",
      "  'level': 'WARNING',\n",
      "  'message': 'LM powered descent engine ignition'},\n",
      " {'date': datetime.datetime(1969, 7, 20, 20, 10, 22),\n",
      "  'level': 'ERROR',\n",
      "  'message': 'LM 1202 alarm'},\n",
      " {'date': datetime.datetime(1969, 7, 20, 20, 14, 18),\n",
      "  'level': 'ERROR',\n",
      "  'message': 'LM 1201 alarm'},\n",
      " {'date': datetime.datetime(1969, 7, 20, 20, 17, 39),\n",
      "  'level': 'WARNING',\n",
      "  'message': 'LM lunar landing'},\n",
      " {'date': datetime.datetime(1969, 7, 21, 2, 39, 33),\n",
      "  'level': 'DEBUG',\n",
      "  'message': 'EVA started (hatch open)'},\n",
      " {'date': datetime.datetime(1969, 7, 21, 2, 56, 15),\n",
      "  'level': 'WARNING',\n",
      "  'message': '1st step taken lunar surface (CDR)'},\n",
      " {'date': datetime.datetime(1969, 7, 21, 2, 56, 15),\n",
      "  'level': 'WARNING',\n",
      "  'message': \"That's one small step for [a] man... one giant leap for mankind\"},\n",
      " {'date': datetime.datetime(1969, 7, 21, 3, 5, 58),\n",
      "  'level': 'DEBUG',\n",
      "  'message': 'Contingency sample collection started (CDR)'},\n",
      " {'date': datetime.datetime(1969, 7, 21, 3, 15, 16),\n",
      "  'level': 'INFO',\n",
      "  'message': 'LMP on lunar surface'},\n",
      " {'date': datetime.datetime(1969, 7, 21, 5, 11, 13),\n",
      "  'level': 'DEBUG',\n",
      "  'message': 'EVA ended (hatch closed)'},\n",
      " {'date': datetime.datetime(1969, 7, 21, 17, 54),\n",
      "  'level': 'WARNING',\n",
      "  'message': 'LM lunar liftoff ignition (LM APS)'},\n",
      " {'date': datetime.datetime(1969, 7, 21, 21, 35),\n",
      "  'level': 'INFO',\n",
      "  'message': 'CSM/LM docked'},\n",
      " {'date': datetime.datetime(1969, 7, 22, 4, 55, 42),\n",
      "  'level': 'WARNING',\n",
      "  'message': 'Transearth injection ignition (SPS)'},\n",
      " {'date': datetime.datetime(1969, 7, 24, 16, 21, 12),\n",
      "  'level': 'INFO',\n",
      "  'message': 'CM/SM separation'},\n",
      " {'date': datetime.datetime(1969, 7, 24, 16, 35, 5),\n",
      "  'level': 'WARNING',\n",
      "  'message': 'Entry'},\n",
      " {'date': datetime.datetime(1969, 7, 24, 16, 50, 35),\n",
      "  'level': 'WARNING',\n",
      "  'message': 'Splashdown (went to apex-down)'},\n",
      " {'date': datetime.datetime(1969, 7, 24, 17, 29),\n",
      "  'level': 'INFO',\n",
      "  'message': 'Crew egress'}]\n"
     ]
    }
   ],
   "source": [
    "from datetime import datetime, timezone\n",
    "from pprint import pprint\n",
    "\n",
    "\n",
    "# https://history.nasa.gov/SP-4029/Apollo_11i_Timeline.htm\n",
    "INPUT = \"\"\"\n",
    "1969-07-14, 21:00:00, INFO, Terminal countdown started\n",
    "1969-07-16, 13:31:53, WARNING, S-IC engine ignition (#5)\n",
    "1969-07-16, 13:33:23, DEBUG, Maximum dynamic pressure (735.17 lb/ft^2)\n",
    "1969-07-16, 13:34:44, WARNING, S-II ignition\n",
    "1969-07-16, 13:35:17, DEBUG, Launch escape tower jettisoned\n",
    "1969-07-16, 13:39:40, DEBUG, S-II center engine cutoff\n",
    "1969-07-16, 16:22:13, INFO, Translunar injection\n",
    "1969-07-16, 16:56:03, INFO, CSM docked with LM/S-IVB\n",
    "1969-07-16, 17:21:50, INFO, Lunar orbit insertion ignition\n",
    "1969-07-16, 21:43:36, INFO, Lunar orbit circularization ignition\n",
    "1969-07-20, 17:44:00, INFO, CSM/LM undocked\n",
    "1969-07-20, 20:05:05, WARNING, LM powered descent engine ignition\n",
    "1969-07-20, 20:10:22, ERROR, LM 1202 alarm\n",
    "1969-07-20, 20:14:18, ERROR, LM 1201 alarm\n",
    "1969-07-20, 20:17:39, WARNING, LM lunar landing\n",
    "1969-07-21, 02:39:33, DEBUG, EVA started (hatch open)\n",
    "1969-07-21, 02:56:15, WARNING, 1st step taken lunar surface (CDR)\n",
    "1969-07-21, 02:56:15, WARNING, That's one small step for [a] man... one giant leap for mankind\n",
    "1969-07-21, 03:05:58, DEBUG, Contingency sample collection started (CDR)\n",
    "1969-07-21, 03:15:16, INFO, LMP on lunar surface\n",
    "1969-07-21, 05:11:13, DEBUG, EVA ended (hatch closed)\n",
    "1969-07-21, 17:54:00, WARNING, LM lunar liftoff ignition (LM APS)\n",
    "1969-07-21, 21:35:00, INFO, CSM/LM docked\n",
    "1969-07-22, 04:55:42, WARNING, Transearth injection ignition (SPS)\n",
    "1969-07-24, 16:21:12, INFO, CM/SM separation\n",
    "1969-07-24, 16:35:05, WARNING, Entry\n",
    "1969-07-24, 16:50:35, WARNING, Splashdown (went to apex-down)\n",
    "1969-07-24, 17:29, INFO, Crew egress\n",
    "\"\"\"\n",
    "\n",
    "output = []\n",
    "\n",
    "\n",
    "for line in INPUT.splitlines():\n",
    "    if not line:\n",
    "        continue\n",
    "\n",
    "    date, time, level, message = line.split(', ', maxsplit=3)\n",
    "    date = datetime.strptime(date, '%Y-%m-%d')\n",
    "\n",
    "    try:\n",
    "        time = datetime.strptime(time, '%H:%M:%S').time()\n",
    "    except ValueError:\n",
    "        time = datetime.strptime(time, '%H:%M').time()\n",
    "\n",
    "    output.append({\n",
    "        'date': datetime.combine(date, time),\n",
    "        'level': level,\n",
    "        'message': message,\n",
    "    })\n",
    "\n",
    "pprint(output)"
   ]
  },
  {
   "cell_type": "code",
   "execution_count": null,
   "metadata": {},
   "outputs": [],
   "source": []
  }
 ],
 "metadata": {
  "kernelspec": {
   "display_name": "Python 3",
   "language": "python",
   "name": "python3"
  },
  "language_info": {
   "codemirror_mode": {
    "name": "ipython",
    "version": 3
   },
   "file_extension": ".py",
   "mimetype": "text/x-python",
   "name": "python",
   "nbconvert_exporter": "python",
   "pygments_lexer": "ipython3",
   "version": "3.8.1"
  }
 },
 "nbformat": 4,
 "nbformat_minor": 4
}
