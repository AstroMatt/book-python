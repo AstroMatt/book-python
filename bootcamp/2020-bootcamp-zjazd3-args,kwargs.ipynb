{
 "cells": [
  {
   "cell_type": "markdown",
   "metadata": {},
   "source": [
    "# Args and KWargs"
   ]
  },
  {
   "cell_type": "markdown",
   "metadata": {},
   "source": [
    "## Average\n",
    "\n",
    "1. Napisz funkcję ``average()``, wyliczającą średnią arytmetyczną\n",
    "1. Funkcja przyjmuje dowolną ilość pozycyjnych argumentów\n",
    "1. Nie używaj ``numpy`` ani ``statistics``"
   ]
  },
  {
   "cell_type": "code",
   "execution_count": null,
   "metadata": {},
   "outputs": [],
   "source": []
  },
  {
   "cell_type": "markdown",
   "metadata": {},
   "source": [
    "## args\n",
    "\n",
    "1. Stwórz funkcję ``is_numeric``\n",
    "1. Funkcja może przyjmować dowolną liczbę argumentów pozycyjnych\n",
    "1. Podawane argumenty mogą być dowolnego typu\n",
    "1. Zwróć ``True`` jeżeli wszystkie argumenty są tylko typów ``int`` lub ``float``\n",
    "1. Zwróć ``False`` jeżeli którykolwiek jest innego typu\n",
    "1. Nie używaj ``all()`` oraz ``any()``\n",
    "1. Porównaj użycie ``type()`` i ``isinstance()`` podając argument do funkcji ``True``\n",
    "1. Uruchom funkcję bez podawania argumentów"
   ]
  },
  {
   "cell_type": "code",
   "execution_count": null,
   "metadata": {},
   "outputs": [],
   "source": []
  },
  {
   "cell_type": "markdown",
   "metadata": {},
   "source": [
    "## args and kwargs\n",
    "\n",
    "1. Stwórz funkcję ``is_numeric``\n",
    "1. Funkcja może przyjmować dowolną liczbę argumentów pozycyjnych **i nazwanych**\n",
    "1. Podawane argumenty mogą być dowolnego typu\n",
    "1. Zwróć ``True`` jeżeli wszystkie argumenty są tylko typów ``int`` lub ``float``\n",
    "1. Zwróć ``False`` jeżeli którykolwiek jest innego typu\n",
    "1. Nie używaj ``all()`` oraz ``any()``\n",
    "1. Porównaj użycie ``type()`` i ``isinstance()`` podając argument do funkcji ``True``\n",
    "1. Uruchom funkcję bez podawania argumentów"
   ]
  },
  {
   "cell_type": "markdown",
   "metadata": {},
   "source": [
    "## Iris\n",
    "\n",
    "1. Pobierz plik `data/iris.csv` i zapisz jako ``iris.csv``\n",
    "1. Usuń kolumnę ``species``\n",
    "1. Odseparuj nagłówek od pomiarów\n",
    "1. Wyciągnij wartości z każdej linii przez podział jej po przecinku ``,``\n",
    "1. Stwórz ``output: List[dict]`` poprzez scalenie nagłówka i pomiarów z każdego wiersza\n",
    "\n",
    "    - klucz: nazwa kolumny z nagłówka\n",
    "    - wartość: pomiar z odpowiedniej kolumny\n",
    "\n",
    "1. Stwórz funkcję ``mean(**kwargs)``\n",
    "1. Iterując po ``output`` wywołuj ``mean()`` podając argumenty nazwanie\n",
    "1. Wypisz średnią dla każdego wiersza"
   ]
  },
  {
   "cell_type": "code",
   "execution_count": null,
   "metadata": {},
   "outputs": [],
   "source": []
  }
 ],
 "metadata": {
  "kernelspec": {
   "display_name": "Python 3",
   "language": "python",
   "name": "python3"
  },
  "language_info": {
   "codemirror_mode": {
    "name": "ipython",
    "version": 3
   },
   "file_extension": ".py",
   "mimetype": "text/x-python",
   "name": "python",
   "nbconvert_exporter": "python",
   "pygments_lexer": "ipython3",
   "version": "3.8.1"
  }
 },
 "nbformat": 4,
 "nbformat_minor": 4
}
