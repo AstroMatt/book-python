{
 "cells": [
  {
   "cell_type": "markdown",
   "metadata": {},
   "source": [
    "# Sages Python Bootcamp zjazd 2 dzień 1"
   ]
  },
  {
   "cell_type": "markdown",
   "metadata": {},
   "source": [
    "## 7.3.3.b. Unique keys from schema-less database"
   ]
  },
  {
   "cell_type": "markdown",
   "metadata": {},
   "source": [
    "1. Dla danych wejściowych (patrz sekcja input)\n",
    "1. Zbierz klucze z wszystkich wierszy w jednej sekwencji ``output``\n",
    "1. Posortuj ``output``\n",
    "1. Wypisz unikalne klucze"
   ]
  },
  {
   "cell_type": "code",
   "execution_count": 1,
   "metadata": {},
   "outputs": [],
   "source": [
    "DATA = [\n",
    "    {'Sepal length': 5.1, 'Sepal width': 3.5, 'Species': 'setosa'},\n",
    "    {'Petal length': 4.1, 'Petal width': 1.3, 'Species': 'versicolor'},\n",
    "    {'Sepal length': 6.3, 'Petal width': 1.8, 'Species': 'virginica'},\n",
    "    {'Sepal length': 5.0, 'Petal width': 0.2, 'Species': 'setosa'},\n",
    "    {'Sepal width': 2.8, 'Petal length': 4.1, 'Species': 'versicolor'},\n",
    "    {'Sepal width': 2.9, 'Petal width': 1.8, 'Species': 'virginica'},\n",
    "]"
   ]
  },
  {
   "cell_type": "code",
   "execution_count": 2,
   "metadata": {},
   "outputs": [
    {
     "name": "stdout",
     "output_type": "stream",
     "text": [
      "2.15 µs ± 25.3 ns per loop (mean ± std. dev. of 10 runs, 1000000 loops each)\n"
     ]
    }
   ],
   "source": [
    "%%timeit -r 10 -n 1_000_000\n",
    "\n",
    "output = []\n",
    "\n",
    "for row in DATA:\n",
    "    for key in row.keys():\n",
    "        if key not in output:\n",
    "            output.append(key)\n",
    "\n",
    "sorted(output)"
   ]
  },
  {
   "cell_type": "code",
   "execution_count": 3,
   "metadata": {},
   "outputs": [
    {
     "name": "stdout",
     "output_type": "stream",
     "text": [
      "2.62 µs ± 115 ns per loop (mean ± std. dev. of 10 runs, 1000000 loops each)\n"
     ]
    }
   ],
   "source": [
    "%%timeit -r 10 -n 1_000_000\n",
    "\n",
    "output = []\n",
    "\n",
    "for row in DATA:\n",
    "    for key in row.keys():\n",
    "        output.append(key)\n",
    "\n",
    "sorted(set(output))"
   ]
  },
  {
   "cell_type": "code",
   "execution_count": 4,
   "metadata": {},
   "outputs": [
    {
     "name": "stdout",
     "output_type": "stream",
     "text": [
      "2.29 µs ± 79.8 ns per loop (mean ± std. dev. of 10 runs, 1000000 loops each)\n"
     ]
    }
   ],
   "source": [
    "%%timeit -r 10 -n 1_000_000\n",
    "\n",
    "output = set()\n",
    "\n",
    "for row in DATA:\n",
    "    for key in row.keys():\n",
    "        output.add(key)\n",
    "        \n",
    "sorted(output)"
   ]
  },
  {
   "cell_type": "code",
   "execution_count": 5,
   "metadata": {},
   "outputs": [
    {
     "name": "stdout",
     "output_type": "stream",
     "text": [
      "1.93 µs ± 36.7 ns per loop (mean ± std. dev. of 10 runs, 1000000 loops each)\n"
     ]
    }
   ],
   "source": [
    "%%timeit -r 10 -n 1_000_000\n",
    "\n",
    "output = set()\n",
    "\n",
    "for row in DATA:\n",
    "    output.update(row.keys())\n",
    "        \n",
    "sorted(output)"
   ]
  },
  {
   "cell_type": "markdown",
   "metadata": {},
   "source": [
    "## 7.4.3.a. Unpacking"
   ]
  },
  {
   "cell_type": "markdown",
   "metadata": {},
   "source": [
    "1. Dla danych wejściowych (patrz sekcja input)\n",
    "1. Oddziel nagłówek od danych\n",
    "1. Iterując po danych rozpakuj wiersz do ``*features`` oraz ``label``\n",
    "1. Wypisz nazwy gatunków kończące się na \"ca\" lub \"osa\""
   ]
  },
  {
   "cell_type": "code",
   "execution_count": 6,
   "metadata": {},
   "outputs": [
    {
     "name": "stdout",
     "output_type": "stream",
     "text": [
      "virginica\n",
      "setosa\n",
      "virginica\n",
      "setosa\n",
      "virginica\n",
      "setosa\n"
     ]
    }
   ],
   "source": [
    "DATA = [\n",
    "    ('Sepal length', 'Sepal width', 'Petal length', 'Petal width', 'Species'),\n",
    "    (5.8, 2.7, 5.1, 1.9, {'virginica'}),\n",
    "    (5.1, 3.5, 1.4, 0.2, {'setosa'}),\n",
    "    (5.7, 2.8, 4.1, 1.3, {'versicolor'}),\n",
    "    (6.3, 2.9, 5.6, 1.8, {'virginica'}),\n",
    "    (6.4, 3.2, 4.5, 1.5, {'versicolor'}),\n",
    "    (4.7, 3.2, 1.3, 0.2, {'setosa'}),\n",
    "    (7.0, 3.2, 4.7, 1.4, {'versicolor'}),\n",
    "    (7.6, 3.0, 6.6, 2.1, {'virginica'}),\n",
    "    (4.6, 3.1, 1.5, 0.2, {'setosa'}),\n",
    "]\n",
    "\n",
    "header, *data = DATA\n",
    "\n",
    "for row in data:\n",
    "    species = row[4].pop()\n",
    "\n",
    "    if species.endswith('ca') or species.endswith('sa'):\n",
    "        print(species)\n",
    "\n",
    "\n",
    "## Alternative Solution\n",
    "# for *_, species in data:\n",
    "#     species = species.pop()\n",
    "#\n",
    "#     if species.endswith('ca') or species.endswith('sa'):\n",
    "#         print(species)"
   ]
  },
  {
   "cell_type": "markdown",
   "metadata": {},
   "source": [
    "## 7.5.3.a. dict to dict"
   ]
  },
  {
   "cell_type": "markdown",
   "metadata": {},
   "source": [
    "1. Dla danych wejściowych (patrz sekcja input)\n",
    "1. Przekonwertuj do ``output: Dict[str, str]``\n",
    "1. Rezultat powinien być identyczny do wyjściowego (patrz sekcja output)"
   ]
  },
  {
   "cell_type": "code",
   "execution_count": 7,
   "metadata": {},
   "outputs": [
    {
     "name": "stdout",
     "output_type": "stream",
     "text": [
      "{'Doctorate': '6', 'Prof-school': '6', 'Masters': '5', 'Bachelor': '5', 'Engineer': '5', 'HS-grad': '4', 'Junior High': '3', 'Primary School': '2', 'Kindergarten': '1'}\n"
     ]
    }
   ],
   "source": [
    "DATA = {\n",
    "    6: ['Doctorate', 'Prof-school'],\n",
    "    5: ['Masters', 'Bachelor', 'Engineer'],\n",
    "    4: ['HS-grad'],\n",
    "    3: ['Junior High'],\n",
    "    2: ['Primary School'],\n",
    "    1: ['Kindergarten'],\n",
    "}\n",
    "\n",
    "output = {}\n",
    "\n",
    "for level, degrees in DATA.items():\n",
    "    for education in degrees:\n",
    "        output[education] = str(level)\n",
    "\n",
    "print(output)\n",
    "\n",
    "\n",
    "## Alternative version\n",
    "# output = {education: str(level)\n",
    "#     for level, degrees in DATA.items()\n",
    "#         for education in degrees\n",
    "# }"
   ]
  },
  {
   "cell_type": "markdown",
   "metadata": {},
   "source": [
    "## 7.5.3.b. List[tuple] to List[dict]"
   ]
  },
  {
   "cell_type": "markdown",
   "metadata": {},
   "source": [
    "1. Dla danych wejściowych (patrz sekcja input)\n",
    "1. Odseparuj nagłówek i dane\n",
    "1. Wypisz ``List[dict]``:\n",
    "    - klucz: nazwa z nagłówka\n",
    "    - wartość: wyniki pomiarów lub gatunek"
   ]
  },
  {
   "cell_type": "code",
   "execution_count": 8,
   "metadata": {},
   "outputs": [
    {
     "name": "stdout",
     "output_type": "stream",
     "text": [
      "[{'Sepal length': 5.8, 'Sepal width': 2.7, 'Petal length': 5.1, 'Petal width': 1.9, 'Species': 'virginica'}, {'Sepal length': 5.1, 'Sepal width': 3.5, 'Petal length': 1.4, 'Petal width': 0.2, 'Species': 'setosa'}, {'Sepal length': 5.7, 'Sepal width': 2.8, 'Petal length': 4.1, 'Petal width': 1.3, 'Species': 'versicolor'}, {'Sepal length': 6.3, 'Sepal width': 2.9, 'Petal length': 5.6, 'Petal width': 1.8, 'Species': 'virginica'}, {'Sepal length': 6.4, 'Sepal width': 3.2, 'Petal length': 4.5, 'Petal width': 1.5, 'Species': 'versicolor'}, {'Sepal length': 4.7, 'Sepal width': 3.2, 'Petal length': 1.3, 'Petal width': 0.2, 'Species': 'setosa'}, {'Sepal length': 7.0, 'Sepal width': 3.2, 'Petal length': 4.7, 'Petal width': 1.4, 'Species': 'versicolor'}, {'Sepal length': 7.6, 'Sepal width': 3.0, 'Petal length': 6.6, 'Petal width': 2.1, 'Species': 'virginica'}, {'Sepal length': 4.9, 'Sepal width': 3.0, 'Petal length': 1.4, 'Petal width': 0.2, 'Species': 'setosa'}, {'Sepal length': 4.9, 'Sepal width': 2.5, 'Petal length': 4.5, 'Petal width': 1.7, 'Species': 'virginica'}, {'Sepal length': 7.1, 'Sepal width': 3.0, 'Petal length': 5.9, 'Petal width': 2.1, 'Species': 'virginica'}, {'Sepal length': 4.6, 'Sepal width': 3.4, 'Petal length': 1.4, 'Petal width': 0.3, 'Species': 'setosa'}, {'Sepal length': 5.4, 'Sepal width': 3.9, 'Petal length': 1.7, 'Petal width': 0.4, 'Species': 'setosa'}, {'Sepal length': 5.7, 'Sepal width': 2.8, 'Petal length': 4.5, 'Petal width': 1.3, 'Species': 'versicolor'}, {'Sepal length': 5.0, 'Sepal width': 3.6, 'Petal length': 1.4, 'Petal width': 0.3, 'Species': 'setosa'}, {'Sepal length': 5.5, 'Sepal width': 2.3, 'Petal length': 4.0, 'Petal width': 1.3, 'Species': 'versicolor'}, {'Sepal length': 6.5, 'Sepal width': 3.0, 'Petal length': 5.8, 'Petal width': 2.2, 'Species': 'virginica'}, {'Sepal length': 6.5, 'Sepal width': 2.8, 'Petal length': 4.6, 'Petal width': 1.5, 'Species': 'versicolor'}, {'Sepal length': 6.3, 'Sepal width': 3.3, 'Petal length': 6.0, 'Petal width': 2.5, 'Species': 'virginica'}, {'Sepal length': 6.9, 'Sepal width': 3.1, 'Petal length': 4.9, 'Petal width': 1.5, 'Species': 'versicolor'}, {'Sepal length': 4.6, 'Sepal width': 3.1, 'Petal length': 1.5, 'Petal width': 0.2, 'Species': 'setosa'}]\n"
     ]
    }
   ],
   "source": [
    "DATA = [\n",
    "    ('Sepal length', 'Sepal width', 'Petal length', 'Petal width', 'Species'),\n",
    "    (5.8, 2.7, 5.1, 1.9, 'virginica'),\n",
    "    (5.1, 3.5, 1.4, 0.2, 'setosa'),\n",
    "    (5.7, 2.8, 4.1, 1.3, 'versicolor'),\n",
    "    (6.3, 2.9, 5.6, 1.8, 'virginica'),\n",
    "    (6.4, 3.2, 4.5, 1.5, 'versicolor'),\n",
    "    (4.7, 3.2, 1.3, 0.2, 'setosa'),\n",
    "    (7.0, 3.2, 4.7, 1.4, 'versicolor'),\n",
    "    (7.6, 3.0, 6.6, 2.1, 'virginica'),\n",
    "    (4.9, 3.0, 1.4, 0.2, 'setosa'),\n",
    "    (4.9, 2.5, 4.5, 1.7, 'virginica'),\n",
    "    (7.1, 3.0, 5.9, 2.1, 'virginica'),\n",
    "    (4.6, 3.4, 1.4, 0.3, 'setosa'),\n",
    "    (5.4, 3.9, 1.7, 0.4, 'setosa'),\n",
    "    (5.7, 2.8, 4.5, 1.3, 'versicolor'),\n",
    "    (5.0, 3.6, 1.4, 0.3, 'setosa'),\n",
    "    (5.5, 2.3, 4.0, 1.3, 'versicolor'),\n",
    "    (6.5, 3.0, 5.8, 2.2, 'virginica'),\n",
    "    (6.5, 2.8, 4.6, 1.5, 'versicolor'),\n",
    "    (6.3, 3.3, 6.0, 2.5, 'virginica'),\n",
    "    (6.9, 3.1, 4.9, 1.5, 'versicolor'),\n",
    "    (4.6, 3.1, 1.5, 0.2, 'setosa'),\n",
    "]\n",
    "\n",
    "header, *data = DATA\n",
    "output = []\n",
    "\n",
    "for values in data:\n",
    "    pair = zip(header, values)\n",
    "    output.append(dict(pair))\n",
    "\n",
    "    ## Alternative solution\n",
    "    # row = {}\n",
    "    #\n",
    "    # for i, _ in enumerate(header):\n",
    "    #     key = header[i]\n",
    "    #     value = values[i]\n",
    "    #     row[key] = value\n",
    "    #\n",
    "    # output.append(row)\n",
    "\n",
    "    ## Alternative solution\n",
    "    # output.append({key: values[i] for i, key in enumerate(header)})\n",
    "\n",
    "\n",
    "print(output)"
   ]
  },
  {
   "cell_type": "markdown",
   "metadata": {},
   "source": [
    "## 7.5.3.c. Label encoder"
   ]
  },
  {
   "cell_type": "markdown",
   "metadata": {},
   "source": [
    "1. Dla danych wejściowych (patrz sekcja input)\n",
    "1. Zdefiniuj:\n",
    "\n",
    "    * ``features: List[tuple]`` - pomiary\n",
    "    * ``labels: List[int]`` - gatunki\n",
    "    * ``label_encoder: Dict[int, str]`` - słownik zakodowanych (jako cyfry) nazw gatunków\n",
    "\n",
    "1. Odseparuj nagłówek od danych\n",
    "1. Aby móc zakodować i odkodować ``labels`` (gatunki) potrzebny jest ``label_encoder: Dict[int, str]``:\n",
    "\n",
    "    * key - identyfikator (kolejna liczba rzeczywista)\n",
    "    * value - nazwa gatunku\n",
    "\n",
    "1. ``label_encoder`` musi być wygenerowany z ``DATA``\n",
    "1. Dla każdego wiersza dodawaj odpowiednie dane do ``feature``, ``labels`` i ``label_encoder``\n",
    "1. Wypisz ``feature``, ``labels`` i ``label_encoder``\n",
    "1. Wynik ma być identyczny z danymi wyjściowymi (patrz sekcja output)"
   ]
  },
  {
   "cell_type": "code",
   "execution_count": 9,
   "metadata": {},
   "outputs": [
    {
     "name": "stdout",
     "output_type": "stream",
     "text": [
      "[(5.8, 2.7, 5.1, 1.9), (5.1, 3.5, 1.4, 0.2), (5.7, 2.8, 4.1, 1.3), (6.3, 2.9, 5.6, 1.8), (6.4, 3.2, 4.5, 1.5), (4.7, 3.2, 1.3, 0.2), (7.0, 3.2, 4.7, 1.4), (7.6, 3.0, 6.6, 2.1), (4.9, 3.0, 1.4, 0.2), (4.9, 2.5, 4.5, 1.7), (7.1, 3.0, 5.9, 2.1), (4.6, 3.4, 1.4, 0.3), (5.4, 3.9, 1.7, 0.4), (5.7, 2.8, 4.5, 1.3), (5.0, 3.6, 1.4, 0.3), (5.5, 2.3, 4.0, 1.3), (6.5, 3.0, 5.8, 2.2), (6.5, 2.8, 4.6, 1.5), (6.3, 3.3, 6.0, 2.5), (6.9, 3.1, 4.9, 1.5), (4.6, 3.1, 1.5, 0.2)]\n",
      "\n",
      "[0, 1, 2, 0, 2, 1, 2, 0, 1, 0, 0, 1, 1, 2, 1, 2, 0, 2, 0, 2, 1]\n",
      "\n",
      "{0: 'virginica', 1: 'setosa', 2: 'versicolor'}\n"
     ]
    }
   ],
   "source": [
    "from typing import List, Tuple, Dict\n",
    "\n",
    "\n",
    "DATA = [\n",
    "    ('Sepal length', 'Sepal width', 'Petal length', 'Petal width', 'Species'),\n",
    "    (5.8, 2.7, 5.1, 1.9, 'virginica'),\n",
    "    (5.1, 3.5, 1.4, 0.2, 'setosa'),\n",
    "    (5.7, 2.8, 4.1, 1.3, 'versicolor'),\n",
    "    (6.3, 2.9, 5.6, 1.8, 'virginica'),\n",
    "    (6.4, 3.2, 4.5, 1.5, 'versicolor'),\n",
    "    (4.7, 3.2, 1.3, 0.2, 'setosa'),\n",
    "    (7.0, 3.2, 4.7, 1.4, 'versicolor'),\n",
    "    (7.6, 3.0, 6.6, 2.1, 'virginica'),\n",
    "    (4.9, 3.0, 1.4, 0.2, 'setosa'),\n",
    "    (4.9, 2.5, 4.5, 1.7, 'virginica'),\n",
    "    (7.1, 3.0, 5.9, 2.1, 'virginica'),\n",
    "    (4.6, 3.4, 1.4, 0.3, 'setosa'),\n",
    "    (5.4, 3.9, 1.7, 0.4, 'setosa'),\n",
    "    (5.7, 2.8, 4.5, 1.3, 'versicolor'),\n",
    "    (5.0, 3.6, 1.4, 0.3, 'setosa'),\n",
    "    (5.5, 2.3, 4.0, 1.3, 'versicolor'),\n",
    "    (6.5, 3.0, 5.8, 2.2, 'virginica'),\n",
    "    (6.5, 2.8, 4.6, 1.5, 'versicolor'),\n",
    "    (6.3, 3.3, 6.0, 2.5, 'virginica'),\n",
    "    (6.9, 3.1, 4.9, 1.5, 'versicolor'),\n",
    "    (4.6, 3.1, 1.5, 0.2, 'setosa'),\n",
    "]\n",
    "\n",
    "\n",
    "header = DATA[0]\n",
    "data = DATA[1:]\n",
    "\n",
    "features: List[Tuple[float]] = []\n",
    "labels: List[int] = []\n",
    "\n",
    "label_encoder: Dict[int, str] = {}\n",
    "\n",
    "\n",
    "for *measurements, species in data:\n",
    "    features.append(tuple(measurements))\n",
    "\n",
    "    if species not in label_encoder.values():\n",
    "        number = len(label_encoder)\n",
    "        label_encoder[number] = species\n",
    "\n",
    "    for number, name in label_encoder.items():\n",
    "        if name == species:\n",
    "            labels.append(number)\n",
    "\n",
    "\n",
    "print(features)\n",
    "print()\n",
    "print(labels)\n",
    "print()\n",
    "print(label_encoder)\n",
    "\n",
    "\n",
    "## Alternative Version\n",
    "# header, *data = DATA\n",
    "#\n",
    "# features = []\n",
    "# labels = []\n",
    "# species = {}\n",
    "#\n",
    "# for *measurements, kind in data:\n",
    "#     if kind not in species:\n",
    "#         species[kind] = len(species)\n",
    "#\n",
    "#     features.append(tuple(measurements))\n",
    "#     labels.append(species[kind])\n",
    "#\n",
    "# species = {v:k for k,v in species.items()}\n",
    "#\n",
    "# print(features)\n",
    "# print(labels)\n",
    "# print(species)\n",
    "\n",
    "## Alternative Version\n",
    "# s = set(x[-1] for x in DATA[1:])\n",
    "# label_encoder = dict(zip(s, range(0, len(s))))\n",
    "\n",
    "\n",
    "## Alternative Version\n",
    "# In numerical analysis you can find this\n",
    "# label_encoder = dict(enumerate(set(x[-1] for x in DATA[1:])))\n",
    "\n",
    "\n",
    "## Alternative Version\n",
    "# label_encoder = dict(zip(label_encoder.values(), label_encoder.keys()))"
   ]
  },
  {
   "cell_type": "markdown",
   "metadata": {},
   "source": [
    "## 7.6.8.a. Split train/test"
   ]
  },
  {
   "cell_type": "markdown",
   "metadata": {},
   "source": [
    "1. Dana jest struktura danych ``DATA: List[tuple]`` (patrz sekcja input)\n",
    "1. Odseparuj nagłówek do danych\n",
    "1. Wylicz punkt podziału: długość danych razy zadany procent\n",
    "1. Używając List Comprehension podziel dane na:\n",
    "\n",
    "    - ``features: List[tuple]`` - lista pomiarów (każdy wiersz z pomiarami ma być tuple)\n",
    "    - ``labels: List[str]`` - lista nazw gatunków\n",
    "\n",
    "1. Podziel te struktury danych w proporcji:\n",
    "\n",
    "    - ``features_train: List[tuple]`` - features do uczenia - 60%\n",
    "    - ``features_test: List[tuple]`` - features do testów - 40%\n",
    "    - ``labels_train: List[str]`` - labels do uczenia - 60%\n",
    "    - ``labels_test: List[str]`` - labels do testów - 40%\n",
    "\n",
    "1. Stwórz ``output: Tuple[list, list, list, list]`` z cechami (treningowymi i testowymi) oraz labelkami (treningowymi i testowymi)\n",
    "1. Wypisz ``output``\n",
    "1. Porównaj wynik z sekcją \"Output\" poniżej"
   ]
  },
  {
   "cell_type": "code",
   "execution_count": 10,
   "metadata": {},
   "outputs": [
    {
     "name": "stdout",
     "output_type": "stream",
     "text": [
      "([(5.8, 2.7, 5.1, 1.9), (5.1, 3.5, 1.4, 0.2), (5.7, 2.8, 4.1, 1.3), (6.3, 2.9, 5.6, 1.8), (6.4, 3.2, 4.5, 1.5), (4.7, 3.2, 1.3, 0.2), (7.0, 3.2, 4.7, 1.4), (7.6, 3.0, 6.6, 2.1), (4.9, 3.0, 1.4, 0.2), (4.9, 2.5, 4.5, 1.7), (7.1, 3.0, 5.9, 2.1), (4.6, 3.4, 1.4, 0.3)], [(5.4, 3.9, 1.7, 0.4), (5.7, 2.8, 4.5, 1.3), (5.0, 3.6, 1.4, 0.3), (5.5, 2.3, 4.0, 1.3), (6.5, 3.0, 5.8, 2.2), (6.5, 2.8, 4.6, 1.5), (6.3, 3.3, 6.0, 2.5), (6.9, 3.1, 4.9, 1.5), (4.6, 3.1, 1.5, 0.2)], ['virginica', 'setosa', 'versicolor', 'virginica', 'versicolor', 'setosa', 'versicolor', 'virginica', 'setosa', 'virginica', 'virginica', 'setosa'], ['setosa', 'versicolor', 'setosa', 'versicolor', 'virginica', 'versicolor', 'virginica', 'versicolor', 'setosa'])\n"
     ]
    }
   ],
   "source": [
    "DATA = [\n",
    "    ('Sepal length', 'Sepal width', 'Petal length', 'Petal width', 'Species'),\n",
    "    (5.8, 2.7, 5.1, 1.9, 'virginica'),\n",
    "    (5.1, 3.5, 1.4, 0.2, 'setosa'),\n",
    "    (5.7, 2.8, 4.1, 1.3, 'versicolor'),\n",
    "    (6.3, 2.9, 5.6, 1.8, 'virginica'),\n",
    "    (6.4, 3.2, 4.5, 1.5, 'versicolor'),\n",
    "    (4.7, 3.2, 1.3, 0.2, 'setosa'),\n",
    "    (7.0, 3.2, 4.7, 1.4, 'versicolor'),\n",
    "    (7.6, 3.0, 6.6, 2.1, 'virginica'),\n",
    "    (4.9, 3.0, 1.4, 0.2, 'setosa'),\n",
    "    (4.9, 2.5, 4.5, 1.7, 'virginica'),\n",
    "    (7.1, 3.0, 5.9, 2.1, 'virginica'),\n",
    "    (4.6, 3.4, 1.4, 0.3, 'setosa'),\n",
    "    (5.4, 3.9, 1.7, 0.4, 'setosa'),\n",
    "    (5.7, 2.8, 4.5, 1.3, 'versicolor'),\n",
    "    (5.0, 3.6, 1.4, 0.3, 'setosa'),\n",
    "    (5.5, 2.3, 4.0, 1.3, 'versicolor'),\n",
    "    (6.5, 3.0, 5.8, 2.2, 'virginica'),\n",
    "    (6.5, 2.8, 4.6, 1.5, 'versicolor'),\n",
    "    (6.3, 3.3, 6.0, 2.5, 'virginica'),\n",
    "    (6.9, 3.1, 4.9, 1.5, 'versicolor'),\n",
    "    (4.6, 3.1, 1.5, 0.2, 'setosa'),\n",
    "]\n",
    "\n",
    "\n",
    "RATIO = 0.6\n",
    "\n",
    "header, *data = DATA\n",
    "pivot = int(len(data) * RATIO)\n",
    "\n",
    "features = [tuple(measurements) for *measurements,_ in data]\n",
    "features_train = features[:pivot]\n",
    "features_test = features[pivot:]\n",
    "\n",
    "labels = [species for *_,species in data]\n",
    "labels_train = labels[:pivot]\n",
    "labels_test = labels[pivot:]\n",
    "\n",
    "result = features_train, features_test, labels_train, labels_test\n",
    "print(result)\n",
    "\n",
    "## Alternative - but not optimized (4 loops)\n",
    "# features_train = [X for *X,y in data[:pivot]]\n",
    "# features_test = [X for *X,y in data[pivot:]]\n",
    "# labels_train = [y for *X,y in data[:pivot]]\n",
    "# labels_test = [y for *X,y in data[pivot:]]\n",
    "# result = features_train, features_test, labels_train, labels_test\n",
    "# print(result)\n",
    "#\n",
    "#\n",
    "## Alternative - but not optimized (4 loops)\n",
    "# result = (\n",
    "#     [X for *X,y in data[:pivot]],\n",
    "#     [X for *X,y in data[pivot:]],\n",
    "#     [y for *X,y in data[:pivot]],\n",
    "#     [y for *X,y in data[pivot:]],\n",
    "# )\n",
    "# print(result)\n",
    "#\n",
    "## Alternative - but not optimized (4 loops)\n",
    "# print(\n",
    "#     [X for *X,y in data[:pivot]],\n",
    "#     [X for *X,y in data[pivot:]],\n",
    "#     [y for *X,y in data[:pivot]],\n",
    "#     [y for *X,y in data[pivot:]],\n",
    "# )"
   ]
  },
  {
   "cell_type": "markdown",
   "metadata": {},
   "source": [
    "## 8.1.13.b. Raise Exception"
   ]
  },
  {
   "cell_type": "markdown",
   "metadata": {},
   "source": [
    "1. Poproś użytkownika o wprowadzenie wieku\n",
    "1. Jeżeli użytkownik ma mniej niż 18 lat\n",
    "1. Wyrzuć wyjątek ``PermissionError`` z komunikatem \"Adults only\""
   ]
  },
  {
   "cell_type": "code",
   "execution_count": null,
   "metadata": {},
   "outputs": [],
   "source": [
    "ADULT_AGE = 18\n",
    "age = input('Type age: ')\n",
    "age = float(age)\n",
    "\n",
    "if age < ADULT_AGE:\n",
    "    raise PermissionError('Adults only')"
   ]
  },
  {
   "cell_type": "markdown",
   "metadata": {},
   "source": [
    "## 8.1.13.c. Catch Exception"
   ]
  },
  {
   "cell_type": "markdown",
   "metadata": {},
   "source": [
    "1. Poproś użytkownika o wprowadzenie temperatury w Kelwinach\n",
    "1. Przekonwertuj temperaturę do ``float``\n",
    "1. Wypisz \"Invalid temperature\" jak nie można rzutować do ``float``\n",
    "1. Wypisz temperaturę"
   ]
  },
  {
   "cell_type": "code",
   "execution_count": 25,
   "metadata": {},
   "outputs": [
    {
     "name": "stdout",
     "output_type": "stream",
     "text": [
      "Podaj temp [K]: 1,2\n",
      "sorry\n"
     ]
    }
   ],
   "source": [
    "temperature = input('Type temperature: ')\n",
    "\n",
    "try:\n",
    "    float(temperature)\n",
    "except ValueError:\n",
    "    print('Invalid temperature')\n",
    "    exit(1)\n",
    "else:\n",
    "    print(temperature)"
   ]
  },
  {
   "cell_type": "markdown",
   "metadata": {},
   "source": [
    "## 8.1.13.d. Define Exception"
   ]
  },
  {
   "cell_type": "markdown",
   "metadata": {},
   "source": [
    "1. Poproś użytkownika o wprowadzenie temperatury w Kelwinach\n",
    "1. Użytkownik zawsze poda poprawne ``int`` lub ``float``\n",
    "1. Zdefiniuj wyjątek dla temperatur ujemnych\n",
    "1. Podnieś własny wyjątek jeżeli temperatura jest poniżej 0"
   ]
  },
  {
   "cell_type": "code",
   "execution_count": 28,
   "metadata": {},
   "outputs": [
    {
     "name": "stdout",
     "output_type": "stream",
     "text": [
      "Type temperature: 1\n"
     ]
    }
   ],
   "source": [
    "temperature = input('Type temperature: ')\n",
    "\n",
    "\n",
    "class NegativeKelvinError(Exception):\n",
    "    pass\n",
    "\n",
    "\n",
    "if float(temperature) < 0:\n",
    "    raise NegativeKelvinError"
   ]
  },
  {
   "cell_type": "markdown",
   "metadata": {},
   "source": [
    "## 8.2.8.b. Parsing simple CSV file"
   ]
  },
  {
   "cell_type": "markdown",
   "metadata": {},
   "source": [
    "1. Ściągnij :download:`data/iris.csv` i zapisz jako ``iris.csv``\n",
    "1. Zdefiniuj:\n",
    "\n",
    "    - ``features: List[tuple]`` - lista pomiarów (każdy wiersz to tuple)\n",
    "    - ``labels: List[str]`` - lista nazw gatunków\n",
    "\n",
    "1. Zaczytaj plik i dla każdej linii:\n",
    "\n",
    "    1. Usuń białe znaki\n",
    "    1. Podziel linię po przecinku ``,``\n",
    "    1. Dodaj pomiary do ``features``\n",
    "    1. Dodaj gatunek do ``labels``\n",
    "\n",
    "1. Wyświetl ``features`` i ``labels``"
   ]
  },
  {
   "cell_type": "code",
   "execution_count": 16,
   "metadata": {},
   "outputs": [
    {
     "name": "stdout",
     "output_type": "stream",
     "text": [
      "[(5.4, 3.9, 1.3, 0.4), (5.9, 3.0, 5.1, 1.8), (6.0, 3.4, 4.5, 1.6), (7.3, 2.9, 6.3, 1.8), (5.6, 2.5, 3.9, 1.1), (5.4, 3.9, 1.3, 0.4), (5.5, 2.6, 4.4, 1.2), (5.7, 2.9, 4.2, 1.3), (4.9, 3.1, 1.5, 0.1), (6.7, 2.5, 5.8, 1.8), (6.5, 3.0, 5.2, 2.0), (5.1, 3.3, 1.7, 0.5), (4.6, 3.4, 1.4, 0.3), (7.4, 2.8, 6.1, 1.9), (7.7, 3.8, 6.7, 2.2), (6.6, 3.0, 4.4, 1.4), (7.2, 3.2, 6.0, 1.8), (5.8, 2.7, 5.1, 1.9), (6.5, 3.0, 5.5, 1.8), (6.1, 2.9, 4.7, 1.4), (5.2, 3.5, 1.5, 0.2), (5.9, 3.2, 4.8, 1.8), (6.1, 3.0, 4.6, 1.4), (5.2, 4.1, 1.5, 0.1), (5.1, 3.8, 1.9, 0.4), (4.8, 3.4, 1.6, 0.2), (6.0, 2.2, 5.0, 1.5), (6.4, 3.2, 5.3, 2.3), (4.9, 3.0, 1.4, 0.2), (6.3, 2.9, 5.6, 1.8), (6.0, 3.0, 4.8, 1.8), (4.3, 3.0, 1.1, 0.1), (6.9, 3.1, 4.9, 1.5), (6.3, 2.3, 4.4, 1.3), (6.4, 3.1, 5.5, 1.8), (6.5, 3.2, 5.1, 2.0), (5.0, 3.3, 1.4, 0.2), (5.5, 2.4, 3.7, 1.0), (6.1, 3.0, 4.9, 1.8), (6.4, 3.2, 4.5, 1.5), (5.5, 2.4, 3.8, 1.1), (6.2, 2.9, 4.3, 1.3), (6.2, 2.8, 4.8, 1.8), (5.7, 2.5, 5.0, 2.0), (5.4, 3.4, 1.5, 0.4), (5.6, 3.0, 4.1, 1.3), (6.0, 2.7, 5.1, 1.6), (5.2, 2.7, 3.9, 1.4), (6.7, 3.1, 4.7, 1.5), (5.5, 2.5, 4.0, 1.3), (6.7, 3.3, 5.7, 2.5), (5.1, 3.7, 1.5, 0.4), (7.7, 3.0, 6.1, 2.3), (6.6, 2.9, 4.6, 1.3), (4.8, 3.4, 1.9, 0.2), (4.8, 3.0, 1.4, 0.1), (4.4, 3.2, 1.3, 0.2), (5.1, 3.8, 1.5, 0.3), (5.4, 3.0, 4.5, 1.5), (4.6, 3.2, 1.4, 0.2), (5.6, 3.0, 4.5, 1.5), (5.5, 3.5, 1.3, 0.2), (6.5, 2.8, 4.6, 1.5), (5.6, 2.8, 4.9, 2.0), (5.0, 3.5, 1.6, 0.6), (5.7, 4.4, 1.5, 0.4), (5.4, 3.4, 1.7, 0.2), (4.8, 3.1, 1.6, 0.2), (5.0, 3.6, 1.4, 0.2), (5.1, 3.5, 1.4, 0.3), (5.7, 2.8, 4.1, 1.3), (4.9, 3.1, 1.5, 0.2), (6.4, 2.7, 5.3, 1.9), (5.0, 3.5, 1.3, 0.3), (4.6, 3.6, 1.0, 0.2), (5.7, 2.8, 4.5, 1.3), (6.3, 2.5, 4.9, 1.5), (7.7, 2.8, 6.7, 2.0), (7.2, 3.6, 6.1, 2.5), (6.4, 2.9, 4.3, 1.3), (4.9, 3.6, 1.4, 0.1), (7.2, 3.0, 5.8, 1.6), (7.0, 3.2, 4.7, 1.4), (5.1, 3.5, 1.4, 0.2), (5.8, 2.7, 3.9, 1.2), (4.7, 3.2, 1.6, 0.2), (6.9, 3.1, 5.4, 2.1), (5.7, 2.6, 3.5, 1.0), (5.7, 3.8, 1.7, 0.3), (5.8, 2.7, 5.1, 1.9), (4.4, 2.9, 1.4, 0.2), (6.4, 2.8, 5.6, 2.2), (6.1, 2.8, 4.7, 1.2), (5.4, 3.7, 1.5, 0.2), (6.4, 2.8, 5.6, 2.1), (6.7, 3.0, 5.0, 1.7), (4.9, 2.4, 3.3, 1.0), (4.5, 2.3, 1.3, 0.3), (5.0, 3.0, 1.6, 0.2), (5.1, 2.5, 3.0, 1.1), (6.3, 3.4, 5.6, 2.4), (6.5, 3.0, 5.8, 2.2), (6.7, 3.0, 5.2, 2.3), (6.2, 2.2, 4.5, 1.5), (5.3, 3.7, 1.5, 0.2), (6.1, 2.8, 4.0, 1.3), (5.0, 2.3, 3.3, 1.0), (6.8, 2.8, 4.8, 1.4), (7.1, 3.0, 5.9, 2.1), (6.3, 2.7, 4.9, 1.8), (5.1, 3.8, 1.6, 0.2), (7.6, 3.0, 6.6, 2.1), (6.9, 3.1, 5.1, 2.3), (5.0, 3.4, 1.6, 0.4), (6.7, 3.3, 5.7, 2.1), (5.8, 2.6, 4.0, 1.2), (7.7, 2.6, 6.9, 2.3), (5.8, 4.0, 1.2, 0.2), (5.2, 3.4, 1.4, 0.2), (5.7, 3.0, 4.2, 1.2), (4.6, 3.1, 1.5, 0.2), (7.9, 3.8, 6.4, 2.0), (4.8, 3.0, 1.4, 0.3), (6.7, 3.1, 5.6, 2.4), (5.5, 2.3, 4.0, 1.3), (6.2, 3.4, 5.4, 2.3), (6.3, 2.5, 5.0, 1.9), (6.3, 3.3, 6.0, 2.5), (6.7, 3.1, 4.4, 1.4), (4.4, 3.0, 1.3, 0.2), (6.1, 2.6, 5.6, 1.4), (5.8, 2.7, 4.1, 1.0), (5.4, 3.9, 1.7, 0.4), (5.0, 3.2, 1.2, 0.2), (5.8, 2.8, 5.1, 2.4), (4.7, 3.2, 1.3, 0.2), (6.9, 3.2, 5.7, 2.3), (5.0, 2.0, 3.5, 1.0), (5.6, 2.7, 4.2, 1.3), (6.0, 2.2, 4.0, 1.0), (5.1, 3.4, 1.5, 0.2), (6.0, 2.9, 4.5, 1.5), (5.6, 2.9, 3.6, 1.3), (6.8, 3.0, 5.5, 2.1), (5.5, 4.2, 1.4, 0.2), (6.3, 3.3, 4.7, 1.6), (5.9, 3.0, 4.2, 1.5), (5.0, 3.4, 1.5, 0.2), (4.9, 2.5, 4.5, 1.7), (6.3, 2.8, 5.1, 1.5), (6.8, 3.2, 5.9, 2.3)]\n",
      "['setosa', 'virginica', 'versicolor', 'virginica', 'versicolor', 'setosa', 'versicolor', 'versicolor', 'setosa', 'virginica', 'virginica', 'setosa', 'setosa', 'virginica', 'virginica', 'versicolor', 'virginica', 'virginica', 'virginica', 'versicolor', 'setosa', 'versicolor', 'versicolor', 'setosa', 'setosa', 'setosa', 'virginica', 'virginica', 'setosa', 'virginica', 'virginica', 'setosa', 'versicolor', 'versicolor', 'virginica', 'virginica', 'setosa', 'versicolor', 'virginica', 'versicolor', 'versicolor', 'versicolor', 'virginica', 'virginica', 'setosa', 'versicolor', 'versicolor', 'versicolor', 'versicolor', 'versicolor', 'virginica', 'setosa', 'virginica', 'versicolor', 'setosa', 'setosa', 'setosa', 'setosa', 'versicolor', 'setosa', 'versicolor', 'setosa', 'versicolor', 'virginica', 'setosa', 'setosa', 'setosa', 'setosa', 'setosa', 'setosa', 'versicolor', 'setosa', 'virginica', 'setosa', 'setosa', 'versicolor', 'versicolor', 'virginica', 'virginica', 'versicolor', 'setosa', 'virginica', 'versicolor', 'setosa', 'versicolor', 'setosa', 'virginica', 'versicolor', 'setosa', 'virginica', 'setosa', 'virginica', 'versicolor', 'setosa', 'virginica', 'versicolor', 'versicolor', 'setosa', 'setosa', 'versicolor', 'virginica', 'virginica', 'virginica', 'versicolor', 'setosa', 'versicolor', 'versicolor', 'versicolor', 'virginica', 'virginica', 'setosa', 'virginica', 'virginica', 'setosa', 'virginica', 'versicolor', 'virginica', 'setosa', 'setosa', 'versicolor', 'setosa', 'virginica', 'setosa', 'virginica', 'versicolor', 'virginica', 'virginica', 'virginica', 'versicolor', 'setosa', 'virginica', 'versicolor', 'setosa', 'setosa', 'virginica', 'setosa', 'virginica', 'versicolor', 'versicolor', 'versicolor', 'setosa', 'versicolor', 'versicolor', 'virginica', 'setosa', 'versicolor', 'versicolor', 'setosa', 'virginica', 'virginica', 'virginica']\n"
     ]
    }
   ],
   "source": [
    "FILE = r'iris.csv'\n",
    "\n",
    "features = []\n",
    "labels = []\n",
    "\n",
    "\n",
    "with open(FILE) as file:\n",
    "    header = file.readline()\n",
    "    \n",
    "    for line in file:\n",
    "        *measurements, label = line.strip().split(',')\n",
    "        \n",
    "        measurements = tuple(float(x) for x in measurements)\n",
    "        features.append(measurements)\n",
    "        labels.append(label)\n",
    "       \n",
    "    \n",
    "print(features)\n",
    "print(labels)"
   ]
  },
  {
   "cell_type": "markdown",
   "metadata": {},
   "source": [
    "## 8.2.8.c. /etc/hosts - parsing to dict"
   ]
  },
  {
   "cell_type": "markdown",
   "metadata": {},
   "source": [
    "1. Używając ``file.write()`` zapisz dane wejściowe z listingu poniżej do pliku ``hosts-simple.txt``\n",
    "1. Zaczytaj plik i dla każdej lini:\n",
    "\n",
    "    1. Pomiń linię, jeżeli zawiera tylko białe znaki (``str.isspace()``)\n",
    "    1. Usuń białe znaki na początku i końcu linii\n",
    "    1. Podziel linię po białych znakach\n",
    "    1. Odseparuj adres IP i nazwy hostów\n",
    "    1. Dodaj adres IP i nazwy hostów do ``output``\n",
    "\n",
    "1. Scal nazwy hostów dla tego samego IP"
   ]
  },
  {
   "cell_type": "code",
   "execution_count": 4,
   "metadata": {},
   "outputs": [
    {
     "data": {
      "text/plain": [
       "{'127.0.0.1': ['localhost', 'astromatt'],\n",
       " '10.13.37.1': ['nasa.gov', 'esa.int', 'roscosmos.ru'],\n",
       " '255.255.255.255': ['broadcasthost'],\n",
       " '::1': ['localhost']}"
      ]
     },
     "execution_count": 4,
     "metadata": {},
     "output_type": "execute_result"
    }
   ],
   "source": [
    "FILE = r'/tmp/hosts-simple.txt'\n",
    "DATA = \"\"\"\n",
    "127.0.0.1       localhost\n",
    "127.0.0.1       astromatt\n",
    "10.13.37.1      nasa.gov esa.int roscosmos.ru\n",
    "255.255.255.255 broadcasthost\n",
    "::1             localhost\n",
    "\"\"\"\n",
    "\n",
    "output = {}\n",
    "\n",
    "with open(FILE, mode='w') as file:\n",
    "    file.write(DATA)\n",
    "\n",
    "with open(FILE) as file:\n",
    "    for line in file:\n",
    "        if line.isspace():\n",
    "            continue\n",
    "\n",
    "        ip, *hosts = line.strip().split()\n",
    "\n",
    "        if ip in output:\n",
    "            output[ip] += hosts\n",
    "        else:\n",
    "            output[ip] = hosts\n",
    "\n",
    "\n",
    "output\n",
    "# {'127.0.0.1': ['localhost', 'astromatt'],\n",
    "#  '10.13.37.1': ['nasa.gov', 'esa.int', 'roscosmos.ru'],\n",
    "#  '255.255.255.255': ['broadcasthost'],\n",
    "#  '::1': ['localhost']}"
   ]
  },
  {
   "cell_type": "markdown",
   "metadata": {},
   "source": [
    "## 8.2.8.d. /etc/hosts - parsing to List[dict]"
   ]
  },
  {
   "cell_type": "markdown",
   "metadata": {},
   "source": [
    "1. Używając ``file.write()`` zapisz dane wejściowe z listingu poniżej do pliku ``hosts-advanced.txt``\n",
    "1. Przeczytaj plik i dla każdej lini:\n",
    "\n",
    "    1. Pomiń linię jeżeli jest pusta, jest białym znakiem lub zaczyna się od komentarza ``#``\n",
    "    1. Usuń białe znaki na początku i końcu linii\n",
    "    1. Podziel linię po białych znakach\n",
    "    1. Odseparuj adres IP i nazwy hostów\n",
    "    1. Wykorzystaj jednolinikowego ``if`` do sprawdzenia czy jest kropka ``.`` w adresie IP\n",
    "    1. Jeżeli jest obecna to protokół  jest IPv4, w przeciwnym przypadku IPv6\n",
    "    1. Dodaj adres IP i nazwy hostów do ``output``\n",
    "\n",
    "1. Scal nazwy hostów dla tego samego IP\n",
    "1. ``output`` ma być listą dictów (``List[dict]``)"
   ]
  },
  {
   "cell_type": "code",
   "execution_count": 2,
   "metadata": {},
   "outputs": [
    {
     "data": {
      "text/plain": [
       "[{'ip': '127.0.0.1',\n",
       "  'hostnames': {'astromatt', 'localhost'},\n",
       "  'protocol': 'IPv4'},\n",
       " {'ip': '10.13.37.1',\n",
       "  'hostnames': {'esa.int', 'nasa.gov', 'roscosmos.ru'},\n",
       "  'protocol': 'IPv4'},\n",
       " {'ip': '255.255.255.255', 'hostnames': {'broadcasthost'}, 'protocol': 'IPv4'},\n",
       " {'ip': '::1', 'hostnames': {'localhost'}, 'protocol': 'IPv6'}]"
      ]
     },
     "execution_count": 2,
     "metadata": {},
     "output_type": "execute_result"
    }
   ],
   "source": [
    "FILE = r'/tmp/hosts-advanced.txt'\n",
    "DATA = \"\"\"\n",
    "##\n",
    "# ``/etc/hosts`` structure:\n",
    "#   - IPv4 or IPv6\n",
    "#   - Hostnames\n",
    " ##\n",
    "\n",
    "127.0.0.1       localhost\n",
    "127.0.0.1       astromatt\n",
    "10.13.37.1      nasa.gov esa.int roscosmos.ru\n",
    "255.255.255.255 broadcasthost\n",
    "::1             localhost\n",
    "\"\"\"\n",
    "output = []\n",
    "\n",
    "with open(FILE, mode='w') as file:\n",
    "    file.write(DATA)\n",
    "\n",
    "try:\n",
    "    with open(FILE) as file:\n",
    "        hosts_file = file.readlines()\n",
    "\n",
    "except FileNotFoundError:\n",
    "    print('File does not exist')\n",
    "\n",
    "except PermissionError:\n",
    "    print('Permission denied')\n",
    "\n",
    "\n",
    "for line in hosts_file:\n",
    "    line = line.strip()\n",
    "\n",
    "    if line == '' or line.startswith('#'):\n",
    "        continue\n",
    "\n",
    "    ip, *hostnames = line.split()\n",
    "    found = False\n",
    "\n",
    "    for host in output:\n",
    "        if host['ip'] == ip:\n",
    "            host['hostnames'].update(hostnames)\n",
    "            found = True\n",
    "            break\n",
    "\n",
    "    if not found:\n",
    "        output.append({\n",
    "            'ip': ip,\n",
    "            'hostnames': set(hostnames),\n",
    "            'protocol': 'IPv4' if '.' in ip else 'IPv6'\n",
    "        })\n",
    "\n",
    "output\n",
    "# [{'ip': '127.0.0.1', 'hostnames': {'astromatt', 'localhost'}, 'protocol': 'IPv4'},\n",
    "#  {'ip': '10.13.37.1', 'hostnames': {'nasa.gov', 'esa.int', 'roscosmos.ru'}, 'protocol': 'IPv4'},\n",
    "#  {'ip': '255.255.255.255', 'hostnames': {'broadcasthost'}, 'protocol': 'IPv4'},\n",
    "#  {'ip': '::1', 'hostnames': {'localhost'}, 'protocol': 'IPv6'}]\n",
    "\n",
    "\n",
    "## Alternative solution\n",
    "# for record in output:\n",
    "#     if record['ip'] == ip:\n",
    "#         record['hostnames'].update(hostnames)\n",
    "#         break\n",
    "# else:\n",
    "#     output.append({\n",
    "#         'hostnames': set(hostnames),\n",
    "#         'protocol': 'IPv4' if '.' in ip else 'IPv6',\n",
    "#         'ip': ip,\n",
    "#     })"
   ]
  },
  {
   "cell_type": "code",
   "execution_count": null,
   "metadata": {},
   "outputs": [],
   "source": []
  }
 ],
 "metadata": {
  "kernelspec": {
   "display_name": "Python 3",
   "language": "python",
   "name": "python3"
  },
  "language_info": {
   "codemirror_mode": {
    "name": "ipython",
    "version": 3
   },
   "file_extension": ".py",
   "mimetype": "text/x-python",
   "name": "python",
   "nbconvert_exporter": "python",
   "pygments_lexer": "ipython3",
   "version": "3.8.1"
  }
 },
 "nbformat": 4,
 "nbformat_minor": 4
}
