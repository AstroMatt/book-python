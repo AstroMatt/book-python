{
 "cells": [
  {
   "cell_type": "code",
   "execution_count": 1,
   "metadata": {},
   "outputs": [
    {
     "name": "stdout",
     "output_type": "stream",
     "text": [
      "Python 3.8.2\n",
      "Numpy 1.18.1\n",
      "Pandas 1.0.2\n",
      "Matplotlib 3.2.0\n",
      "Scikit-learn 0.22.2.post1\n",
      "Jupyter 1.0.0\n"
     ]
    }
   ],
   "source": [
    "import sys\n",
    "import matplotlib\n",
    "import numpy\n",
    "import pandas\n",
    "import sklearn\n",
    "import jupyter\n",
    "\n",
    "print('Python', sys.version[:5])\n",
    "print('Numpy', numpy.__version__)\n",
    "print('Pandas', pandas.__version__)\n",
    "print('Matplotlib', matplotlib.__version__)\n",
    "print('Scikit-learn', sklearn.__version__)\n",
    "print('Jupyter', jupyter.__version__)"
   ]
  },
  {
   "cell_type": "code",
   "execution_count": null,
   "metadata": {},
   "outputs": [],
   "source": []
  }
 ],
 "metadata": {
  "kernelspec": {
   "display_name": "Python 3",
   "language": "python",
   "name": "python3"
  },
  "language_info": {
   "codemirror_mode": {
    "name": "ipython",
    "version": 3
   },
   "file_extension": ".py",
   "mimetype": "text/x-python",
   "name": "python",
   "nbconvert_exporter": "python",
   "pygments_lexer": "ipython3",
   "version": "3.8.2"
  }
 },
 "nbformat": 4,
 "nbformat_minor": 4
}
