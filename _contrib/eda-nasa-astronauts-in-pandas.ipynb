{
 "cells": [
  {
   "cell_type": "markdown",
   "metadata": {
    "_cell_guid": "9e3e70f5-319a-5335-16f5-a3805df56cb9"
   },
   "source": [
    "## EDA for NASA Astronauts, 1959-Present ##"
   ]
  },
  {
   "cell_type": "markdown",
   "metadata": {
    "_cell_guid": "44910189-2476-8583-7cf5-419b4e214c1f"
   },
   "source": [
    "## Import library ##"
   ]
  },
  {
   "cell_type": "code",
   "execution_count": 1,
   "metadata": {
    "_cell_guid": "1dd7954b-f7c5-f1b9-0a55-bdc32a173c8e"
   },
   "outputs": [],
   "source": [
    "import pandas as pd"
   ]
  },
  {
   "cell_type": "code",
   "execution_count": 2,
   "metadata": {
    "_cell_guid": "598cd62a-242f-bfc6-c6c5-281798bbbba9"
   },
   "outputs": [],
   "source": [
    "df = pd.read_csv('../input/astronauts.csv')"
   ]
  },
  {
   "cell_type": "code",
   "execution_count": 3,
   "metadata": {
    "_cell_guid": "8da53305-da94-ae58-1f26-df438232ff29"
   },
   "outputs": [
    {
     "data": {
      "text/html": [
       "<div>\n",
       "<table border=\"1\" class=\"dataframe\">\n",
       "  <thead>\n",
       "    <tr style=\"text-align: right;\">\n",
       "      <th></th>\n",
       "      <th>Name</th>\n",
       "      <th>Year</th>\n",
       "      <th>Group</th>\n",
       "      <th>Status</th>\n",
       "      <th>Birth Date</th>\n",
       "      <th>Birth Place</th>\n",
       "      <th>Gender</th>\n",
       "      <th>Alma Mater</th>\n",
       "      <th>Undergraduate Major</th>\n",
       "      <th>Graduate Major</th>\n",
       "      <th>Military Rank</th>\n",
       "      <th>Military Branch</th>\n",
       "      <th>Space Flights</th>\n",
       "      <th>Space Flight (hr)</th>\n",
       "      <th>Space Walks</th>\n",
       "      <th>Space Walks (hr)</th>\n",
       "      <th>Missions</th>\n",
       "      <th>Death Date</th>\n",
       "      <th>Death Mission</th>\n",
       "    </tr>\n",
       "  </thead>\n",
       "  <tbody>\n",
       "    <tr>\n",
       "      <th>0</th>\n",
       "      <td>Joseph M. Acaba</td>\n",
       "      <td>2004.0</td>\n",
       "      <td>19.0</td>\n",
       "      <td>Active</td>\n",
       "      <td>5/17/1967</td>\n",
       "      <td>Inglewood, CA</td>\n",
       "      <td>Male</td>\n",
       "      <td>University of California-Santa Barbara; Univer...</td>\n",
       "      <td>Geology</td>\n",
       "      <td>Geology</td>\n",
       "      <td>NaN</td>\n",
       "      <td>NaN</td>\n",
       "      <td>2</td>\n",
       "      <td>3307</td>\n",
       "      <td>2</td>\n",
       "      <td>13.0</td>\n",
       "      <td>STS-119 (Discovery), ISS-31/32 (Soyuz)</td>\n",
       "      <td>NaN</td>\n",
       "      <td>NaN</td>\n",
       "    </tr>\n",
       "    <tr>\n",
       "      <th>1</th>\n",
       "      <td>Loren W. Acton</td>\n",
       "      <td>NaN</td>\n",
       "      <td>NaN</td>\n",
       "      <td>Retired</td>\n",
       "      <td>3/7/1936</td>\n",
       "      <td>Lewiston, MT</td>\n",
       "      <td>Male</td>\n",
       "      <td>Montana State University; University of Colorado</td>\n",
       "      <td>Engineering Physics</td>\n",
       "      <td>Solar Physics</td>\n",
       "      <td>NaN</td>\n",
       "      <td>NaN</td>\n",
       "      <td>1</td>\n",
       "      <td>190</td>\n",
       "      <td>0</td>\n",
       "      <td>0.0</td>\n",
       "      <td>STS 51-F (Challenger)</td>\n",
       "      <td>NaN</td>\n",
       "      <td>NaN</td>\n",
       "    </tr>\n",
       "    <tr>\n",
       "      <th>2</th>\n",
       "      <td>James C. Adamson</td>\n",
       "      <td>1984.0</td>\n",
       "      <td>10.0</td>\n",
       "      <td>Retired</td>\n",
       "      <td>3/3/1946</td>\n",
       "      <td>Warsaw, NY</td>\n",
       "      <td>Male</td>\n",
       "      <td>US Military Academy; Princeton University</td>\n",
       "      <td>Engineering</td>\n",
       "      <td>Aerospace Engineering</td>\n",
       "      <td>Colonel</td>\n",
       "      <td>US Army (Retired)</td>\n",
       "      <td>2</td>\n",
       "      <td>334</td>\n",
       "      <td>0</td>\n",
       "      <td>0.0</td>\n",
       "      <td>STS-28 (Columbia), STS-43 (Atlantis)</td>\n",
       "      <td>NaN</td>\n",
       "      <td>NaN</td>\n",
       "    </tr>\n",
       "    <tr>\n",
       "      <th>3</th>\n",
       "      <td>Thomas D. Akers</td>\n",
       "      <td>1987.0</td>\n",
       "      <td>12.0</td>\n",
       "      <td>Retired</td>\n",
       "      <td>5/20/1951</td>\n",
       "      <td>St. Louis, MO</td>\n",
       "      <td>Male</td>\n",
       "      <td>University of Missouri-Rolla</td>\n",
       "      <td>Applied Mathematics</td>\n",
       "      <td>Applied Mathematics</td>\n",
       "      <td>Colonel</td>\n",
       "      <td>US Air Force (Retired)</td>\n",
       "      <td>4</td>\n",
       "      <td>814</td>\n",
       "      <td>4</td>\n",
       "      <td>29.0</td>\n",
       "      <td>STS-41 (Discovery), STS-49 (Endeavor), STS-61 ...</td>\n",
       "      <td>NaN</td>\n",
       "      <td>NaN</td>\n",
       "    </tr>\n",
       "    <tr>\n",
       "      <th>4</th>\n",
       "      <td>Buzz Aldrin</td>\n",
       "      <td>1963.0</td>\n",
       "      <td>3.0</td>\n",
       "      <td>Retired</td>\n",
       "      <td>1/20/1930</td>\n",
       "      <td>Montclair, NJ</td>\n",
       "      <td>Male</td>\n",
       "      <td>US Military Academy; MIT</td>\n",
       "      <td>Mechanical Engineering</td>\n",
       "      <td>Astronautics</td>\n",
       "      <td>Colonel</td>\n",
       "      <td>US Air Force (Retired)</td>\n",
       "      <td>2</td>\n",
       "      <td>289</td>\n",
       "      <td>2</td>\n",
       "      <td>8.0</td>\n",
       "      <td>Gemini 12, Apollo 11</td>\n",
       "      <td>NaN</td>\n",
       "      <td>NaN</td>\n",
       "    </tr>\n",
       "    <tr>\n",
       "      <th>5</th>\n",
       "      <td>Andrew M. Allen</td>\n",
       "      <td>1987.0</td>\n",
       "      <td>12.0</td>\n",
       "      <td>Retired</td>\n",
       "      <td>8/4/1955</td>\n",
       "      <td>Philadelphia, PA</td>\n",
       "      <td>Male</td>\n",
       "      <td>Villanova University; University of Florida</td>\n",
       "      <td>Mechanical Engineering</td>\n",
       "      <td>Business Administration</td>\n",
       "      <td>Lieutenant Colonel</td>\n",
       "      <td>US Marine Corps (Retired)</td>\n",
       "      <td>3</td>\n",
       "      <td>906</td>\n",
       "      <td>0</td>\n",
       "      <td>0.0</td>\n",
       "      <td>STS-46 (Atlantis), STS-62 (Columbia), STS-75 (...</td>\n",
       "      <td>NaN</td>\n",
       "      <td>NaN</td>\n",
       "    </tr>\n",
       "    <tr>\n",
       "      <th>6</th>\n",
       "      <td>Joseph P. Allen</td>\n",
       "      <td>1967.0</td>\n",
       "      <td>6.0</td>\n",
       "      <td>Retired</td>\n",
       "      <td>6/27/1937</td>\n",
       "      <td>Crawsfordsville, IN</td>\n",
       "      <td>Male</td>\n",
       "      <td>DePauw University; Yale University</td>\n",
       "      <td>Mathematics &amp; Physics</td>\n",
       "      <td>Physics</td>\n",
       "      <td>NaN</td>\n",
       "      <td>NaN</td>\n",
       "      <td>2</td>\n",
       "      <td>313</td>\n",
       "      <td>2</td>\n",
       "      <td>12.0</td>\n",
       "      <td>ST-5 (Columbia), STS 51-A (Discovery)</td>\n",
       "      <td>NaN</td>\n",
       "      <td>NaN</td>\n",
       "    </tr>\n",
       "    <tr>\n",
       "      <th>7</th>\n",
       "      <td>Scott D. Altman</td>\n",
       "      <td>1995.0</td>\n",
       "      <td>15.0</td>\n",
       "      <td>Retired</td>\n",
       "      <td>8/15/1959</td>\n",
       "      <td>Lincoln, IL</td>\n",
       "      <td>Male</td>\n",
       "      <td>University of Illinois; US Naval Postgraduate ...</td>\n",
       "      <td>Aeronautical &amp; Astronautical Engineering</td>\n",
       "      <td>Aeronautical Engineering</td>\n",
       "      <td>Captain</td>\n",
       "      <td>US Navy (Retired)</td>\n",
       "      <td>4</td>\n",
       "      <td>1236</td>\n",
       "      <td>0</td>\n",
       "      <td>0.0</td>\n",
       "      <td>STS-90 (Columbia), STS-106 (Atlantis), STS-109...</td>\n",
       "      <td>NaN</td>\n",
       "      <td>NaN</td>\n",
       "    </tr>\n",
       "    <tr>\n",
       "      <th>8</th>\n",
       "      <td>William A. Anders</td>\n",
       "      <td>1963.0</td>\n",
       "      <td>3.0</td>\n",
       "      <td>Retired</td>\n",
       "      <td>10/17/1933</td>\n",
       "      <td>Hong Kong</td>\n",
       "      <td>Male</td>\n",
       "      <td>US Naval Academy; Air Force Institute of Techn...</td>\n",
       "      <td>Nuclear Engineering</td>\n",
       "      <td>Nuclear Engineering</td>\n",
       "      <td>Major General</td>\n",
       "      <td>US Air Force Reserves (Retired)</td>\n",
       "      <td>1</td>\n",
       "      <td>147</td>\n",
       "      <td>0</td>\n",
       "      <td>0.0</td>\n",
       "      <td>Apollo 8</td>\n",
       "      <td>NaN</td>\n",
       "      <td>NaN</td>\n",
       "    </tr>\n",
       "    <tr>\n",
       "      <th>9</th>\n",
       "      <td>Clayton C. Anderson</td>\n",
       "      <td>1998.0</td>\n",
       "      <td>17.0</td>\n",
       "      <td>Retired</td>\n",
       "      <td>2/23/1959</td>\n",
       "      <td>Omaha, NE</td>\n",
       "      <td>Male</td>\n",
       "      <td>Hastings College; Iowa State University</td>\n",
       "      <td>Physics</td>\n",
       "      <td>Aerospace Engineering</td>\n",
       "      <td>NaN</td>\n",
       "      <td>NaN</td>\n",
       "      <td>2</td>\n",
       "      <td>4005</td>\n",
       "      <td>6</td>\n",
       "      <td>38.0</td>\n",
       "      <td>STS-117/120 (Atlantis/Discovery), STS-131 (Dis...</td>\n",
       "      <td>NaN</td>\n",
       "      <td>NaN</td>\n",
       "    </tr>\n",
       "  </tbody>\n",
       "</table>\n",
       "</div>"
      ],
      "text/plain": [
       "                  Name    Year  Group   Status  Birth Date  \\\n",
       "0      Joseph M. Acaba  2004.0   19.0   Active   5/17/1967   \n",
       "1       Loren W. Acton     NaN    NaN  Retired    3/7/1936   \n",
       "2     James C. Adamson  1984.0   10.0  Retired    3/3/1946   \n",
       "3      Thomas D. Akers  1987.0   12.0  Retired   5/20/1951   \n",
       "4          Buzz Aldrin  1963.0    3.0  Retired   1/20/1930   \n",
       "5      Andrew M. Allen  1987.0   12.0  Retired    8/4/1955   \n",
       "6      Joseph P. Allen  1967.0    6.0  Retired   6/27/1937   \n",
       "7      Scott D. Altman  1995.0   15.0  Retired   8/15/1959   \n",
       "8    William A. Anders  1963.0    3.0  Retired  10/17/1933   \n",
       "9  Clayton C. Anderson  1998.0   17.0  Retired   2/23/1959   \n",
       "\n",
       "           Birth Place Gender  \\\n",
       "0        Inglewood, CA   Male   \n",
       "1         Lewiston, MT   Male   \n",
       "2           Warsaw, NY   Male   \n",
       "3        St. Louis, MO   Male   \n",
       "4        Montclair, NJ   Male   \n",
       "5     Philadelphia, PA   Male   \n",
       "6  Crawsfordsville, IN   Male   \n",
       "7          Lincoln, IL   Male   \n",
       "8            Hong Kong   Male   \n",
       "9            Omaha, NE   Male   \n",
       "\n",
       "                                          Alma Mater  \\\n",
       "0  University of California-Santa Barbara; Univer...   \n",
       "1   Montana State University; University of Colorado   \n",
       "2          US Military Academy; Princeton University   \n",
       "3                       University of Missouri-Rolla   \n",
       "4                           US Military Academy; MIT   \n",
       "5        Villanova University; University of Florida   \n",
       "6                 DePauw University; Yale University   \n",
       "7  University of Illinois; US Naval Postgraduate ...   \n",
       "8  US Naval Academy; Air Force Institute of Techn...   \n",
       "9            Hastings College; Iowa State University   \n",
       "\n",
       "                        Undergraduate Major            Graduate Major  \\\n",
       "0                                   Geology                   Geology   \n",
       "1                       Engineering Physics             Solar Physics   \n",
       "2                               Engineering     Aerospace Engineering   \n",
       "3                       Applied Mathematics       Applied Mathematics   \n",
       "4                    Mechanical Engineering              Astronautics   \n",
       "5                    Mechanical Engineering   Business Administration   \n",
       "6                     Mathematics & Physics                   Physics   \n",
       "7  Aeronautical & Astronautical Engineering  Aeronautical Engineering   \n",
       "8                       Nuclear Engineering       Nuclear Engineering   \n",
       "9                                   Physics     Aerospace Engineering   \n",
       "\n",
       "        Military Rank                  Military Branch  Space Flights  \\\n",
       "0                 NaN                              NaN              2   \n",
       "1                 NaN                              NaN              1   \n",
       "2             Colonel                US Army (Retired)              2   \n",
       "3             Colonel           US Air Force (Retired)              4   \n",
       "4             Colonel           US Air Force (Retired)              2   \n",
       "5  Lieutenant Colonel        US Marine Corps (Retired)              3   \n",
       "6                 NaN                              NaN              2   \n",
       "7             Captain                US Navy (Retired)              4   \n",
       "8       Major General  US Air Force Reserves (Retired)              1   \n",
       "9                 NaN                              NaN              2   \n",
       "\n",
       "   Space Flight (hr)  Space Walks  Space Walks (hr)  \\\n",
       "0               3307            2              13.0   \n",
       "1                190            0               0.0   \n",
       "2                334            0               0.0   \n",
       "3                814            4              29.0   \n",
       "4                289            2               8.0   \n",
       "5                906            0               0.0   \n",
       "6                313            2              12.0   \n",
       "7               1236            0               0.0   \n",
       "8                147            0               0.0   \n",
       "9               4005            6              38.0   \n",
       "\n",
       "                                            Missions Death Date Death Mission  \n",
       "0             STS-119 (Discovery), ISS-31/32 (Soyuz)        NaN           NaN  \n",
       "1                              STS 51-F (Challenger)        NaN           NaN  \n",
       "2               STS-28 (Columbia), STS-43 (Atlantis)        NaN           NaN  \n",
       "3  STS-41 (Discovery), STS-49 (Endeavor), STS-61 ...        NaN           NaN  \n",
       "4                               Gemini 12, Apollo 11        NaN           NaN  \n",
       "5  STS-46 (Atlantis), STS-62 (Columbia), STS-75 (...        NaN           NaN  \n",
       "6              ST-5 (Columbia), STS 51-A (Discovery)        NaN           NaN  \n",
       "7  STS-90 (Columbia), STS-106 (Atlantis), STS-109...        NaN           NaN  \n",
       "8                                           Apollo 8        NaN           NaN  \n",
       "9  STS-117/120 (Atlantis/Discovery), STS-131 (Dis...        NaN           NaN  "
      ]
     },
     "execution_count": 3,
     "metadata": {},
     "output_type": "execute_result"
    }
   ],
   "source": [
    "df.head(10)"
   ]
  },
  {
   "cell_type": "markdown",
   "metadata": {
    "_cell_guid": "e2d891af-1626-8ab5-c68e-8dcab62bccb9"
   },
   "source": [
    "### Which American astronaut has spent the most time in space?"
   ]
  },
  {
   "cell_type": "code",
   "execution_count": 4,
   "metadata": {
    "_cell_guid": "eb2fb8be-6e27-d9eb-535e-3f4348662088"
   },
   "outputs": [
    {
     "data": {
      "text/plain": [
       "12818"
      ]
     },
     "execution_count": 4,
     "metadata": {},
     "output_type": "execute_result"
    }
   ],
   "source": [
    "df['Space Flight (hr)'].max()"
   ]
  },
  {
   "cell_type": "code",
   "execution_count": 5,
   "metadata": {
    "_cell_guid": "418f4286-eb3c-efcb-0f9b-6979d907527b"
   },
   "outputs": [
    {
     "name": "stderr",
     "output_type": "stream",
     "text": [
      "/opt/conda/lib/python3.6/site-packages/ipykernel/__main__.py:1: FutureWarning: sort(columns=....) is deprecated, use sort_values(by=.....)\n",
      "  if __name__ == '__main__':\n"
     ]
    },
    {
     "data": {
      "text/html": [
       "<div>\n",
       "<table border=\"1\" class=\"dataframe\">\n",
       "  <thead>\n",
       "    <tr style=\"text-align: right;\">\n",
       "      <th></th>\n",
       "      <th>Name</th>\n",
       "      <th>Year</th>\n",
       "      <th>Group</th>\n",
       "      <th>Status</th>\n",
       "      <th>Birth Date</th>\n",
       "      <th>Birth Place</th>\n",
       "      <th>Gender</th>\n",
       "      <th>Alma Mater</th>\n",
       "      <th>Undergraduate Major</th>\n",
       "      <th>Graduate Major</th>\n",
       "      <th>Military Rank</th>\n",
       "      <th>Military Branch</th>\n",
       "      <th>Space Flights</th>\n",
       "      <th>Space Flight (hr)</th>\n",
       "      <th>Space Walks</th>\n",
       "      <th>Space Walks (hr)</th>\n",
       "      <th>Missions</th>\n",
       "      <th>Death Date</th>\n",
       "      <th>Death Mission</th>\n",
       "    </tr>\n",
       "  </thead>\n",
       "  <tbody>\n",
       "    <tr>\n",
       "      <th>346</th>\n",
       "      <td>Jeffrey N. Williams</td>\n",
       "      <td>1996.0</td>\n",
       "      <td>16.0</td>\n",
       "      <td>Active</td>\n",
       "      <td>1/18/1958</td>\n",
       "      <td>Superior, WI</td>\n",
       "      <td>Male</td>\n",
       "      <td>US Military Academy; US Naval Postgraduate Sch...</td>\n",
       "      <td>Applied Science &amp; Engineering</td>\n",
       "      <td>Aeronautical Engineering; National Security &amp; ...</td>\n",
       "      <td>Colonel</td>\n",
       "      <td>US Army (Retired)</td>\n",
       "      <td>4</td>\n",
       "      <td>12818</td>\n",
       "      <td>5</td>\n",
       "      <td>32.0</td>\n",
       "      <td>STS-101 (Atlantis), ISS-13 (Soyuz), ISS-21/22 ...</td>\n",
       "      <td>NaN</td>\n",
       "      <td>NaN</td>\n",
       "    </tr>\n",
       "  </tbody>\n",
       "</table>\n",
       "</div>"
      ],
      "text/plain": [
       "                    Name    Year  Group  Status Birth Date   Birth Place  \\\n",
       "346  Jeffrey N. Williams  1996.0   16.0  Active  1/18/1958  Superior, WI   \n",
       "\n",
       "    Gender                                         Alma Mater  \\\n",
       "346   Male  US Military Academy; US Naval Postgraduate Sch...   \n",
       "\n",
       "               Undergraduate Major  \\\n",
       "346  Applied Science & Engineering   \n",
       "\n",
       "                                        Graduate Major Military Rank  \\\n",
       "346  Aeronautical Engineering; National Security & ...       Colonel   \n",
       "\n",
       "       Military Branch  Space Flights  Space Flight (hr)  Space Walks  \\\n",
       "346  US Army (Retired)              4              12818            5   \n",
       "\n",
       "     Space Walks (hr)                                           Missions  \\\n",
       "346              32.0  STS-101 (Atlantis), ISS-13 (Soyuz), ISS-21/22 ...   \n",
       "\n",
       "    Death Date Death Mission  \n",
       "346        NaN           NaN  "
      ]
     },
     "execution_count": 5,
     "metadata": {},
     "output_type": "execute_result"
    }
   ],
   "source": [
    "df[df['Space Flight (hr)']>=12818].sort('Name').head(1)"
   ]
  },
  {
   "cell_type": "markdown",
   "metadata": {
    "_cell_guid": "e93ee225-9695-1e80-a21d-14939c153f8c"
   },
   "source": [
    "###  What university has produced the most astronauts? "
   ]
  },
  {
   "cell_type": "code",
   "execution_count": 6,
   "metadata": {
    "_cell_guid": "488abd9a-100c-f753-f22e-364410674d47"
   },
   "outputs": [
    {
     "data": {
      "text/plain": [
       "US Naval Academy                                        12\n",
       "US Naval Academy; US Naval Postgraduate School          11\n",
       "Purdue University                                        7\n",
       "US Air Force Academy; Purdue University                  7\n",
       "MIT                                                      5\n",
       "US Naval Academy; MIT                                    5\n",
       "University of Colorado                                   4\n",
       "US Military Academy; Georgia Institute of Technology     4\n",
       "Stanford University                                      4\n",
       "University of Texas                                      3\n",
       "Name: Alma Mater, dtype: int64"
      ]
     },
     "execution_count": 6,
     "metadata": {},
     "output_type": "execute_result"
    }
   ],
   "source": [
    "df['Alma Mater'].value_counts().head(10)"
   ]
  },
  {
   "cell_type": "code",
   "execution_count": 7,
   "metadata": {
    "_cell_guid": "1b71c116-984b-b84f-11c7-e16679f0e666"
   },
   "outputs": [
    {
     "data": {
      "text/plain": [
       "<matplotlib.axes._subplots.AxesSubplot at 0x7fbcc0aaedd8>"
      ]
     },
     "execution_count": 7,
     "metadata": {},
     "output_type": "execute_result"
    },
    {
     "data": {
      "image/png": "[encoded data removed]",
      "text/plain": [
       "<matplotlib.figure.Figure at 0x7fbcc0801470>"
      ]
     },
     "metadata": {},
     "output_type": "display_data"
    }
   ],
   "source": [
    "df['Alma Mater'].value_counts().head(10).plot(kind='bar')"
   ]
  },
  {
   "cell_type": "markdown",
   "metadata": {
    "_cell_guid": "46fa0975-a2b5-2243-3803-fb08c205da3a"
   },
   "source": [
    "### What subject did the most astronauts major in at college? "
   ]
  },
  {
   "cell_type": "code",
   "execution_count": 8,
   "metadata": {
    "_cell_guid": "07fcdcab-7547-6f9e-3e51-8eb02310492d"
   },
   "outputs": [
    {
     "data": {
      "text/plain": [
       "Aeronautical Engineering      27\n",
       "Aerospace Engineering         21\n",
       "Medicine                      16\n",
       "Physics                       15\n",
       "Mechanical Engineering        13\n",
       "Electrical Engineering         8\n",
       "Aeronautics & Astronautics     7\n",
       "Astronomy                      6\n",
       "Aviation Systems               6\n",
       "Engineering Management         5\n",
       "Name: Graduate Major, dtype: int64"
      ]
     },
     "execution_count": 8,
     "metadata": {},
     "output_type": "execute_result"
    }
   ],
   "source": [
    "df['Graduate Major'].value_counts().head(10)"
   ]
  },
  {
   "cell_type": "code",
   "execution_count": 9,
   "metadata": {
    "_cell_guid": "4fd60f4b-0cbc-8fed-e34e-369eb3774c00"
   },
   "outputs": [
    {
     "data": {
      "text/plain": [
       "<matplotlib.axes._subplots.AxesSubplot at 0x7fbcbd414ef0>"
      ]
     },
     "execution_count": 9,
     "metadata": {},
     "output_type": "execute_result"
    },
    {
     "data": {
      "image/png": "[encoded data removed]",
      "text/plain": [
       "<matplotlib.figure.Figure at 0x7fbcbd4b36a0>"
      ]
     },
     "metadata": {},
     "output_type": "display_data"
    }
   ],
   "source": [
    "df['Graduate Major'].value_counts().head(10).plot(kind='bar')"
   ]
  },
  {
   "cell_type": "code",
   "execution_count": 10,
   "metadata": {
    "_cell_guid": "3a88f84c-3d14-c89d-86d5-984b3476d6a7"
   },
   "outputs": [
    {
     "data": {
      "text/plain": [
       "Physics                     35\n",
       "Aerospace Engineering       33\n",
       "Mechanical Engineering      30\n",
       "Aeronautical Engineering    28\n",
       "Electrical Engineering      23\n",
       "Engineering Science         13\n",
       "Engineering                 12\n",
       "Mathematics                 11\n",
       "Chemistry                   10\n",
       "Chemical Engineering         9\n",
       "Name: Undergraduate Major, dtype: int64"
      ]
     },
     "execution_count": 10,
     "metadata": {},
     "output_type": "execute_result"
    }
   ],
   "source": [
    "df['Undergraduate Major'].value_counts().head(10)"
   ]
  },
  {
   "cell_type": "code",
   "execution_count": 11,
   "metadata": {
    "_cell_guid": "0befd61e-6d24-4341-2a71-898083117a3d"
   },
   "outputs": [
    {
     "data": {
      "text/plain": [
       "<matplotlib.axes._subplots.AxesSubplot at 0x7fbcbd3b5e80>"
      ]
     },
     "execution_count": 11,
     "metadata": {},
     "output_type": "execute_result"
    },
    {
     "data": {
      "image/png": "[encoded data removed]",
      "text/plain": [
       "<matplotlib.figure.Figure at 0x7fbcbd3c9390>"
      ]
     },
     "metadata": {},
     "output_type": "display_data"
    }
   ],
   "source": [
    "df['Undergraduate Major'].value_counts().head(10).plot(kind='bar')"
   ]
  },
  {
   "cell_type": "markdown",
   "metadata": {
    "_cell_guid": "6aedbd7f-0014-c931-d509-7f47a5dc49c8"
   },
   "source": [
    "### Have most astronauts served in the military? "
   ]
  },
  {
   "cell_type": "code",
   "execution_count": 12,
   "metadata": {
    "_cell_guid": "8e2c43f7-8421-21df-9a45-6ad34acbd441"
   },
   "outputs": [
    {
     "data": {
      "text/plain": [
       "Colonel                  94\n",
       "Captain                  68\n",
       "Commander                13\n",
       "Lieutenant Colonel       10\n",
       "Major                     5\n",
       "Brigadier General         4\n",
       "Major General             4\n",
       "Lieutenant Commander      3\n",
       "Rear Admiral              2\n",
       "Lieutenant General        2\n",
       "Chief Warrant Officer     1\n",
       "Vice Admiral              1\n",
       "Name: Military Rank, dtype: int64"
      ]
     },
     "execution_count": 12,
     "metadata": {},
     "output_type": "execute_result"
    }
   ],
   "source": [
    "df['Military Rank'].value_counts()"
   ]
  },
  {
   "cell_type": "code",
   "execution_count": 13,
   "metadata": {
    "_cell_guid": "900b6179-3038-9eea-9bb3-a5461cf63497"
   },
   "outputs": [
    {
     "data": {
      "text/plain": [
       "<matplotlib.axes._subplots.AxesSubplot at 0x7fbcbd315470>"
      ]
     },
     "execution_count": 13,
     "metadata": {},
     "output_type": "execute_result"
    },
    {
     "data": {
      "image/png": "[encoded data removed]",
      "text/plain": [
       "<matplotlib.figure.Figure at 0x7fbcbd297908>"
      ]
     },
     "metadata": {},
     "output_type": "display_data"
    }
   ],
   "source": [
    "df['Military Rank'].value_counts().plot(kind='bar')"
   ]
  },
  {
   "cell_type": "code",
   "execution_count": 14,
   "metadata": {
    "_cell_guid": "da0e2acb-bec5-3eea-ab7c-a2c59ff16ff5"
   },
   "outputs": [
    {
     "data": {
      "text/plain": [
       "207"
      ]
     },
     "execution_count": 14,
     "metadata": {},
     "output_type": "execute_result"
    }
   ],
   "source": [
    "df['Military Rank'].value_counts().sum()"
   ]
  },
  {
   "cell_type": "markdown",
   "metadata": {
    "_cell_guid": "e5f09ab6-ec61-0c79-cc1d-4192fab24c6a"
   },
   "source": [
    "### Which Military branch? "
   ]
  },
  {
   "cell_type": "code",
   "execution_count": 15,
   "metadata": {
    "_cell_guid": "0075f731-9f3f-d045-29dd-f2f48298d7e3"
   },
   "outputs": [
    {
     "data": {
      "text/plain": [
       "US Air Force (Retired)             61\n",
       "US Navy (Retired)                  59\n",
       "US Navy                            21\n",
       "US Air Force                       21\n",
       "US Marine Corps (Retired)          17\n",
       "US Army (Retired)                  13\n",
       "US Army                             4\n",
       "US Air Force Reserves (Retired)     3\n",
       "US Marine Corps                     3\n",
       "US Marine Corps Reserves            2\n",
       "Name: Military Branch, dtype: int64"
      ]
     },
     "execution_count": 15,
     "metadata": {},
     "output_type": "execute_result"
    }
   ],
   "source": [
    "df['Military Branch'].value_counts().head(10)"
   ]
  },
  {
   "cell_type": "code",
   "execution_count": 16,
   "metadata": {
    "_cell_guid": "cf45b72d-8ab1-cb88-331d-da07fa20187a"
   },
   "outputs": [
    {
     "data": {
      "text/plain": [
       "<matplotlib.axes._subplots.AxesSubplot at 0x7fbcbd2520b8>"
      ]
     },
     "execution_count": 16,
     "metadata": {},
     "output_type": "execute_result"
    },
    {
     "data": {
      "image/png": "[encoded data removed]",
      "text/plain": [
       "<matplotlib.figure.Figure at 0x7fbcbd1d7438>"
      ]
     },
     "metadata": {},
     "output_type": "display_data"
    }
   ],
   "source": [
    "df['Military Branch'].value_counts().head(10).plot(kind='bar')"
   ]
  },
  {
   "cell_type": "markdown",
   "metadata": {
    "_cell_guid": "730e2ad3-d7b1-2e34-6335-41abbb46e6ce"
   },
   "source": [
    "### What rank did they achieve?"
   ]
  },
  {
   "cell_type": "code",
   "execution_count": 17,
   "metadata": {
    "_cell_guid": "5eb64715-bd03-7202-52a7-0e8152ee5cf1"
   },
   "outputs": [
    {
     "data": {
      "text/plain": [
       "Colonel                  94\n",
       "Captain                  68\n",
       "Commander                13\n",
       "Lieutenant Colonel       10\n",
       "Major                     5\n",
       "Brigadier General         4\n",
       "Major General             4\n",
       "Lieutenant Commander      3\n",
       "Rear Admiral              2\n",
       "Lieutenant General        2\n",
       "Chief Warrant Officer     1\n",
       "Vice Admiral              1\n",
       "Name: Military Rank, dtype: int64"
      ]
     },
     "execution_count": 17,
     "metadata": {},
     "output_type": "execute_result"
    }
   ],
   "source": [
    "df['Military Rank'].value_counts()"
   ]
  },
  {
   "cell_type": "code",
   "execution_count": 18,
   "metadata": {
    "_cell_guid": "1c1acfae-2b18-15f3-853d-bf6750f77b96"
   },
   "outputs": [
    {
     "data": {
      "text/plain": [
       "Male      307\n",
       "Female     50\n",
       "Name: Gender, dtype: int64"
      ]
     },
     "execution_count": 18,
     "metadata": {},
     "output_type": "execute_result"
    }
   ],
   "source": [
    "df['Gender'].value_counts()"
   ]
  },
  {
   "cell_type": "code",
   "execution_count": 19,
   "metadata": {
    "_cell_guid": "b1612b91-21cf-213e-ecbe-421d30bf9f4b"
   },
   "outputs": [
    {
     "data": {
      "text/plain": [
       "<matplotlib.axes._subplots.AxesSubplot at 0x7fbcbd19be80>"
      ]
     },
     "execution_count": 19,
     "metadata": {},
     "output_type": "execute_result"
    },
    {
     "data": {
      "image/png": "[encoded data removed]",
      "text/plain": [
       "<matplotlib.figure.Figure at 0x7fbcbd4366d8>"
      ]
     },
     "metadata": {},
     "output_type": "display_data"
    }
   ],
   "source": [
    "df['Gender'].value_counts().plot(kind='bar')"
   ]
  }
 ],
 "metadata": {
  "_change_revision": 122,
  "_is_fork": false,
  "kernelspec": {
   "display_name": "Python 3",
   "language": "python",
   "name": "python3"
  },
  "language_info": {
   "codemirror_mode": {
    "name": "ipython",
    "version": 3
   },
   "file_extension": ".py",
   "mimetype": "text/x-python",
   "name": "python",
   "nbconvert_exporter": "python",
   "pygments_lexer": "ipython3",
   "version": "3.6.0"
  }
 },
 "nbformat": 4,
 "nbformat_minor": 0
}
