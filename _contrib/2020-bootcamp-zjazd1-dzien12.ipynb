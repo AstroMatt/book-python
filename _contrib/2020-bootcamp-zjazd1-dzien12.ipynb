{
 "cells": [
  {
   "cell_type": "markdown",
   "metadata": {},
   "source": [
    "# Sages Python Bootcamp zjazd 1 dzień 1 i 2"
   ]
  },
  {
   "cell_type": "markdown",
   "metadata": {},
   "source": [
    "## 3.1.3.b. Time"
   ]
  },
  {
   "cell_type": "markdown",
   "metadata": {},
   "source": [
    "1. Oblicz ile sekund to pięć minut\n",
    "1. Oblicz ile sekund to jedna godzina\n",
    "1. Oblicz ile sekund to dzień pracy (8 godzin)\n",
    "1. Oblicz ile sekund to miesiąc pracy (22 dni po 8 godzin)\n",
    "1. Oblicz ile minut to tydzień pracy (40 godzin)"
   ]
  },
  {
   "cell_type": "code",
   "execution_count": 23,
   "metadata": {},
   "outputs": [
    {
     "name": "stdout",
     "output_type": "stream",
     "text": [
      "5 min to 300 s\n",
      "1 h to 3600 s\n",
      "1 wd to 28800 s\n",
      "1 week to 2400.0 m\n"
     ]
    }
   ],
   "source": [
    "s = 1\n",
    "m = 60 * s\n",
    "h = 60 * m\n",
    "\n",
    "work_day = 8 * h\n",
    "work_month = 22 * work_day\n",
    "work_week = 5 * work_day\n",
    "\n",
    "print(f'5 min to {5*m} s')\n",
    "print(f'1 h to {h} s')\n",
    "print(f'1 wd to {work_day} s')\n",
    "print(f'1 week to {work_week / m} m')"
   ]
  },
  {
   "cell_type": "markdown",
   "metadata": {},
   "source": [
    "## 3.1.3.c. Download Time"
   ]
  },
  {
   "cell_type": "markdown",
   "metadata": {},
   "source": [
    "1. Mając łącze internetowe do 100 Mb/s\n",
    "1. Ile zajmie ściągnięcie pliku 100 MB?"
   ]
  },
  {
   "cell_type": "code",
   "execution_count": 25,
   "metadata": {},
   "outputs": [
    {
     "name": "stdout",
     "output_type": "stream",
     "text": [
      "8.0\n"
     ]
    }
   ],
   "source": [
    "BIT = 1\n",
    "KILOBIT = 1024 * BIT\n",
    "MEGABIT = 1024 * KILOBIT\n",
    "\n",
    "BYTE = 8 * BIT\n",
    "KILOBYTE = 1024 * BYTE\n",
    "MEGABYTE = 1024 * KILOBYTE\n",
    "\n",
    "speed = 100 * MEGABIT\n",
    "size = 100 * MEGABYTE\n",
    "time = size / speed\n",
    "\n",
    "print(time)"
   ]
  },
  {
   "cell_type": "markdown",
   "metadata": {},
   "source": [
    "## 3.1.3.d. Temperature"
   ]
  },
  {
   "cell_type": "markdown",
   "metadata": {},
   "source": [
    "1. Jeden Kelwin to jeden stopień Celsiusza (1K = 1°C)\n",
    "1. Zero Kelwina (bezwzględne) to -273.15 stopni Celsiusza\n",
    "1. W zadaniu przyjmij równe -273°C (0K = -273°C)\n",
    "1. Ile Kelwinów, a ile stopni Celsiusza wynoszą średnie temperatury powierzchni:\n",
    "\n",
    "    * Księżyca w dzień: 180 °C\n",
    "    * Księżyca w nocy: 93 K\n",
    "    * Mars średnia: −63 °C\n",
    "    * Mars najwyższa: 20 °C\n",
    "    * Mars najniższa: 120 K"
   ]
  },
  {
   "cell_type": "code",
   "execution_count": 3,
   "metadata": {},
   "outputs": [],
   "source": [
    "OFFSET = 273\n",
    "\n",
    "moon_day_celsius = 180\n",
    "moon_day_kelvin = OFFSET + moon_day_celsius\n",
    "moon_night_kelvin = 93\n",
    "moon_night_celsius = moon_night_kelvin - OFFSET\n",
    "mars_avg_celsius = -63\n",
    "mars_avg_kelvin = OFFSET + mars_avg_celsius\n",
    "mars_high_celsius = 20\n",
    "mars_high_kelvin = OFFSET + mars_high_celsius\n",
    "mars_low_kelvin = 120\n",
    "mars_low_celsius = mars_low_kelvin - OFFSET\n",
    "\n",
    "print(f'Moon day: {moon_day_kelvin}K, {moon_day_celsius}°C')        # Moon day: 453K, 180°C\n",
    "print(f'Moon night: {moon_night_kelvin}K, {moon_night_celsius}°C')  # Moon night: 93K, -180°C\n",
    "print(f'Mars avg: {mars_avg_kelvin}K, {mars_avg_celsius}°C')        # Mars avg: 210K, -63°C\n",
    "print(f'Mars high: {mars_high_kelvin}K, {mars_high_celsius}°C')     # Mars high: 293K, 20°C\n",
    "print(f'Mars low: {mars_low_kelvin}K, {mars_low_celsius}°C')        # Moon low: 120K, -153°C"
   ]
  },
  {
   "cell_type": "markdown",
   "metadata": {},
   "source": [
    "## 3.2.4.b. Distance Conversion"
   ]
  },
  {
   "cell_type": "markdown",
   "metadata": {},
   "source": [
    "1. Zdefiniuj zmienną dla przechowywania wartości 1337 metrów\n",
    "1. Wypisz wartość w różnych jednostkach\n",
    "1. Użyj kodu wyjściowego (patrz sekcja input) jako szablonu\n",
    "1. Przekonwertuj dane do typów podanych w komentarzu po prawej stronie\n",
    "1. Zamiast ``...`` podstaw wyliczone i przekonwertowane wartości"
   ]
  },
  {
   "cell_type": "code",
   "execution_count": 34,
   "metadata": {},
   "outputs": [
    {
     "name": "stdout",
     "output_type": "stream",
     "text": [
      "Meters: 1337\n",
      "Kilometers: 1.337\n",
      "Miles: 0.83\n",
      "Nautical Miles: 0.72\n",
      "All: 1337, 1, 0.8, 0.7\n"
     ]
    }
   ],
   "source": [
    "m = 1337\n",
    "km = m / 1000\n",
    "mi = m / 1608\n",
    "nm = m / 1852\n",
    "\n",
    "print(f'Meters: {m}')\n",
    "print(f'Kilometers: {km}')\n",
    "print(f'Miles: {mi:.2}')\n",
    "print(f'Nautical Miles: {nm:.2}')\n",
    "print(f'All: {m}, {int(km)}, {mi:.1}, {nm:.1}')"
   ]
  },
  {
   "cell_type": "markdown",
   "metadata": {},
   "source": [
    "## 3.5.7.b. Emoticon Print\n",
    "\n",
    "1. Poproś użytkownika o wprowadzenie imienia\n",
    "1. Wypisz ``hello NAME EMOTICON``, gdzie:\n",
    "\n",
    "    * NAME to imię wczytane od użytkownika\n",
    "    * EMOTICON to Unicode Codepoint \"U+1F642\"\n",
    "\n",
    "1. Wyświetl długość imienia, wczytanego od użytkownika"
   ]
  },
  {
   "cell_type": "code",
   "execution_count": 35,
   "metadata": {},
   "outputs": [
    {
     "name": "stdout",
     "output_type": "stream",
     "text": [
      "What is your name?: Jan Twardowski\n",
      "Hello Jan Twardowski 🙂\n",
      "14\n"
     ]
    }
   ],
   "source": [
    "name = input('What is your name?: ')\n",
    "length = len(name)\n",
    "\n",
    "print(f'Hello {name} \\U0001F642')\n",
    "print(length)"
   ]
  },
  {
   "cell_type": "markdown",
   "metadata": {},
   "source": [
    "## 3.6.6.b. String Cleaning\n",
    "\n",
    "1. Dla danych wejściowych (patrz sekcja input)\n",
    "1. Oczekiwana wartość ``Jana III Sobieskiego``\n",
    "1. Wykorzystaj tylko metody ``str`` do oczyszczenia każdej zmiennej\n",
    "1. Porównaj wyniki z danymi wyjściowymi (patrz sekcja output)\n",
    "1. Przeprowadź dyskusję jak zrobić rozwiązanie generyczne pasujące do wszystkich przypadków\n",
    "1. Implementacja takiej generycznej funkcji będzie w rozdziale :ref:`Cleaning text input`"
   ]
  },
  {
   "cell_type": "code",
   "execution_count": 36,
   "metadata": {},
   "outputs": [
    {
     "name": "stdout",
     "output_type": "stream",
     "text": [
      "a:\tTrue\tJana III Sobieskiego\n",
      "b:\tTrue\tJana III Sobieskiego\n",
      "c:\tTrue\tJana III Sobieskiego\n",
      "d:\tTrue\tJana III Sobieskiego\n",
      "e:\tTrue\tJana III Sobieskiego\n",
      "f:\tTrue\tJana III Sobieskiego\n",
      "g:\tTrue\tJana III Sobieskiego\n",
      "h:\tTrue\tJana III Sobieskiego\n",
      "i:\tTrue\tJana III Sobieskiego\n"
     ]
    }
   ],
   "source": [
    "a = 'ul Jana III SobIESkiego'\n",
    "b = '\\tul. Jana trzeciego Sobieskiego'\n",
    "c = 'ulicaJana III Sobieskiego'\n",
    "d = 'UL. JANA 3 \\nSOBIESKIEGO'\n",
    "e = 'UL. jana III SOBiesKIEGO'\n",
    "f = 'ULICA JANA III SOBIESKIEGO  '\n",
    "g = 'ULICA. JANA III SOBIeskieGO'\n",
    "h = ' Jana 3 Sobieskiego  '\n",
    "i = 'Jana III\\tSobieskiego '\n",
    "\n",
    "a = a.upper().replace('UL', '').strip().title().replace('Iii', 'III')\n",
    "b = b.upper().replace('UL.', '').strip().title().replace('Trzeciego', 'III')\n",
    "c = c.upper().replace('ULICA', '').strip().title().replace('Iii', 'III')\n",
    "d = d.upper().replace('UL.', '').strip().title().replace('3', 'III').replace('\\n', '')\n",
    "e = e.upper().replace('UL.', '').strip().title().replace('Iii', 'III')\n",
    "f = f.upper().replace('ULICA', '').strip().title().replace('Iii', 'III')\n",
    "g = g.upper().replace('ULICA.', '').strip().title().replace('Iii', 'III')\n",
    "h = h.upper().replace('3', 'III').strip().title().replace('Iii', 'III')\n",
    "i = i.upper().replace('\\t', ' ').strip().title().replace('Iii', 'III')\n",
    "\n",
    "expected = 'Jana III Sobieskiego'\n",
    "\n",
    "print('a:', a == expected, a, sep='\\t')\n",
    "print('b:', b == expected, b, sep='\\t')\n",
    "print('c:', c == expected, c, sep='\\t')\n",
    "print('d:', d == expected, d, sep='\\t')\n",
    "print('e:', e == expected, e, sep='\\t')\n",
    "print('f:', f == expected, f, sep='\\t')\n",
    "print('g:', g == expected, g, sep='\\t')\n",
    "print('h:', h == expected, h, sep='\\t')\n",
    "print('i:', i == expected, i, sep='\\t')"
   ]
  },
  {
   "cell_type": "markdown",
   "metadata": {},
   "source": [
    "## 4.1.9.a. Create\n",
    "\n",
    "1. Dla danych wejściowych (patrz sekcja input)\n",
    "1. Stwórz ``list`` reprezentujący każdy wiersz\n",
    "\n",
    "| Sepal length |  Sepal width |  Petal length |  Petal width |  Species    | \n",
    "|--------------|--------------|---------------|--------------|-------------| \n",
    "| 5.8          |  2.7         |  5.1          |  1.9         |  virginica  | \n",
    "| 5.1          |  3.5         |  1.4          |  0.2         |  setosa     | \n",
    "| 5.7          |  2.8         |  4.1          |  1.3         |  versicolor | "
   ]
  },
  {
   "cell_type": "code",
   "execution_count": 42,
   "metadata": {},
   "outputs": [
    {
     "name": "stdout",
     "output_type": "stream",
     "text": [
      "[5.8, 2.7, 5.1, 1.9, 'virginica']\n",
      "[5.1, 3.5, 1.4, 0.2, 'setosa']\n",
      "[5.7, 2.8, 4.1, 1.3, 'versicolor']\n"
     ]
    }
   ],
   "source": [
    "a = [5.8, 2.7, 5.1, 1.9, 'virginica']\n",
    "b = [5.1, 3.5, 1.4, 0.2, 'setosa']\n",
    "c = [5.7, 2.8, 4.1, 1.3, 'versicolor']\n",
    "\n",
    "print(a)\n",
    "print(b)\n",
    "print(c)"
   ]
  },
  {
   "cell_type": "markdown",
   "metadata": {},
   "source": [
    "## 4.2.8.a. Create\n",
    "\n",
    "1. Dla danych wejściowych (patrz sekcja input)\n",
    "1. Stwórz ``tuple`` z nazwami gatunków\n",
    "1. Wylicz średnią arytmetyczną dla każdej z kolumn numerycznych\n",
    "1. Do przekonwertowania tabelki wykorzystaj zaznaczanie wielu linijek za pomocą klawisza ``alt`` w Twoim IDE\n",
    "\n",
    "| Sepal length |  Sepal width |  Petal length |  Petal width |  Species    | \n",
    "|--------------|--------------|---------------|--------------|-------------| \n",
    "| 5.8          |  2.7         |  5.1          |  1.9         |  virginica  | \n",
    "| 5.1          |  3.5         |  1.4          |  0.2         |  setosa     | \n",
    "| 5.7          |  2.8         |  4.1          |  1.3         |  versicolor | \n",
    "| 6.3          |  2.9         |  5.6          |  1.8         |  virginica  | \n",
    "| 6.4          |  3.2         |  4.5          |  1.5         |  versicolor | \n",
    "| 4.7          |  3.2         |  1.3          |  0.2         |  setosa     | \n",
    "| 7.0          |  3.2         |  4.7          |  1.4         |  versicolor | \n",
    "| 7.6          |  3.0         |  6.6          |  2.1         |  virginica  | \n",
    "| 4.9          |  3.0         |  1.4          |  0.2         |  setosa     | \n",
    "| 4.9          |  2.5         |  4.5          |  1.7         |  virginica  | \n",
    "| 7.1          |  3.0         |  5.9          |  2.1         |  virginica  | "
   ]
  },
  {
   "cell_type": "code",
   "execution_count": 8,
   "metadata": {},
   "outputs": [
    {
     "data": {
      "text/plain": [
       "('7.1', '3.0', '5.9', '2.1', 'virginica')"
      ]
     },
     "execution_count": 8,
     "metadata": {},
     "output_type": "execute_result"
    }
   ],
   "source": [
    "sepal_length = (5.8, 5.1, 5.7, 6.3, 6.4, 4.7, 7.0, 7.6, 4.9, 4.9, 7.1)\n",
    "sepal_width = (2.7, 3.5, 2.8, 2.9, 3.2, 3.2, 3.2, 3.0, 3.0, 2.5, 3.0)\n",
    "petal_length = (5.1, 1.4, 4.1, 5.6, 4.5, 1.3, 4.7, 6.6, 1.4, 4.5, 5.9)\n",
    "petal_width = (1.9, 0.2, 1.3, 1.8, 1.5, 0.2, 1.4, 2.1, 0.2, 1.7, 2.1)\n",
    "species = ('virginica', 'setosa', 'versicolor', 'virginica', 'versicolor', 'setosa', 'versicolor', 'virginica', 'setosa', 'virginica', 'virginica')\n",
    "\n",
    "sepal_length_mean = sum(sepal_length) / len(sepal_length)\n",
    "sepal_width_mean = sum(sepal_width) / len(sepal_width)\n",
    "petal_length_mean = sum(petal_length) / len(petal_length)\n",
    "petal_width_mean = sum(petal_width) / len(petal_width)\n",
    "\n",
    "print(f'Sepal length mean: {sepal_length_mean}')\n",
    "print(f'Sepal width mean: {sepal_width_mean}')\n",
    "print(f'Petal length mean: {petal_length_mean}')\n",
    "print(f'Petal width mean: {petal_width_mean}')"
   ]
  },
  {
   "cell_type": "markdown",
   "metadata": {},
   "source": [
    "## 4.3.10.a. Create\n",
    "\n",
    "1. Stwórz tuplę ``a`` z cyframi: 0, 1, 2, 3\n",
    "1. Stwórz listę ``b`` z cyframi: 2, 3, 4, 5\n",
    "1. Stwórz zbiór ``c`` z co drugim elementem ``a`` i ``b``\n",
    "1. Wypisz ``c``"
   ]
  },
  {
   "cell_type": "markdown",
   "metadata": {},
   "source": [
    "## 4.5.3.a. Select\n",
    "\n",
    "1. Dla danych wejściowych (patrz sekcja input)\n",
    "1. Zapisz nagłówek (pierwsza linia) do zmiennej ``header: tuple``\n",
    "1. Stwórz ``OUTPUT: list``\n",
    "1. Przekonwertuj do ``list`` dane z wierszy o indeksach 2, 6, 9 i dodaj do ``OUTPUT``\n",
    "1. Przekonwertuj do ``tuple`` dane z wierszy o indeksach 12, 15, 16 i dodaj do ``OUTPUT``\n",
    "1. Dodaj pusty ``set``, ``list`` oraz ``tuple`` do ``OUTPUT``\n",
    "1. Użyj tylko indeksów\n",
    "1. Nie używaj ``for``, ``while`` lub ``slice()``"
   ]
  },
  {
   "cell_type": "code",
   "execution_count": 45,
   "metadata": {},
   "outputs": [
    {
     "name": "stdout",
     "output_type": "stream",
     "text": [
      "{0.2, 1.9, 2.7, 3.5, 1.4, 5.8, 5.1, 1.3, 2.8, 4.1, 5.7, 6.3, 5.6, 6.4, 1.5, 4.5, 'versicolor', 'virginica', 3.2, 1.8, 2.9, 'setosa'}\n"
     ]
    }
   ],
   "source": [
    "my_set = {5.8, 2.7, 5.1, 1.9, 'virginica'}\n",
    "\n",
    "my_set.add(5.1)\n",
    "my_set.add(3.5)\n",
    "my_set.add(1.4)\n",
    "my_set.add(0.2)\n",
    "my_set.add('setosa')\n",
    "\n",
    "my_set.update({5.7, 2.8, 4.1, 1.3, 'versicolor'})\n",
    "my_set.update((6.3, 2.9, 5.6, 1.8, 'virginica'))\n",
    "my_set.update([6.4, 3.2, 4.5, 1.5, 'versicolor'])\n",
    "\n",
    "print(my_set)"
   ]
  },
  {
   "cell_type": "markdown",
   "metadata": {},
   "source": [
    "## 4.6.11.b. Split train/test\n",
    "\n",
    "1. For input data (see below)\n",
    "1. Write header (first line) to ``header`` variable\n",
    "1. Write data without header to ``data`` variable\n",
    "1. Calculate pivot point: number records in ``data`` multiplied by PERCENT (division ratio below)\n",
    "1. Divide ``data`` into two lists:\n",
    "\n",
    "    * ``train``: 60% - training data\n",
    "    * ``test``: 40% - testing data\n",
    "\n",
    "1. From ``data`` write training data from start to pivot\n",
    "1. From ``data`` write test data from pivot to end\n",
    "\n",
    "| Row |  Sepal length |  Sepal width |  Petal length |  Petal width |  Species    | \n",
    "|-----|---------------|--------------|---------------|--------------|-------------| \n",
    "| 1   |  5.8          |  2.7         |  5.1          |  1.9         |  virginica  | \n",
    "| 2   |  5.1          |  3.5         |  1.4          |  0.2         |  setosa     | \n",
    "| 3   |  5.7          |  2.8         |  4.1          |  1.3         |  versicolor | \n",
    "| 4   |  6.3          |  2.9         |  5.6          |  1.8         |  virginica  | \n",
    "| 5   |  6.4          |  3.2         |  4.5          |  1.5         |  versicolor | "
   ]
  },
  {
   "cell_type": "code",
   "execution_count": 12,
   "metadata": {},
   "outputs": [],
   "source": [
    "DATA = [\n",
    "    ('Sepal length', 'Sepal width', 'Petal length', 'Petal width', 'Species'),\n",
    "    (5.8, 2.7, 5.1, 1.9, 'virginica'),\n",
    "    (5.1, 3.5, 1.4, 0.2, 'setosa'),\n",
    "    (5.7, 2.8, 4.1, 1.3, 'versicolor'),\n",
    "    (6.3, 2.9, 5.6, 1.8, 'virginica'),\n",
    "    (6.4, 3.2, 4.5, 1.5, 'versicolor'),\n",
    "    (4.7, 3.2, 1.3, 0.2, 'setosa'),\n",
    "    (7.0, 3.2, 4.7, 1.4, 'versicolor'),\n",
    "    (7.6, 3.0, 6.6, 2.1, 'virginica'),\n",
    "    (4.9, 3.0, 1.4, 0.2, 'setosa'),\n",
    "    (4.9, 2.5, 4.5, 1.7, 'virginica'),\n",
    "    (7.1, 3.0, 5.9, 2.1, 'virginica'),\n",
    "    (4.6, 3.4, 1.4, 0.3, 'setosa'),\n",
    "    (5.4, 3.9, 1.7, 0.4, 'setosa'),\n",
    "    (5.7, 2.8, 4.5, 1.3, 'versicolor'),\n",
    "    (5.0, 3.6, 1.4, 0.3, 'setosa'),\n",
    "    (5.5, 2.3, 4.0, 1.3, 'versicolor'),\n",
    "    (6.5, 3.0, 5.8, 2.2, 'virginica'),\n",
    "    (6.5, 2.8, 4.6, 1.5, 'versicolor'),\n",
    "    (6.3, 3.3, 6.0, 2.5, 'virginica'),\n",
    "    (6.9, 3.1, 4.9, 1.5, 'versicolor'),\n",
    "    (4.6, 3.1, 1.5, 0.2, 'setosa'),\n",
    "]\n",
    "\n",
    "header = DATA[0]\n",
    "\n",
    "OUTPUT = [\n",
    "    list(DATA[2]),\n",
    "    list(DATA[6]),\n",
    "    list(DATA[9]),\n",
    "    tuple(DATA[12]),\n",
    "    tuple(DATA[15]),\n",
    "    tuple(DATA[16]),\n",
    "    set(),\n",
    "]"
   ]
  },
  {
   "cell_type": "code",
   "execution_count": 13,
   "metadata": {
    "scrolled": true
   },
   "outputs": [
    {
     "data": {
      "text/plain": [
       "('Sepal length', 'Sepal width', 'Petal length', 'Petal width', 'Species')"
      ]
     },
     "execution_count": 13,
     "metadata": {},
     "output_type": "execute_result"
    }
   ],
   "source": [
    "header"
   ]
  },
  {
   "cell_type": "code",
   "execution_count": 14,
   "metadata": {},
   "outputs": [
    {
     "data": {
      "text/plain": [
       "[[5.1, 3.5, 1.4, 0.2, 'setosa'],\n",
       " [4.7, 3.2, 1.3, 0.2, 'setosa'],\n",
       " [4.9, 3.0, 1.4, 0.2, 'setosa'],\n",
       " (4.6, 3.4, 1.4, 0.3, 'setosa'),\n",
       " (5.0, 3.6, 1.4, 0.3, 'setosa'),\n",
       " (5.5, 2.3, 4.0, 1.3, 'versicolor'),\n",
       " set()]"
      ]
     },
     "execution_count": 14,
     "metadata": {},
     "output_type": "execute_result"
    }
   ],
   "source": [
    "OUTPUT"
   ]
  },
  {
   "cell_type": "markdown",
   "metadata": {},
   "source": [
    "## 4.6.11.a. Simple collections"
   ]
  },
  {
   "cell_type": "markdown",
   "metadata": {},
   "source": [
    "1. Dla danych wejściowych (patrz sekcja input)\n",
    "1. Stwórz ``my_set: set`` reprezentujący pierwszy wiersz\n",
    "1. Wartości z drugiego wiersza dodawaj do ``my_set`` za pomocą ``.add()``\n",
    "1. Na podstawie trzeciego wiersza stwórz ``set`` i dodaj go za pomocą ``.update()``\n",
    "1. Na podstawie czwartego wiersza stwórz ``tuple`` i dodaj go za pomocą ``.update()``\n",
    "1. Na podstawie piątego wiersza stwórz ``list`` i dodaj go za pomocą ``.update()``"
   ]
  },
  {
   "cell_type": "code",
   "execution_count": 15,
   "metadata": {},
   "outputs": [
    {
     "name": "stdout",
     "output_type": "stream",
     "text": [
      "{0, 2, 4}\n"
     ]
    }
   ],
   "source": [
    "a = (0, 1, 2, 3)\n",
    "b = [2, 3, 4, 5]\n",
    "\n",
    "c = set()\n",
    "c.update(a[::2], b[::2])\n",
    "\n",
    "print(c)"
   ]
  },
  {
   "cell_type": "markdown",
   "metadata": {},
   "source": [
    "## 4.6.11.b. Split train/test"
   ]
  },
  {
   "cell_type": "markdown",
   "metadata": {},
   "source": [
    "1. Dla danych wejściowych (patrz sekcja input)\n",
    "1. Zapisz nagłówek (pierwsza linia) do zmiennej ``header``\n",
    "1. Zapisz dane bez nagłówka do zmiennej ``data``\n",
    "1. Wylicz punkt podziału: ilość rekordów w ``data`` razy PROCENT (proporcja podziału poniżej)\n",
    "1. Podziel ``data`` na dwie listy:\n",
    "  * ``train``: 60% - dane do uczenia\n",
    "  * ``test``: 40% - dane do testów \n",
    "1. Z ``data`` zapisz do uczenia rekordy od początku do punktu podziału\n",
    "1. Z ``data`` zapisz do testów rekordy od punktu podziału do końca"
   ]
  },
  {
   "cell_type": "code",
   "execution_count": 16,
   "metadata": {},
   "outputs": [
    {
     "data": {
      "text/plain": [
       "([(5.8, 2.7, 5.1, 1.9, 'virginica'),\n",
       "  (5.1, 3.5, 1.4, 0.2, 'setosa'),\n",
       "  (5.7, 2.8, 4.1, 1.3, 'versicolor'),\n",
       "  (6.3, 2.9, 5.6, 1.8, 'virginica'),\n",
       "  (6.4, 3.2, 4.5, 1.5, 'versicolor'),\n",
       "  (4.7, 3.2, 1.3, 0.2, 'setosa'),\n",
       "  (7.0, 3.2, 4.7, 1.4, 'versicolor'),\n",
       "  (7.6, 3.0, 6.6, 2.1, 'virginica'),\n",
       "  (4.9, 3.0, 1.4, 0.2, 'setosa'),\n",
       "  (4.9, 2.5, 4.5, 1.7, 'virginica'),\n",
       "  (7.1, 3.0, 5.9, 2.1, 'virginica'),\n",
       "  (4.6, 3.4, 1.4, 0.3, 'setosa')],\n",
       " [(5.4, 3.9, 1.7, 0.4, 'setosa'),\n",
       "  (5.7, 2.8, 4.5, 1.3, 'versicolor'),\n",
       "  (5.0, 3.6, 1.4, 0.3, 'setosa'),\n",
       "  (5.5, 2.3, 4.0, 1.3, 'versicolor'),\n",
       "  (6.5, 3.0, 5.8, 2.2, 'virginica'),\n",
       "  (6.5, 2.8, 4.6, 1.5, 'versicolor'),\n",
       "  (6.3, 3.3, 6.0, 2.5, 'virginica'),\n",
       "  (6.9, 3.1, 4.9, 1.5, 'versicolor'),\n",
       "  (4.6, 3.1, 1.5, 0.2, 'setosa')])"
      ]
     },
     "execution_count": 16,
     "metadata": {},
     "output_type": "execute_result"
    }
   ],
   "source": [
    "DATA = [\n",
    "    ('Sepal length', 'Sepal width', 'Petal length', 'Petal width', 'Species'),\n",
    "    (5.8, 2.7, 5.1, 1.9, 'virginica'),\n",
    "    (5.1, 3.5, 1.4, 0.2, 'setosa'),\n",
    "    (5.7, 2.8, 4.1, 1.3, 'versicolor'),\n",
    "    (6.3, 2.9, 5.6, 1.8, 'virginica'),\n",
    "    (6.4, 3.2, 4.5, 1.5, 'versicolor'),\n",
    "    (4.7, 3.2, 1.3, 0.2, 'setosa'),\n",
    "    (7.0, 3.2, 4.7, 1.4, 'versicolor'),\n",
    "    (7.6, 3.0, 6.6, 2.1, 'virginica'),\n",
    "    (4.9, 3.0, 1.4, 0.2, 'setosa'),\n",
    "    (4.9, 2.5, 4.5, 1.7, 'virginica'),\n",
    "    (7.1, 3.0, 5.9, 2.1, 'virginica'),\n",
    "    (4.6, 3.4, 1.4, 0.3, 'setosa'),\n",
    "    (5.4, 3.9, 1.7, 0.4, 'setosa'),\n",
    "    (5.7, 2.8, 4.5, 1.3, 'versicolor'),\n",
    "    (5.0, 3.6, 1.4, 0.3, 'setosa'),\n",
    "    (5.5, 2.3, 4.0, 1.3, 'versicolor'),\n",
    "    (6.5, 3.0, 5.8, 2.2, 'virginica'),\n",
    "    (6.5, 2.8, 4.6, 1.5, 'versicolor'),\n",
    "    (6.3, 3.3, 6.0, 2.5, 'virginica'),\n",
    "    (6.9, 3.1, 4.9, 1.5, 'versicolor'),\n",
    "    (4.6, 3.1, 1.5, 0.2, 'setosa'),\n",
    "]\n",
    "\n",
    "RATIO = 0.6\n",
    "\n",
    "header = DATA[0]\n",
    "data = DATA[1:]\n",
    "\n",
    "punkt_podzialu = int(RATIO * len(data))\n",
    "train = data[:punkt_podzialu]\n",
    "test = data[punkt_podzialu:]\n",
    "\n",
    "train, test"
   ]
  },
  {
   "cell_type": "markdown",
   "metadata": {},
   "source": [
    "## 4.7.6.a. Unpacking from sequence"
   ]
  },
  {
   "cell_type": "markdown",
   "metadata": {},
   "source": [
    "1. Podziel dane wejściowe (patrz sekcja input) po białych znakach\n",
    "1. Odseparuj adres ip i nazw hostów\n",
    "1. Skorzystaj z notacji z gwiazdką ``*``"
   ]
  },
  {
   "cell_type": "code",
   "execution_count": 46,
   "metadata": {},
   "outputs": [
    {
     "name": "stdout",
     "output_type": "stream",
     "text": [
      "10.13.37.1\n",
      "['nasa.gov', 'esa.int', 'roscosmos.ru']\n"
     ]
    }
   ],
   "source": [
    "DATA = '10.13.37.1      nasa.gov esa.int roscosmos.ru'\n",
    "\n",
    "ip, *hosts = DATA.split()\n",
    "\n",
    "print(ip)\n",
    "print(hosts)"
   ]
  },
  {
   "cell_type": "markdown",
   "metadata": {},
   "source": [
    "## 4.7.6.b. Unpacking from nested sequence"
   ]
  },
  {
   "cell_type": "markdown",
   "metadata": {},
   "source": [
    "1. Dla danych wejściowych (patrz sekcja input)\n",
    "1. Oddziel nagłówek i rekordy\n",
    "1. Skorzystaj z konstrukcji z gwiazdką ``*``"
   ]
  },
  {
   "cell_type": "code",
   "execution_count": 48,
   "metadata": {},
   "outputs": [
    {
     "name": "stdout",
     "output_type": "stream",
     "text": [
      "('Sepal length', 'Sepal width', 'Petal length', 'Petal width', 'Species')\n"
     ]
    },
    {
     "data": {
      "text/plain": [
       "[(5.8, 2.7, 5.1, 1.9, 'virginica'),\n",
       " (5.1, 3.5, 1.4, 0.2, 'setosa'),\n",
       " (5.7, 2.8, 4.1, 1.3, 'versicolor'),\n",
       " (6.3, 2.9, 5.6, 1.8, 'virginica'),\n",
       " (6.4, 3.2, 4.5, 1.5, 'versicolor'),\n",
       " (4.7, 3.2, 1.3, 0.2, 'setosa'),\n",
       " (7.0, 3.2, 4.7, 1.4, 'versicolor'),\n",
       " (7.6, 3.0, 6.6, 2.1, 'virginica'),\n",
       " (4.9, 3.0, 1.4, 0.2, 'setosa'),\n",
       " (4.9, 2.5, 4.5, 1.7, 'virginica'),\n",
       " (7.1, 3.0, 5.9, 2.1, 'virginica'),\n",
       " (4.6, 3.4, 1.4, 0.3, 'setosa'),\n",
       " (5.4, 3.9, 1.7, 0.4, 'setosa'),\n",
       " (5.7, 2.8, 4.5, 1.3, 'versicolor'),\n",
       " (5.0, 3.6, 1.4, 0.3, 'setosa'),\n",
       " (5.5, 2.3, 4.0, 1.3, 'versicolor'),\n",
       " (6.5, 3.0, 5.8, 2.2, 'virginica'),\n",
       " (6.5, 2.8, 4.6, 1.5, 'versicolor'),\n",
       " (6.3, 3.3, 6.0, 2.5, 'virginica'),\n",
       " (6.9, 3.1, 4.9, 1.5, 'versicolor'),\n",
       " (4.6, 3.1, 1.5, 0.2, 'setosa')]"
      ]
     },
     "execution_count": 48,
     "metadata": {},
     "output_type": "execute_result"
    }
   ],
   "source": [
    "DATA = [\n",
    "    ('Sepal length', 'Sepal width', 'Petal length', 'Petal width', 'Species'),\n",
    "    (5.8, 2.7, 5.1, 1.9, 'virginica'),\n",
    "    (5.1, 3.5, 1.4, 0.2, 'setosa'),\n",
    "    (5.7, 2.8, 4.1, 1.3, 'versicolor'),\n",
    "    (6.3, 2.9, 5.6, 1.8, 'virginica'),\n",
    "    (6.4, 3.2, 4.5, 1.5, 'versicolor'),\n",
    "    (4.7, 3.2, 1.3, 0.2, 'setosa'),\n",
    "    (7.0, 3.2, 4.7, 1.4, 'versicolor'),\n",
    "    (7.6, 3.0, 6.6, 2.1, 'virginica'),\n",
    "    (4.9, 3.0, 1.4, 0.2, 'setosa'),\n",
    "    (4.9, 2.5, 4.5, 1.7, 'virginica'),\n",
    "    (7.1, 3.0, 5.9, 2.1, 'virginica'),\n",
    "    (4.6, 3.4, 1.4, 0.3, 'setosa'),\n",
    "    (5.4, 3.9, 1.7, 0.4, 'setosa'),\n",
    "    (5.7, 2.8, 4.5, 1.3, 'versicolor'),\n",
    "    (5.0, 3.6, 1.4, 0.3, 'setosa'),\n",
    "    (5.5, 2.3, 4.0, 1.3, 'versicolor'),\n",
    "    (6.5, 3.0, 5.8, 2.2, 'virginica'),\n",
    "    (6.5, 2.8, 4.6, 1.5, 'versicolor'),\n",
    "    (6.3, 3.3, 6.0, 2.5, 'virginica'),\n",
    "    (6.9, 3.1, 4.9, 1.5, 'versicolor'),\n",
    "    (4.6, 3.1, 1.5, 0.2, 'setosa'),\n",
    "]\n",
    "\n",
    "header, *data = DATA\n",
    "\n",
    "print(header)\n",
    "data"
   ]
  },
  {
   "cell_type": "markdown",
   "metadata": {},
   "source": [
    "## 5.1.11.a. Aviation Language"
   ]
  },
  {
   "cell_type": "markdown",
   "metadata": {},
   "source": [
    "1. Stwórz tłumacza alfabetu pilotów\n",
    "1. Pojedynczym literom przyporządkuj ich fonetyczne odpowiedniki\n",
    "1. Do przekonwertowania tabelki wykorzystaj zaznaczanie wielu linijek za pomocą klawisza ``alt`` w Twoim IDE (jeżeli skrót klawiszowy nie działa w Twoim IDE, użyj tylko cztery pierwsze litery)\n",
    "1. Poproś użytkownika o wprowadzenie litery\n",
    "1. Użytkownik zawsze poda tylko jedną dużą literę lub cyfrę\n",
    "1. Wypisz fonetyczną wymowę litery\n",
    "1. Jeżeli wpisał znak, który nie występuje w alfabecie, wypisz: \"Pilots don't say that\"\n",
    "1. Nie używaj ``if``, ``try`` ani ``except``"
   ]
  },
  {
   "cell_type": "code",
   "execution_count": 50,
   "metadata": {
    "scrolled": false
   },
   "outputs": [
    {
     "name": "stdout",
     "output_type": "stream",
     "text": [
      "Podaj literę: 3\n",
      "Pilots don't say that\n"
     ]
    }
   ],
   "source": [
    "ALPHABET = {\n",
    "    'A': 'Alfa',\n",
    "    'B': 'Bravo',\n",
    "    'C': 'Charlie',\n",
    "    'D': 'Delta',\n",
    "    'E': 'Echo',\n",
    "    'F': 'Foxtrot',\n",
    "    'G': 'Golf',\n",
    "    'H': 'Hotel',\n",
    "    'I': 'India',\n",
    "    'J': 'Juliet',\n",
    "    'K': 'Kilo',\n",
    "    'L': 'Lima',\n",
    "    'M': 'Mike',\n",
    "    'N': 'November',\n",
    "    'O': 'Oscar',\n",
    "    'P': 'Papa',\n",
    "    'Q': 'Quebec',\n",
    "    'R': 'Romeo',\n",
    "    'S': 'Sierra',\n",
    "    'T': 'Tango',\n",
    "    'U': 'Uniform',\n",
    "    'V': 'Victor',\n",
    "    'W': 'Whisky',\n",
    "    'X': 'X-Ray',\n",
    "    'Z': 'Zulu',\n",
    "}\n",
    "\n",
    "letter = input('Type letter: ')\n",
    "output = ALPHABET.get(letter, \"Pilots don't say that\")\n",
    "\n",
    "print(output)"
   ]
  },
  {
   "cell_type": "markdown",
   "metadata": {},
   "source": [
    "## 6.1.2.a. Is odd number"
   ]
  },
  {
   "cell_type": "markdown",
   "metadata": {},
   "source": [
    "1. Wczytaj liczbę od użytkownika\n",
    "1. Użytkownika poda tylko poprawne ``int``\n",
    "1. Liczba jest nieparzysta, gdy dzielona modulo (``%``) przez 2 nie ma reszty\n",
    "1. Wypisz czy liczba jest nieparzysta\n",
    "1. Nie używaj instrukcji ``if``"
   ]
  },
  {
   "cell_type": "code",
   "execution_count": 61,
   "metadata": {},
   "outputs": [
    {
     "name": "stdout",
     "output_type": "stream",
     "text": [
      "Podaj liczbę: 4\n",
      "False\n"
     ]
    }
   ],
   "source": [
    "number = input('What is your number?: ')\n",
    "number = float(number)\n",
    "\n",
    "print(number % 2 == 0)"
   ]
  },
  {
   "cell_type": "code",
   "execution_count": 63,
   "metadata": {},
   "outputs": [
    {
     "name": "stdout",
     "output_type": "stream",
     "text": [
      "Witaj Jan Twardowski\n",
      "Witaj Jan Twardowski\n",
      "Witaj Jan Twardowski\n",
      "Witaj Jan Twardowski\n",
      "Witaj Jan Twardowski\n"
     ]
    }
   ],
   "source": [
    "imie = 'Jan'\n",
    "nazwisko = 'Twardowski'\n",
    "\n",
    "# Python 3.6 i nowsze\n",
    "print(f'Witaj {imie} {nazwisko}')\n",
    "\n",
    "# Python 3.0 i nowsze\n",
    "print('Witaj {} {}'.format(imie, nazwisko))\n",
    "print('Witaj {0} {1}'.format(imie, nazwisko))\n",
    "print('Witaj {fname} {lname}'.format(fname=imie, lname=nazwisko))\n",
    "\n",
    "# Python 2.X\n",
    "print('Witaj %s %s' % (imie, nazwisko))\n",
    "\n",
    "\n",
    "# '50' % 1  -> TypeError: not all arguments converted during string formatting\n",
    "# '50 %s' % 1 -> 50 1\n",
    "# 50 % 1 -> 0"
   ]
  },
  {
   "cell_type": "markdown",
   "metadata": {},
   "source": [
    "## 6.2.5.a. Conditioning on user input"
   ]
  },
  {
   "cell_type": "markdown",
   "metadata": {},
   "source": [
    "1. Poproś użytkownika o wiek\n",
    "1. Użytkownika poda tylko poprawne ``int``\n",
    "1. Wypisz czy użytkownik jest pełnoletni"
   ]
  },
  {
   "cell_type": "code",
   "execution_count": 65,
   "metadata": {},
   "outputs": [
    {
     "name": "stdout",
     "output_type": "stream",
     "text": [
      "Age?: 18\n",
      "stary\n"
     ]
    }
   ],
   "source": [
    "AGE_ADULT = 18\n",
    "\n",
    "\n",
    "age = input('What is your age?: ')\n",
    "\n",
    "if int(age) >= AGE_ADULT:\n",
    "    print('Adult')\n",
    "else:\n",
    "    print('Young')"
   ]
  },
  {
   "cell_type": "markdown",
   "metadata": {},
   "source": [
    "## 6.3.4.a. Classification of blood pressure in adults"
   ]
  },
  {
   "cell_type": "markdown",
   "metadata": {},
   "source": [
    "1. Tabela zawiera klasyfikację danych wejściowych (patrz sekcja input)\n",
    "1. Klasyfikacja ciśnienia krwi wg. American Heart Association\n",
    "1. Użytkownik wprowadza ciśnienie krwi w formacie ``XXX/YY`` lub ``XXX/YYY``, gdzie:\n",
    "\n",
    "    - ``XXX: int`` to wartość ciśnienia skurczowego (ang. *systolic*)\n",
    "    - ``YY: int`` lub ``YYY: int`` to wartość ciśnienia rozkurczowego (ang. *diastolic*)\n",
    "\n",
    "1. Wypisz status wprowadzonego ciśnienia krwi\n",
    "1. Gdy wartości ciśnienia skurczowego i rozkurczowego należą do różnych kategorii, przyjmij gorszy przypadek"
   ]
  },
  {
   "cell_type": "markdown",
   "metadata": {},
   "source": [
    "| Blood Pressure Category |  Systolic [mm Hg] |  Operator |  Diastolic [mm Hg] | \n",
    "|-------------------------|-------------------|-----------|--------------------| \n",
    "| Normal                  |  Less than 120    |  and      |  Less than 80      | \n",
    "| Elevated                |  120-129          |  and      |  Less than 80      | \n",
    "| Hypertension stage 1    |  130-139          |  or       |  80-89             | \n",
    "| Hypertension stage 2    |  140 or higher    |  or       |  90 or higher      | \n",
    "| Hypertensive Crisis     |  Higher than 180  |  and/or   |  Higher than 120   | \n"
   ]
  },
  {
   "cell_type": "code",
   "execution_count": 73,
   "metadata": {},
   "outputs": [
    {
     "name": "stdout",
     "output_type": "stream",
     "text": [
      "Podaj ciśnienie [XXX/YY]: 140/120\n"
     ]
    }
   ],
   "source": [
    "blood_pressure = input('What is your Blood Pressure?: ')\n",
    "sys, dia = blood_pressure.strip().split('/')\n",
    "sys = int(sys)\n",
    "dia = int(dia)\n",
    "\n",
    "if sys < 120 and dia < 80:\n",
    "    print('Normal')\n",
    "elif 120 <= sys < 129 and dia < 80:\n",
    "    print('Elevated')\n",
    "elif 130 <= sys <= 139 or 80 <= dia <= 89:\n",
    "    print('Hypertension stage 1')\n",
    "elif sys >= 140 or dia >= 90:\n",
    "    print('Hypertension stage 2')\n",
    "elif sys >= 180 or dia >= 120:    \n",
    "    print('Hypertensive Crisis')"
   ]
  },
  {
   "cell_type": "code",
   "execution_count": null,
   "metadata": {},
   "outputs": [],
   "source": [
    "blood_pressure = input('What is your Blood Pressure?: ')\n",
    "sys, dia = blood_pressure.strip().split('/')\n",
    "sys = int(sys)\n",
    "dia = int(dia)\n",
    "\n",
    "if sys >= 180 or dia >= 120:    \n",
    "    print('Hypertensive Crisis')\n",
    "elif sys >= 140 or dia >= 90:\n",
    "    print('Hypertension stage 2')\n",
    "elif 130 <= sys <= 139 or 80 <= dia <= 89:\n",
    "    print('Hypertension stage 1')\n",
    "elif 120 <= sys < 129 and dia < 80:\n",
    "    print('Elevated')\n",
    "elif sys < 120 and dia < 80:\n",
    "    print('Normal')"
   ]
  },
  {
   "cell_type": "code",
   "execution_count": null,
   "metadata": {},
   "outputs": [],
   "source": [
    "blood_pressure = input('What is your Blood Pressure?: ')\n",
    "sys, dia = blood_pressure.strip().split('/')\n",
    "sys = int(sys)\n",
    "dia = int(dia)\n",
    "\n",
    "if sys < 120 and dia < 80:\n",
    "    print('Normal')\n",
    "elif 120 <= sys < 129 and dia < 80:\n",
    "    print('Elevated')\n",
    "elif 130 <= sys <= 139 or 80 <= dia <= 89:\n",
    "    print('Hypertension stage 1')\n",
    "elif sys >= 140 or dia >= 90:\n",
    "    print('Hypertension stage 2')\n",
    "\n",
    "if sys >= 180 or dia >= 120:\n",
    "    print('Hypertensive Crisis')"
   ]
  },
  {
   "cell_type": "markdown",
   "metadata": {},
   "source": [
    "## 7.1.4.a. Report card"
   ]
  },
  {
   "cell_type": "markdown",
   "metadata": {},
   "source": [
    "1. Dla skali ocen w danych wejściowych (patrz sekcja input)\n",
    "1. Przekonwertuj skalę do ``List[float]`` używając pętli ``while``\n",
    "1. Poproś użytkownika o ocenę, jedną na raz\n",
    "1. Użytkownik poda tylko poprawne ``int`` lub ``float``\n",
    "1. Jeżeli ocena jest na nowej skali - dodaj ją do dzienniczka\n",
    "1. Jeżeli oceny nie ma na liście - wyświetl \"Grade is not allowed\" i kontynuuj wpisywanie\n",
    "1. Jeżeli użytkownik wcisnął Enter, zakończ wprowadzanie danych\n",
    "1. Na zakończenie wyświetl wyliczoną dla dzienniczka średnią arytmetyczną\n",
    "1. Przetestuj przypadek, gdy dzienniczek jest pusty"
   ]
  },
  {
   "cell_type": "code",
   "execution_count": 86,
   "metadata": {},
   "outputs": [
    {
     "data": {
      "text/plain": [
       "[2.0, 3.0, 3.5, 4.0, 4.5, 5.0]"
      ]
     },
     "execution_count": 86,
     "metadata": {},
     "output_type": "execute_result"
    }
   ],
   "source": [
    "DATA = (2, 3, 3.5, 4, 4.5, 5)\n",
    "GRADE_SCALE = []\n",
    "report_card = []\n",
    "\n",
    "i = 0\n",
    "\n",
    "while i < len(DATA):\n",
    "    grade = float(DATA[i])\n",
    "    GRADE_SCALE.append(grade)\n",
    "    i += 1\n",
    "\n",
    "while True:\n",
    "    grade = input('What grade you received?: ')\n",
    "\n",
    "    if not grade:\n",
    "        break\n",
    "\n",
    "    grade = float(grade)\n",
    "\n",
    "    if grade in GRADE_SCALE:\n",
    "        report_card.append(grade)\n",
    "    else:\n",
    "        print('Grade is not allowed')\n",
    "\n",
    "if report_card:\n",
    "    mean = sum(report_card) / len(report_card)\n",
    "    print(f'Mean: {mean}')\n",
    "else:\n",
    "    print('Empty report card')\n"
   ]
  },
  {
   "cell_type": "markdown",
   "metadata": {},
   "source": [
    "## 7.2.5.b. Segmentation"
   ]
  },
  {
   "cell_type": "markdown",
   "metadata": {},
   "source": [
    "1. Dla danych wejściowych (patrz sekcja input)\n",
    "1. Policz wystąpienia każdej z group\n",
    "1. Zdefiniuj grupy\n",
    "\n",
    "    * ``small`` - liczby z przedziału [0-2]\n",
    "    * ``medium`` - liczby z przedziału [3-7]\n",
    "    * ``large`` - liczby z przedziału [8-9]\n",
    "\n",
    "1. Wypisz ``OUTPUT: Dict[str, int]``:\n",
    "\n",
    "    * klucz - grupa\n",
    "    * wartość - liczba wystąpień\n",
    "\n",
    "1. Porównaj wynik z sekcją \"Output\" poniżej"
   ]
  },
  {
   "cell_type": "code",
   "execution_count": 94,
   "metadata": {},
   "outputs": [
    {
     "name": "stdout",
     "output_type": "stream",
     "text": [
      "{'small': 16, 'medium': 23, 'large': 11}\n"
     ]
    }
   ],
   "source": [
    "DATA = [1, 4, 6, 7, 4, 4, 4, 5, 1, 7, 0, 0, 6, 5, 0, 0, 9, 7, 0, 4, 4, 8,\n",
    "         2, 4, 0, 0, 1, 9, 1, 7, 8, 8, 9, 1, 3, 5, 6, 8, 2, 8, 1, 3, 9, 5,\n",
    "         4, 8, 1, 9, 6, 3]\n",
    "\n",
    "OUTPUT = {\n",
    "    'small': 0,\n",
    "    'medium': 0,\n",
    "    'large': 0,\n",
    "}\n",
    "\n",
    "for digit in DATA:\n",
    "    if 0 <= digit <= 2:\n",
    "        OUTPUT['small'] += 1\n",
    "    elif 3 <= digit <= 7:\n",
    "        OUTPUT['medium'] += 1\n",
    "    elif 8 <= digit <= 9:\n",
    "        OUTPUT['large'] += 1\n",
    "        \n",
    "print(OUTPUT)"
   ]
  },
  {
   "cell_type": "markdown",
   "metadata": {},
   "source": [
    "## 7.2.5.c. Text analysis"
   ]
  },
  {
   "cell_type": "markdown",
   "metadata": {},
   "source": [
    "1. Given is text of the \"Moon Speech\" by John F. Kennedy's (see below)\n",
    "1. Sentences are separated by period (``.``)\n",
    "1. Clean each sentence from whitespaces at the beginning and at the end\n",
    "1. Words are separated by spaces\n",
    "1. Print the total number in whole text:\n",
    "\n",
    "    * adverbs (words ending with \"ly\")\n",
    "    * sentences\n",
    "    * words\n",
    "    * letters\n",
    "    * characters (including spaces inside sentences, but without periods ``.``)\n",
    "    * comas (``,``)\n",
    "\n",
    "1. Compare results with \"Output\" section below"
   ]
  },
  {
   "cell_type": "code",
   "execution_count": 95,
   "metadata": {},
   "outputs": [
    {
     "name": "stdout",
     "output_type": "stream",
     "text": [
      "Sentences: 7\n",
      "Words: 71\n",
      "Characters: 347\n",
      "Letters: 283\n",
      "Commas: 1\n",
      "Adverbs: 0\n"
     ]
    }
   ],
   "source": [
    "TEXT = 'We choose to go to the Moon. We choose to go to the Moon in this decade and do the other things. Not because they are easy, but because they are hard. Because that goal will serve to organize and measure the best of our energies and skills. Because that challenge is one that we are willing to accept. One we are unwilling to postpone. And one we intend to win'\n",
    "\n",
    "total_sentences = 0\n",
    "total_words = 0\n",
    "total_chars = 0\n",
    "total_letters = 0\n",
    "total_commas = 0\n",
    "total_adverbs = 0\n",
    "\n",
    "\n",
    "for sentence in TEXT.split('.'):\n",
    "\n",
    "    sentence = sentence.strip()\n",
    "    words = sentence.split()\n",
    "    characters = sentence.replace(',', '')\n",
    "    letters = characters.replace(' ', '')\n",
    "\n",
    "    total_sentences += 1\n",
    "    total_words += len(words)\n",
    "    total_chars += len(characters)\n",
    "    total_letters += len(letters)\n",
    "    total_commas += sentence.count(',')\n",
    "\n",
    "    for word in words:\n",
    "        if word.endswith('ly'):\n",
    "            total_adverbs += 1\n",
    "\n",
    "\n",
    "print(f'Sentences: {total_sentences}')\n",
    "print(f'Words: {total_words}')\n",
    "print(f'Characters: {total_chars}')\n",
    "print(f'Letters: {total_letters}')\n",
    "print(f'Commas: {total_commas}')\n",
    "print(f'Adverbs: {total_adverbs}')\n"
   ]
  },
  {
   "cell_type": "code",
   "execution_count": null,
   "metadata": {},
   "outputs": [],
   "source": []
  }
 ],
 "metadata": {
  "kernelspec": {
   "display_name": "Python 3",
   "language": "python",
   "name": "python3"
  },
  "language_info": {
   "codemirror_mode": {
    "name": "ipython",
    "version": 3
   },
   "file_extension": ".py",
   "mimetype": "text/x-python",
   "name": "python",
   "nbconvert_exporter": "python",
   "pygments_lexer": "ipython3",
   "version": "3.8.1"
  }
 },
 "nbformat": 4,
 "nbformat_minor": 4
}
